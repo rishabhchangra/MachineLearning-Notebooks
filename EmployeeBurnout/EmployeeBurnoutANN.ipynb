{
  "nbformat": 4,
  "nbformat_minor": 5,
  "metadata": {
    "kernelspec": {
      "display_name": "Python 3",
      "language": "python",
      "name": "python3"
    },
    "language_info": {
      "codemirror_mode": {
        "name": "ipython",
        "version": 3
      },
      "file_extension": ".py",
      "mimetype": "text/x-python",
      "name": "python",
      "nbconvert_exporter": "python",
      "pygments_lexer": "ipython3",
      "version": "3.8.8"
    },
    "colab": {
      "name": "Assignment_2.ipynb",
      "provenance": [],
      "collapsed_sections": []
    }
  },
  "cells": [
    {
      "cell_type": "code",
      "metadata": {
        "id": "196507ed"
      },
      "source": [
        "import numpy as np\n",
        "import pandas as pd\n",
        "from sklearn.model_selection import train_test_split\n",
        "from sklearn.preprocessing import StandardScaler\n",
        "from sklearn.linear_model import LinearRegression\n",
        "from sklearn.svm import SVR\n",
        "from sklearn.ensemble import RandomForestRegressor\n",
        "from sklearn import metrics\n",
        "from sklearn.metrics import mean_squared_error\n",
        "from sklearn.metrics import mean_absolute_error\n",
        "from math import sqrt\n",
        "from sklearn.model_selection import cross_val_score\n",
        "from sklearn.model_selection import KFold\n",
        "import matplotlib.pyplot as plt"
      ],
      "id": "196507ed",
      "execution_count": 158,
      "outputs": []
    },
    {
      "cell_type": "code",
      "metadata": {
        "id": "KFTMs4I6wJe4"
      },
      "source": [
        "import tensorflow as tf\n",
        "from tensorflow import keras\n",
        "from tensorflow.keras import layers\n",
        "import seaborn as sns"
      ],
      "id": "KFTMs4I6wJe4",
      "execution_count": 159,
      "outputs": []
    },
    {
      "cell_type": "code",
      "metadata": {
        "id": "44de0224"
      },
      "source": [
        "test_results={}\n",
        "\n",
        "rmse=tf.keras.metrics.RootMeanSquaredError()\n",
        "\n",
        "data=pd.read_csv('/train.csv')"
      ],
      "id": "44de0224",
      "execution_count": 160,
      "outputs": []
    },
    {
      "cell_type": "code",
      "metadata": {
        "colab": {
          "base_uri": "https://localhost:8080/",
          "height": 434
        },
        "id": "bea4407c",
        "outputId": "b4f989f5-9baf-4b19-e742-0adc4f397ee6"
      },
      "source": [
        "data"
      ],
      "id": "bea4407c",
      "execution_count": 161,
      "outputs": [
        {
          "output_type": "execute_result",
          "data": {
            "text/html": [
              "<div>\n",
              "<style scoped>\n",
              "    .dataframe tbody tr th:only-of-type {\n",
              "        vertical-align: middle;\n",
              "    }\n",
              "\n",
              "    .dataframe tbody tr th {\n",
              "        vertical-align: top;\n",
              "    }\n",
              "\n",
              "    .dataframe thead th {\n",
              "        text-align: right;\n",
              "    }\n",
              "</style>\n",
              "<table border=\"1\" class=\"dataframe\">\n",
              "  <thead>\n",
              "    <tr style=\"text-align: right;\">\n",
              "      <th></th>\n",
              "      <th>Employee ID</th>\n",
              "      <th>Date of Joining</th>\n",
              "      <th>Gender</th>\n",
              "      <th>Company Type</th>\n",
              "      <th>WFH Setup Available</th>\n",
              "      <th>Designation</th>\n",
              "      <th>Resource Allocation</th>\n",
              "      <th>Mental Fatigue Score</th>\n",
              "      <th>Burn Rate</th>\n",
              "    </tr>\n",
              "  </thead>\n",
              "  <tbody>\n",
              "    <tr>\n",
              "      <th>0</th>\n",
              "      <td>fffe32003000360033003200</td>\n",
              "      <td>2008-09-30</td>\n",
              "      <td>Female</td>\n",
              "      <td>Service</td>\n",
              "      <td>No</td>\n",
              "      <td>2.0</td>\n",
              "      <td>3.0</td>\n",
              "      <td>3.8</td>\n",
              "      <td>0.16</td>\n",
              "    </tr>\n",
              "    <tr>\n",
              "      <th>1</th>\n",
              "      <td>fffe3700360033003500</td>\n",
              "      <td>2008-11-30</td>\n",
              "      <td>Male</td>\n",
              "      <td>Service</td>\n",
              "      <td>Yes</td>\n",
              "      <td>1.0</td>\n",
              "      <td>2.0</td>\n",
              "      <td>5.0</td>\n",
              "      <td>0.36</td>\n",
              "    </tr>\n",
              "    <tr>\n",
              "      <th>2</th>\n",
              "      <td>fffe31003300320037003900</td>\n",
              "      <td>2008-03-10</td>\n",
              "      <td>Female</td>\n",
              "      <td>Product</td>\n",
              "      <td>Yes</td>\n",
              "      <td>2.0</td>\n",
              "      <td>NaN</td>\n",
              "      <td>5.8</td>\n",
              "      <td>0.49</td>\n",
              "    </tr>\n",
              "    <tr>\n",
              "      <th>3</th>\n",
              "      <td>fffe32003400380032003900</td>\n",
              "      <td>2008-11-03</td>\n",
              "      <td>Male</td>\n",
              "      <td>Service</td>\n",
              "      <td>Yes</td>\n",
              "      <td>1.0</td>\n",
              "      <td>1.0</td>\n",
              "      <td>2.6</td>\n",
              "      <td>0.20</td>\n",
              "    </tr>\n",
              "    <tr>\n",
              "      <th>4</th>\n",
              "      <td>fffe31003900340031003600</td>\n",
              "      <td>2008-07-24</td>\n",
              "      <td>Female</td>\n",
              "      <td>Service</td>\n",
              "      <td>No</td>\n",
              "      <td>3.0</td>\n",
              "      <td>7.0</td>\n",
              "      <td>6.9</td>\n",
              "      <td>0.52</td>\n",
              "    </tr>\n",
              "    <tr>\n",
              "      <th>...</th>\n",
              "      <td>...</td>\n",
              "      <td>...</td>\n",
              "      <td>...</td>\n",
              "      <td>...</td>\n",
              "      <td>...</td>\n",
              "      <td>...</td>\n",
              "      <td>...</td>\n",
              "      <td>...</td>\n",
              "      <td>...</td>\n",
              "    </tr>\n",
              "    <tr>\n",
              "      <th>22745</th>\n",
              "      <td>fffe31003500370039003100</td>\n",
              "      <td>2008-12-30</td>\n",
              "      <td>Female</td>\n",
              "      <td>Service</td>\n",
              "      <td>No</td>\n",
              "      <td>1.0</td>\n",
              "      <td>3.0</td>\n",
              "      <td>NaN</td>\n",
              "      <td>0.41</td>\n",
              "    </tr>\n",
              "    <tr>\n",
              "      <th>22746</th>\n",
              "      <td>fffe33003000350031003800</td>\n",
              "      <td>2008-01-19</td>\n",
              "      <td>Female</td>\n",
              "      <td>Product</td>\n",
              "      <td>Yes</td>\n",
              "      <td>3.0</td>\n",
              "      <td>6.0</td>\n",
              "      <td>6.7</td>\n",
              "      <td>0.59</td>\n",
              "    </tr>\n",
              "    <tr>\n",
              "      <th>22747</th>\n",
              "      <td>fffe390032003000</td>\n",
              "      <td>2008-11-05</td>\n",
              "      <td>Male</td>\n",
              "      <td>Service</td>\n",
              "      <td>Yes</td>\n",
              "      <td>3.0</td>\n",
              "      <td>7.0</td>\n",
              "      <td>NaN</td>\n",
              "      <td>0.72</td>\n",
              "    </tr>\n",
              "    <tr>\n",
              "      <th>22748</th>\n",
              "      <td>fffe33003300320036003900</td>\n",
              "      <td>2008-01-10</td>\n",
              "      <td>Female</td>\n",
              "      <td>Service</td>\n",
              "      <td>No</td>\n",
              "      <td>2.0</td>\n",
              "      <td>5.0</td>\n",
              "      <td>5.9</td>\n",
              "      <td>0.52</td>\n",
              "    </tr>\n",
              "    <tr>\n",
              "      <th>22749</th>\n",
              "      <td>fffe3400350031003800</td>\n",
              "      <td>2008-01-06</td>\n",
              "      <td>Male</td>\n",
              "      <td>Product</td>\n",
              "      <td>No</td>\n",
              "      <td>3.0</td>\n",
              "      <td>6.0</td>\n",
              "      <td>7.8</td>\n",
              "      <td>0.61</td>\n",
              "    </tr>\n",
              "  </tbody>\n",
              "</table>\n",
              "<p>22750 rows × 9 columns</p>\n",
              "</div>"
            ],
            "text/plain": [
              "                    Employee ID  ... Burn Rate\n",
              "0      fffe32003000360033003200  ...      0.16\n",
              "1          fffe3700360033003500  ...      0.36\n",
              "2      fffe31003300320037003900  ...      0.49\n",
              "3      fffe32003400380032003900  ...      0.20\n",
              "4      fffe31003900340031003600  ...      0.52\n",
              "...                         ...  ...       ...\n",
              "22745  fffe31003500370039003100  ...      0.41\n",
              "22746  fffe33003000350031003800  ...      0.59\n",
              "22747          fffe390032003000  ...      0.72\n",
              "22748  fffe33003300320036003900  ...      0.52\n",
              "22749      fffe3400350031003800  ...      0.61\n",
              "\n",
              "[22750 rows x 9 columns]"
            ]
          },
          "metadata": {},
          "execution_count": 161
        }
      ]
    },
    {
      "cell_type": "code",
      "metadata": {
        "id": "decb1da8"
      },
      "source": [
        "df=data.copy()"
      ],
      "id": "decb1da8",
      "execution_count": 162,
      "outputs": []
    },
    {
      "cell_type": "code",
      "metadata": {
        "id": "fd5e85f1"
      },
      "source": [
        "#droping employee Id column\n",
        "df= df.drop(\"Employee ID\", axis=1)"
      ],
      "id": "fd5e85f1",
      "execution_count": 163,
      "outputs": []
    },
    {
      "cell_type": "code",
      "metadata": {
        "colab": {
          "base_uri": "https://localhost:8080/"
        },
        "id": "a93dbd61",
        "outputId": "e21ffddb-2d29-4260-9319-1d5b6fc9732e"
      },
      "source": [
        "#checking the null values \n",
        "df.isna().sum()"
      ],
      "id": "a93dbd61",
      "execution_count": 164,
      "outputs": [
        {
          "output_type": "execute_result",
          "data": {
            "text/plain": [
              "Date of Joining            0\n",
              "Gender                     0\n",
              "Company Type               0\n",
              "WFH Setup Available        0\n",
              "Designation                0\n",
              "Resource Allocation     1381\n",
              "Mental Fatigue Score    2117\n",
              "Burn Rate               1124\n",
              "dtype: int64"
            ]
          },
          "metadata": {},
          "execution_count": 164
        }
      ]
    },
    {
      "cell_type": "code",
      "metadata": {
        "id": "5b6da4fd"
      },
      "source": [
        "#dropping the rows with null values for Resource Allocation, Mental Fatigue Score and Burn Rate\n",
        "missing_rows=df.loc[df['Resource Allocation'].isna(), :].index\n",
        "df= df.drop(missing_rows, axis=0).reset_index(drop=True)\n",
        "\n",
        "missing_rows=df.loc[df['Burn Rate'].isna(), :].index\n",
        "df= df.drop(missing_rows, axis=0).reset_index(drop=True)\n",
        "\n",
        "missing_rows=df.loc[df['Mental Fatigue Score'].isna(), :].index\n",
        "df= df.drop(missing_rows, axis=0).reset_index(drop=True)\n",
        "\n"
      ],
      "id": "5b6da4fd",
      "execution_count": 165,
      "outputs": []
    },
    {
      "cell_type": "code",
      "metadata": {
        "colab": {
          "base_uri": "https://localhost:8080/"
        },
        "id": "1970b897",
        "outputId": "978159cc-cb79-4031-938a-104187d2a2f8"
      },
      "source": [
        "df.isna().sum()"
      ],
      "id": "1970b897",
      "execution_count": 166,
      "outputs": [
        {
          "output_type": "execute_result",
          "data": {
            "text/plain": [
              "Date of Joining         0\n",
              "Gender                  0\n",
              "Company Type            0\n",
              "WFH Setup Available     0\n",
              "Designation             0\n",
              "Resource Allocation     0\n",
              "Mental Fatigue Score    0\n",
              "Burn Rate               0\n",
              "dtype: int64"
            ]
          },
          "metadata": {},
          "execution_count": 166
        }
      ]
    },
    {
      "cell_type": "code",
      "metadata": {
        "id": "007ddcd0"
      },
      "source": [
        "df['Date of Joining']=pd.to_datetime(df['Date of Joining'])\n",
        "df['Day of Joining']= df['Date of Joining'].apply(lambda x : x.day)\n",
        "df['Month of Joining']= df['Date of Joining'].apply(lambda x : x.month)\n",
        "df['Year of Joining']= df['Date of Joining'].apply(lambda x : x.year)"
      ],
      "id": "007ddcd0",
      "execution_count": 167,
      "outputs": []
    },
    {
      "cell_type": "code",
      "metadata": {
        "colab": {
          "base_uri": "https://localhost:8080/"
        },
        "id": "774c2b33",
        "outputId": "70a2513f-79ec-48cc-e2e7-3da24d440800"
      },
      "source": [
        "{column : len(df[column].unique()) for column in df.columns }"
      ],
      "id": "774c2b33",
      "execution_count": 168,
      "outputs": [
        {
          "output_type": "execute_result",
          "data": {
            "text/plain": [
              "{'Burn Rate': 101,\n",
              " 'Company Type': 2,\n",
              " 'Date of Joining': 366,\n",
              " 'Day of Joining': 31,\n",
              " 'Designation': 6,\n",
              " 'Gender': 2,\n",
              " 'Mental Fatigue Score': 101,\n",
              " 'Month of Joining': 12,\n",
              " 'Resource Allocation': 10,\n",
              " 'WFH Setup Available': 2,\n",
              " 'Year of Joining': 1}"
            ]
          },
          "metadata": {},
          "execution_count": 168
        }
      ]
    },
    {
      "cell_type": "code",
      "metadata": {
        "colab": {
          "base_uri": "https://localhost:8080/"
        },
        "id": "fa5849a1",
        "outputId": "db831cef-83f2-4091-e2a1-175468065903"
      },
      "source": [
        "len(df['Year of Joining'].unique())"
      ],
      "id": "fa5849a1",
      "execution_count": 169,
      "outputs": [
        {
          "output_type": "execute_result",
          "data": {
            "text/plain": [
              "1"
            ]
          },
          "metadata": {},
          "execution_count": 169
        }
      ]
    },
    {
      "cell_type": "code",
      "metadata": {
        "id": "b14a0fbd"
      },
      "source": [
        "df= df.drop('Year of Joining', axis=1)\n",
        "df= df.drop('Date of Joining', axis=1)"
      ],
      "id": "b14a0fbd",
      "execution_count": 170,
      "outputs": []
    },
    {
      "cell_type": "code",
      "metadata": {
        "id": "c37c7a37"
      },
      "source": [
        "# Binary Encoding \n",
        "\n",
        "df['Gender']= df['Gender'].replace({'Female':0, 'Male': 1})\n",
        "df['Company Type']= df['Company Type'].replace({'Product':0, 'Service': 1})\n",
        "df['WFH Setup Available']= df['WFH Setup Available'].replace({'No':0, 'Yes': 1})"
      ],
      "id": "c37c7a37",
      "execution_count": 171,
      "outputs": []
    },
    {
      "cell_type": "code",
      "metadata": {
        "id": "4zk3Hc3cDbYK"
      },
      "source": [
        "def plot_loss(history):\n",
        "  plt.plot(history.history['loss'], label='loss')\n",
        "  plt.plot(history.history['val_loss'], label='val_loss')\n",
        "  plt.ylim([0, 0.04])\n",
        "  plt.xlabel('Epoch')\n",
        "  plt.ylabel('Error [Burn Rate')\n",
        "  plt.legend()\n",
        "  plt.grid(True)"
      ],
      "id": "4zk3Hc3cDbYK",
      "execution_count": 172,
      "outputs": []
    },
    {
      "cell_type": "code",
      "metadata": {
        "id": "Sc3EjoHWtMHG"
      },
      "source": [
        "def plot_mae(history):\n",
        "  plt.plot(history.history['mae'], label='mae')\n",
        "  plt.plot(history.history['val_mae'], label='val_mae')\n",
        "  plt.ylim([0, 0.15])\n",
        "  plt.xlabel('Epoch')\n",
        "  plt.ylabel('Error [Burn Rate')\n",
        "  plt.legend()\n",
        "  plt.grid(True)"
      ],
      "id": "Sc3EjoHWtMHG",
      "execution_count": 173,
      "outputs": []
    },
    {
      "cell_type": "code",
      "metadata": {
        "id": "2badf8cc",
        "colab": {
          "base_uri": "https://localhost:8080/",
          "height": 434
        },
        "outputId": "92386d8a-d84f-40de-98ce-86dbdc431648"
      },
      "source": [
        "df"
      ],
      "id": "2badf8cc",
      "execution_count": 174,
      "outputs": [
        {
          "output_type": "execute_result",
          "data": {
            "text/html": [
              "<div>\n",
              "<style scoped>\n",
              "    .dataframe tbody tr th:only-of-type {\n",
              "        vertical-align: middle;\n",
              "    }\n",
              "\n",
              "    .dataframe tbody tr th {\n",
              "        vertical-align: top;\n",
              "    }\n",
              "\n",
              "    .dataframe thead th {\n",
              "        text-align: right;\n",
              "    }\n",
              "</style>\n",
              "<table border=\"1\" class=\"dataframe\">\n",
              "  <thead>\n",
              "    <tr style=\"text-align: right;\">\n",
              "      <th></th>\n",
              "      <th>Gender</th>\n",
              "      <th>Company Type</th>\n",
              "      <th>WFH Setup Available</th>\n",
              "      <th>Designation</th>\n",
              "      <th>Resource Allocation</th>\n",
              "      <th>Mental Fatigue Score</th>\n",
              "      <th>Burn Rate</th>\n",
              "      <th>Day of Joining</th>\n",
              "      <th>Month of Joining</th>\n",
              "    </tr>\n",
              "  </thead>\n",
              "  <tbody>\n",
              "    <tr>\n",
              "      <th>0</th>\n",
              "      <td>0</td>\n",
              "      <td>1</td>\n",
              "      <td>0</td>\n",
              "      <td>2.0</td>\n",
              "      <td>3.0</td>\n",
              "      <td>3.8</td>\n",
              "      <td>0.16</td>\n",
              "      <td>30</td>\n",
              "      <td>9</td>\n",
              "    </tr>\n",
              "    <tr>\n",
              "      <th>1</th>\n",
              "      <td>1</td>\n",
              "      <td>1</td>\n",
              "      <td>1</td>\n",
              "      <td>1.0</td>\n",
              "      <td>2.0</td>\n",
              "      <td>5.0</td>\n",
              "      <td>0.36</td>\n",
              "      <td>30</td>\n",
              "      <td>11</td>\n",
              "    </tr>\n",
              "    <tr>\n",
              "      <th>2</th>\n",
              "      <td>1</td>\n",
              "      <td>1</td>\n",
              "      <td>1</td>\n",
              "      <td>1.0</td>\n",
              "      <td>1.0</td>\n",
              "      <td>2.6</td>\n",
              "      <td>0.20</td>\n",
              "      <td>3</td>\n",
              "      <td>11</td>\n",
              "    </tr>\n",
              "    <tr>\n",
              "      <th>3</th>\n",
              "      <td>0</td>\n",
              "      <td>1</td>\n",
              "      <td>0</td>\n",
              "      <td>3.0</td>\n",
              "      <td>7.0</td>\n",
              "      <td>6.9</td>\n",
              "      <td>0.52</td>\n",
              "      <td>24</td>\n",
              "      <td>7</td>\n",
              "    </tr>\n",
              "    <tr>\n",
              "      <th>4</th>\n",
              "      <td>1</td>\n",
              "      <td>0</td>\n",
              "      <td>1</td>\n",
              "      <td>2.0</td>\n",
              "      <td>4.0</td>\n",
              "      <td>3.6</td>\n",
              "      <td>0.29</td>\n",
              "      <td>26</td>\n",
              "      <td>11</td>\n",
              "    </tr>\n",
              "    <tr>\n",
              "      <th>...</th>\n",
              "      <td>...</td>\n",
              "      <td>...</td>\n",
              "      <td>...</td>\n",
              "      <td>...</td>\n",
              "      <td>...</td>\n",
              "      <td>...</td>\n",
              "      <td>...</td>\n",
              "      <td>...</td>\n",
              "      <td>...</td>\n",
              "    </tr>\n",
              "    <tr>\n",
              "      <th>18585</th>\n",
              "      <td>0</td>\n",
              "      <td>0</td>\n",
              "      <td>1</td>\n",
              "      <td>1.0</td>\n",
              "      <td>3.0</td>\n",
              "      <td>6.0</td>\n",
              "      <td>0.48</td>\n",
              "      <td>15</td>\n",
              "      <td>12</td>\n",
              "    </tr>\n",
              "    <tr>\n",
              "      <th>18586</th>\n",
              "      <td>1</td>\n",
              "      <td>0</td>\n",
              "      <td>0</td>\n",
              "      <td>3.0</td>\n",
              "      <td>7.0</td>\n",
              "      <td>6.2</td>\n",
              "      <td>0.54</td>\n",
              "      <td>27</td>\n",
              "      <td>5</td>\n",
              "    </tr>\n",
              "    <tr>\n",
              "      <th>18587</th>\n",
              "      <td>0</td>\n",
              "      <td>0</td>\n",
              "      <td>1</td>\n",
              "      <td>3.0</td>\n",
              "      <td>6.0</td>\n",
              "      <td>6.7</td>\n",
              "      <td>0.59</td>\n",
              "      <td>19</td>\n",
              "      <td>1</td>\n",
              "    </tr>\n",
              "    <tr>\n",
              "      <th>18588</th>\n",
              "      <td>0</td>\n",
              "      <td>1</td>\n",
              "      <td>0</td>\n",
              "      <td>2.0</td>\n",
              "      <td>5.0</td>\n",
              "      <td>5.9</td>\n",
              "      <td>0.52</td>\n",
              "      <td>10</td>\n",
              "      <td>1</td>\n",
              "    </tr>\n",
              "    <tr>\n",
              "      <th>18589</th>\n",
              "      <td>1</td>\n",
              "      <td>0</td>\n",
              "      <td>0</td>\n",
              "      <td>3.0</td>\n",
              "      <td>6.0</td>\n",
              "      <td>7.8</td>\n",
              "      <td>0.61</td>\n",
              "      <td>6</td>\n",
              "      <td>1</td>\n",
              "    </tr>\n",
              "  </tbody>\n",
              "</table>\n",
              "<p>18590 rows × 9 columns</p>\n",
              "</div>"
            ],
            "text/plain": [
              "       Gender  Company Type  ...  Day of Joining  Month of Joining\n",
              "0           0             1  ...              30                 9\n",
              "1           1             1  ...              30                11\n",
              "2           1             1  ...               3                11\n",
              "3           0             1  ...              24                 7\n",
              "4           1             0  ...              26                11\n",
              "...       ...           ...  ...             ...               ...\n",
              "18585       0             0  ...              15                12\n",
              "18586       1             0  ...              27                 5\n",
              "18587       0             0  ...              19                 1\n",
              "18588       0             1  ...              10                 1\n",
              "18589       1             0  ...               6                 1\n",
              "\n",
              "[18590 rows x 9 columns]"
            ]
          },
          "metadata": {},
          "execution_count": 174
        }
      ]
    },
    {
      "cell_type": "code",
      "metadata": {
        "id": "adf5cade"
      },
      "source": [
        "# Split the data into x and y\n",
        "\n",
        "y= df['Burn Rate']\n",
        "x= df.drop('Burn Rate', axis=1)\n",
        "\n",
        "\n",
        "#Train Test Split\n",
        "x_train, x_test, y_train, y_test= train_test_split(x,y,train_size=0.8,random_state=1)"
      ],
      "id": "adf5cade",
      "execution_count": 175,
      "outputs": []
    },
    {
      "cell_type": "code",
      "metadata": {
        "id": "a998b5c0"
      },
      "source": [
        "scaler=StandardScaler()\n",
        "scaler.fit(x_train)\n",
        "x_train=pd.DataFrame(scaler.transform(x_train), index= x_train.index, columns=x_train.columns)\n",
        "x_test=pd.DataFrame(scaler.transform(x_test), index= x_test.index, columns=x_test.columns)"
      ],
      "id": "a998b5c0",
      "execution_count": 176,
      "outputs": []
    },
    {
      "cell_type": "code",
      "metadata": {
        "id": "3wRHvv1lI7_v"
      },
      "source": [
        "def add_test_results(m,mae_train,mse_train,rmse_train,MAE,MSE,RMSE):\n",
        "  test_results[m]={'training_errors':[mae_train,mse_train,rmse_train], 'test_errors':[MAE,MSE,RMSE]}\n"
      ],
      "id": "3wRHvv1lI7_v",
      "execution_count": 177,
      "outputs": []
    },
    {
      "cell_type": "code",
      "metadata": {
        "id": "Lcs6caAPJG-p"
      },
      "source": [
        ""
      ],
      "id": "Lcs6caAPJG-p",
      "execution_count": 177,
      "outputs": []
    },
    {
      "cell_type": "markdown",
      "metadata": {
        "id": "0DpUttCox-XI"
      },
      "source": [
        "Model 1 Training\n"
      ],
      "id": "0DpUttCox-XI"
    },
    {
      "cell_type": "code",
      "metadata": {
        "id": "zSqLP0cs9URW",
        "colab": {
          "base_uri": "https://localhost:8080/"
        },
        "outputId": "59edca85-9593-4e55-bbd0-489f4eca7f50"
      },
      "source": [
        "model1=keras.Sequential([\n",
        "layers.Dense(10, activation=tf.nn.relu, input_shape=[len(x_train.keys())]),\n",
        "layers.Dense(10, activation=tf.nn.relu),\n",
        "layers.Dense(10, activation=tf.nn.relu),\n",
        "layers.Dense(10,activation=tf.nn.relu),\n",
        "layers.Dense(10,activation=tf.nn.relu),\n",
        "layers.Dense(1)])\n",
        "\n",
        "model1.compile(keras.optimizers.Adagrad(lr=0.01), loss='mean_squared_error', metrics=['mae','mse',rmse])\n",
        "\n"
      ],
      "id": "zSqLP0cs9URW",
      "execution_count": 178,
      "outputs": [
        {
          "output_type": "stream",
          "name": "stderr",
          "text": [
            "/usr/local/lib/python3.7/dist-packages/keras/optimizer_v2/adagrad.py:74: UserWarning: The `lr` argument is deprecated, use `learning_rate` instead.\n",
            "  super(Adagrad, self).__init__(name, **kwargs)\n"
          ]
        }
      ]
    },
    {
      "cell_type": "code",
      "metadata": {
        "id": "stJwGb7ITXgn"
      },
      "source": [
        ""
      ],
      "id": "stJwGb7ITXgn",
      "execution_count": 178,
      "outputs": []
    },
    {
      "cell_type": "code",
      "metadata": {
        "colab": {
          "base_uri": "https://localhost:8080/"
        },
        "id": "m8oYx734w1TR",
        "outputId": "11da495d-388d-41cc-fbe1-5fa22fea26dd"
      },
      "source": [
        "model1.summary()"
      ],
      "id": "m8oYx734w1TR",
      "execution_count": 179,
      "outputs": [
        {
          "output_type": "stream",
          "name": "stdout",
          "text": [
            "Model: \"sequential_12\"\n",
            "_________________________________________________________________\n",
            " Layer (type)                Output Shape              Param #   \n",
            "=================================================================\n",
            " dense_68 (Dense)            (None, 10)                90        \n",
            "                                                                 \n",
            " dense_69 (Dense)            (None, 10)                110       \n",
            "                                                                 \n",
            " dense_70 (Dense)            (None, 10)                110       \n",
            "                                                                 \n",
            " dense_71 (Dense)            (None, 10)                110       \n",
            "                                                                 \n",
            " dense_72 (Dense)            (None, 10)                110       \n",
            "                                                                 \n",
            " dense_73 (Dense)            (None, 1)                 11        \n",
            "                                                                 \n",
            "=================================================================\n",
            "Total params: 541\n",
            "Trainable params: 541\n",
            "Non-trainable params: 0\n",
            "_________________________________________________________________\n"
          ]
        }
      ]
    },
    {
      "cell_type": "code",
      "metadata": {
        "colab": {
          "base_uri": "https://localhost:8080/"
        },
        "id": "DhE2BzdQxuDN",
        "outputId": "21ecf6c0-d73d-4bc7-95fa-faf450ac57de"
      },
      "source": [
        "history=model1.fit(x_train, y_train, epochs=30, validation_split=0.2,verbose=1, batch_size=100)"
      ],
      "id": "DhE2BzdQxuDN",
      "execution_count": 180,
      "outputs": [
        {
          "output_type": "stream",
          "name": "stdout",
          "text": [
            "Epoch 1/30\n",
            "119/119 [==============================] - 1s 4ms/step - loss: 0.0339 - mae: 0.1392 - mse: 0.0339 - root_mean_squared_error: 0.1840 - val_loss: 0.0168 - val_mae: 0.1041 - val_mse: 0.0168 - val_root_mean_squared_error: 0.1295\n",
            "Epoch 2/30\n",
            "119/119 [==============================] - 0s 2ms/step - loss: 0.0153 - mae: 0.0988 - mse: 0.0153 - root_mean_squared_error: 0.1237 - val_loss: 0.0135 - val_mae: 0.0924 - val_mse: 0.0135 - val_root_mean_squared_error: 0.1161\n",
            "Epoch 3/30\n",
            "119/119 [==============================] - 0s 2ms/step - loss: 0.0130 - mae: 0.0907 - mse: 0.0130 - root_mean_squared_error: 0.1142 - val_loss: 0.0120 - val_mae: 0.0871 - val_mse: 0.0120 - val_root_mean_squared_error: 0.1096\n",
            "Epoch 4/30\n",
            "119/119 [==============================] - 0s 2ms/step - loss: 0.0118 - mae: 0.0862 - mse: 0.0118 - root_mean_squared_error: 0.1087 - val_loss: 0.0111 - val_mae: 0.0837 - val_mse: 0.0111 - val_root_mean_squared_error: 0.1052\n",
            "Epoch 5/30\n",
            "119/119 [==============================] - 0s 2ms/step - loss: 0.0110 - mae: 0.0831 - mse: 0.0110 - root_mean_squared_error: 0.1049 - val_loss: 0.0104 - val_mae: 0.0811 - val_mse: 0.0104 - val_root_mean_squared_error: 0.1021\n",
            "Epoch 6/30\n",
            "119/119 [==============================] - 0s 2ms/step - loss: 0.0104 - mae: 0.0808 - mse: 0.0104 - root_mean_squared_error: 0.1019 - val_loss: 0.0099 - val_mae: 0.0790 - val_mse: 0.0099 - val_root_mean_squared_error: 0.0994\n",
            "Epoch 7/30\n",
            "119/119 [==============================] - 0s 2ms/step - loss: 0.0099 - mae: 0.0787 - mse: 0.0099 - root_mean_squared_error: 0.0995 - val_loss: 0.0095 - val_mae: 0.0772 - val_mse: 0.0095 - val_root_mean_squared_error: 0.0973\n",
            "Epoch 8/30\n",
            "119/119 [==============================] - 0s 2ms/step - loss: 0.0095 - mae: 0.0771 - mse: 0.0095 - root_mean_squared_error: 0.0974 - val_loss: 0.0091 - val_mae: 0.0756 - val_mse: 0.0091 - val_root_mean_squared_error: 0.0953\n",
            "Epoch 9/30\n",
            "119/119 [==============================] - 0s 2ms/step - loss: 0.0091 - mae: 0.0756 - mse: 0.0091 - root_mean_squared_error: 0.0955 - val_loss: 0.0088 - val_mae: 0.0743 - val_mse: 0.0088 - val_root_mean_squared_error: 0.0936\n",
            "Epoch 10/30\n",
            "119/119 [==============================] - 0s 2ms/step - loss: 0.0088 - mae: 0.0743 - mse: 0.0088 - root_mean_squared_error: 0.0939 - val_loss: 0.0085 - val_mae: 0.0730 - val_mse: 0.0085 - val_root_mean_squared_error: 0.0921\n",
            "Epoch 11/30\n",
            "119/119 [==============================] - 0s 2ms/step - loss: 0.0085 - mae: 0.0732 - mse: 0.0085 - root_mean_squared_error: 0.0925 - val_loss: 0.0082 - val_mae: 0.0719 - val_mse: 0.0082 - val_root_mean_squared_error: 0.0907\n",
            "Epoch 12/30\n",
            "119/119 [==============================] - 0s 2ms/step - loss: 0.0083 - mae: 0.0722 - mse: 0.0083 - root_mean_squared_error: 0.0912 - val_loss: 0.0080 - val_mae: 0.0709 - val_mse: 0.0080 - val_root_mean_squared_error: 0.0895\n",
            "Epoch 13/30\n",
            "119/119 [==============================] - 0s 2ms/step - loss: 0.0081 - mae: 0.0712 - mse: 0.0081 - root_mean_squared_error: 0.0900 - val_loss: 0.0079 - val_mae: 0.0702 - val_mse: 0.0079 - val_root_mean_squared_error: 0.0886\n",
            "Epoch 14/30\n",
            "119/119 [==============================] - 0s 2ms/step - loss: 0.0079 - mae: 0.0704 - mse: 0.0079 - root_mean_squared_error: 0.0889 - val_loss: 0.0077 - val_mae: 0.0693 - val_mse: 0.0077 - val_root_mean_squared_error: 0.0875\n",
            "Epoch 15/30\n",
            "119/119 [==============================] - 0s 2ms/step - loss: 0.0077 - mae: 0.0696 - mse: 0.0077 - root_mean_squared_error: 0.0879 - val_loss: 0.0075 - val_mae: 0.0683 - val_mse: 0.0075 - val_root_mean_squared_error: 0.0864\n",
            "Epoch 16/30\n",
            "119/119 [==============================] - 0s 2ms/step - loss: 0.0076 - mae: 0.0690 - mse: 0.0076 - root_mean_squared_error: 0.0871 - val_loss: 0.0073 - val_mae: 0.0675 - val_mse: 0.0073 - val_root_mean_squared_error: 0.0854\n",
            "Epoch 17/30\n",
            "119/119 [==============================] - 0s 2ms/step - loss: 0.0074 - mae: 0.0683 - mse: 0.0074 - root_mean_squared_error: 0.0862 - val_loss: 0.0072 - val_mae: 0.0670 - val_mse: 0.0072 - val_root_mean_squared_error: 0.0847\n",
            "Epoch 18/30\n",
            "119/119 [==============================] - 0s 2ms/step - loss: 0.0073 - mae: 0.0676 - mse: 0.0073 - root_mean_squared_error: 0.0854 - val_loss: 0.0070 - val_mae: 0.0663 - val_mse: 0.0070 - val_root_mean_squared_error: 0.0839\n",
            "Epoch 19/30\n",
            "119/119 [==============================] - 0s 2ms/step - loss: 0.0072 - mae: 0.0671 - mse: 0.0072 - root_mean_squared_error: 0.0847 - val_loss: 0.0069 - val_mae: 0.0656 - val_mse: 0.0069 - val_root_mean_squared_error: 0.0830\n",
            "Epoch 20/30\n",
            "119/119 [==============================] - 0s 2ms/step - loss: 0.0071 - mae: 0.0665 - mse: 0.0071 - root_mean_squared_error: 0.0840 - val_loss: 0.0068 - val_mae: 0.0650 - val_mse: 0.0068 - val_root_mean_squared_error: 0.0823\n",
            "Epoch 21/30\n",
            "119/119 [==============================] - 0s 2ms/step - loss: 0.0069 - mae: 0.0661 - mse: 0.0069 - root_mean_squared_error: 0.0833 - val_loss: 0.0067 - val_mae: 0.0645 - val_mse: 0.0067 - val_root_mean_squared_error: 0.0816\n",
            "Epoch 22/30\n",
            "119/119 [==============================] - 0s 2ms/step - loss: 0.0068 - mae: 0.0655 - mse: 0.0068 - root_mean_squared_error: 0.0827 - val_loss: 0.0066 - val_mae: 0.0640 - val_mse: 0.0066 - val_root_mean_squared_error: 0.0810\n",
            "Epoch 23/30\n",
            "119/119 [==============================] - 0s 2ms/step - loss: 0.0067 - mae: 0.0651 - mse: 0.0067 - root_mean_squared_error: 0.0821 - val_loss: 0.0065 - val_mae: 0.0635 - val_mse: 0.0065 - val_root_mean_squared_error: 0.0804\n",
            "Epoch 24/30\n",
            "119/119 [==============================] - 0s 2ms/step - loss: 0.0067 - mae: 0.0647 - mse: 0.0067 - root_mean_squared_error: 0.0816 - val_loss: 0.0064 - val_mae: 0.0632 - val_mse: 0.0064 - val_root_mean_squared_error: 0.0799\n",
            "Epoch 25/30\n",
            "119/119 [==============================] - 0s 2ms/step - loss: 0.0066 - mae: 0.0643 - mse: 0.0066 - root_mean_squared_error: 0.0810 - val_loss: 0.0063 - val_mae: 0.0626 - val_mse: 0.0063 - val_root_mean_squared_error: 0.0793\n",
            "Epoch 26/30\n",
            "119/119 [==============================] - 0s 2ms/step - loss: 0.0065 - mae: 0.0639 - mse: 0.0065 - root_mean_squared_error: 0.0805 - val_loss: 0.0062 - val_mae: 0.0623 - val_mse: 0.0062 - val_root_mean_squared_error: 0.0788\n",
            "Epoch 27/30\n",
            "119/119 [==============================] - 0s 2ms/step - loss: 0.0064 - mae: 0.0635 - mse: 0.0064 - root_mean_squared_error: 0.0800 - val_loss: 0.0061 - val_mae: 0.0619 - val_mse: 0.0061 - val_root_mean_squared_error: 0.0783\n",
            "Epoch 28/30\n",
            "119/119 [==============================] - 0s 2ms/step - loss: 0.0063 - mae: 0.0631 - mse: 0.0063 - root_mean_squared_error: 0.0795 - val_loss: 0.0061 - val_mae: 0.0616 - val_mse: 0.0061 - val_root_mean_squared_error: 0.0779\n",
            "Epoch 29/30\n",
            "119/119 [==============================] - 0s 2ms/step - loss: 0.0062 - mae: 0.0627 - mse: 0.0062 - root_mean_squared_error: 0.0790 - val_loss: 0.0060 - val_mae: 0.0612 - val_mse: 0.0060 - val_root_mean_squared_error: 0.0774\n",
            "Epoch 30/30\n",
            "119/119 [==============================] - 0s 2ms/step - loss: 0.0062 - mae: 0.0624 - mse: 0.0062 - root_mean_squared_error: 0.0786 - val_loss: 0.0059 - val_mae: 0.0609 - val_mse: 0.0059 - val_root_mean_squared_error: 0.0770\n"
          ]
        }
      ]
    },
    {
      "cell_type": "code",
      "metadata": {
        "id": "M4Q7t9oiattE"
      },
      "source": [
        ""
      ],
      "id": "M4Q7t9oiattE",
      "execution_count": 180,
      "outputs": []
    },
    {
      "cell_type": "code",
      "metadata": {
        "id": "G9aSeZ0h1Dj9"
      },
      "source": [
        "hist=pd.DataFrame(history.history)\n",
        "hist['epoch']=history.epoch\n",
        "hist"
      ],
      "id": "G9aSeZ0h1Dj9",
      "execution_count": null,
      "outputs": []
    },
    {
      "cell_type": "code",
      "metadata": {
        "colab": {
          "base_uri": "https://localhost:8080/",
          "height": 283
        },
        "id": "krDuzS7TA1O3",
        "outputId": "d869f861-3c21-4ff4-92a0-442ca900114f"
      },
      "source": [
        "plot_loss(history)\n"
      ],
      "id": "krDuzS7TA1O3",
      "execution_count": 182,
      "outputs": [
        {
          "output_type": "display_data",
          "data": {
            "image/png": "[encoded data removed]",
            "text/plain": [
              "<Figure size 432x288 with 1 Axes>"
            ]
          },
          "metadata": {
            "needs_background": "light"
          }
        }
      ]
    },
    {
      "cell_type": "code",
      "metadata": {
        "colab": {
          "base_uri": "https://localhost:8080/",
          "height": 279
        },
        "id": "fhWji-jctZqm",
        "outputId": "acca6501-d269-42e7-cd10-f4ec7a4cb691"
      },
      "source": [
        "plot_mae(history)"
      ],
      "id": "fhWji-jctZqm",
      "execution_count": 183,
      "outputs": [
        {
          "output_type": "display_data",
          "data": {
            "image/png": "[encoded data removed]",
            "text/plain": [
              "<Figure size 432x288 with 1 Axes>"
            ]
          },
          "metadata": {
            "needs_background": "light"
          }
        }
      ]
    },
    {
      "cell_type": "code",
      "metadata": {
        "colab": {
          "base_uri": "https://localhost:8080/"
        },
        "id": "A-gKLdPGgLQx",
        "outputId": "25288482-cd1e-4cbc-8569-2b388407910d"
      },
      "source": [
        "y_pred_train=model1.predict(x_train)\n",
        "mae_train=mean_absolute_error(y_train, y_pred_train)\n",
        "mse_train=mean_squared_error(y_train,y_pred_train)\n",
        "rmse_train=sqrt(mean_squared_error(y_train,y_pred_train))\n",
        "\n",
        "y_pred=model1.predict(x_test)\n",
        "MAE= mean_absolute_error(y_test, y_pred)\n",
        "MSE=mean_squared_error(y_test,y_pred)\n",
        "RMSE= sqrt(mean_squared_error(y_test,y_pred))\n",
        "\n",
        "print(\"Mean Absolute Error for Training Set :\",mae_train )\n",
        "print(\"Mean square Error for Training Set:\",mse_train )\n",
        "print(\"Root Mean square Error for Training Set:\", rmse_train)\n",
        "\n",
        "print(\"Mean Absolute Error for Test Set :\", MAE)\n",
        "print(\"Mean square Error for Test Set:\", MSE)\n",
        "print(\"Root Mean square Error for Test Set:\", RMSE)"
      ],
      "id": "A-gKLdPGgLQx",
      "execution_count": 184,
      "outputs": [
        {
          "output_type": "stream",
          "name": "stdout",
          "text": [
            "Mean Absolute Error for Training Set : 0.06195939986094344\n",
            "Mean square Error for Training Set: 0.006087498421570673\n",
            "Root Mean square Error for Training Set: 0.07802242255640793\n",
            "Mean Absolute Error for Test Set : 0.06259474749892806\n",
            "Mean square Error for Test Set: 0.006117453824615613\n",
            "Root Mean square Error for Test Set: 0.07821415360799867\n"
          ]
        }
      ]
    },
    {
      "cell_type": "code",
      "metadata": {
        "id": "UxMEjYrRg0Vl"
      },
      "source": [
        "add_test_results('m1',mae_train,mse_train,rmse_train,MAE,MSE,RMSE)"
      ],
      "id": "UxMEjYrRg0Vl",
      "execution_count": 185,
      "outputs": []
    },
    {
      "cell_type": "code",
      "metadata": {
        "colab": {
          "base_uri": "https://localhost:8080/",
          "height": 283
        },
        "id": "zQLkOmkn_3nI",
        "outputId": "fa1d1f8f-3df5-4ee7-ae43-c254b5506ef3"
      },
      "source": [
        "plt.scatter(y_test, y_pred)\n",
        "plt.xlabel('Actual Values [Burn Rate]')\n",
        "plt.ylabel('Predictions [Burn Rate]')\n",
        "lims = [0, 1]\n",
        "plt.xlim(0,1)\n",
        "plt.ylim(lims)\n",
        "_ = plt.plot(lims, lims)"
      ],
      "id": "zQLkOmkn_3nI",
      "execution_count": 186,
      "outputs": [
        {
          "output_type": "display_data",
          "data": {
            "image/png": "[encoded data removed]",
            "text/plain": [
              "<Figure size 432x288 with 1 Axes>"
            ]
          },
          "metadata": {
            "needs_background": "light"
          }
        }
      ]
    },
    {
      "cell_type": "code",
      "metadata": {
        "id": "KQLkQPZwrL2H"
      },
      "source": [
        "\n",
        "\n"
      ],
      "id": "KQLkQPZwrL2H",
      "execution_count": 186,
      "outputs": []
    },
    {
      "cell_type": "markdown",
      "metadata": {
        "id": "Tve02FGoyFGx"
      },
      "source": [
        "Model 2 Training"
      ],
      "id": "Tve02FGoyFGx"
    },
    {
      "cell_type": "code",
      "metadata": {
        "colab": {
          "base_uri": "https://localhost:8080/"
        },
        "id": "VVfx0DLIxk70",
        "outputId": "8f102104-3a1b-4bf9-e13a-8708641d7362"
      },
      "source": [
        "model2=keras.Sequential([\n",
        "layers.Dense(12, activation=tf.nn.relu, input_shape=[len(x_train.keys())]),\n",
        "layers.Dense(24, activation=tf.nn.relu),\n",
        "layers.Dense(10, activation=tf.nn.relu),\n",
        "layers.Dense(10,activation=tf.nn.relu),\n",
        "layers.Dense(10,activation=tf.nn.relu),\n",
        "layers.Dense(1)])\n",
        "\n",
        "model2.compile(keras.optimizers.Adagrad(lr=0.01), loss='mean_squared_error', metrics=['mae','mse',rmse])\n"
      ],
      "id": "VVfx0DLIxk70",
      "execution_count": 187,
      "outputs": [
        {
          "output_type": "stream",
          "name": "stderr",
          "text": [
            "/usr/local/lib/python3.7/dist-packages/keras/optimizer_v2/adagrad.py:74: UserWarning: The `lr` argument is deprecated, use `learning_rate` instead.\n",
            "  super(Adagrad, self).__init__(name, **kwargs)\n"
          ]
        }
      ]
    },
    {
      "cell_type": "code",
      "metadata": {
        "colab": {
          "base_uri": "https://localhost:8080/"
        },
        "id": "GiRmI_G2xlPK",
        "outputId": "5d2a6010-288e-4b70-8b83-6c1b314e1a4e"
      },
      "source": [
        "model2.summary()"
      ],
      "id": "GiRmI_G2xlPK",
      "execution_count": 188,
      "outputs": [
        {
          "output_type": "stream",
          "name": "stdout",
          "text": [
            "Model: \"sequential_13\"\n",
            "_________________________________________________________________\n",
            " Layer (type)                Output Shape              Param #   \n",
            "=================================================================\n",
            " dense_74 (Dense)            (None, 12)                108       \n",
            "                                                                 \n",
            " dense_75 (Dense)            (None, 24)                312       \n",
            "                                                                 \n",
            " dense_76 (Dense)            (None, 10)                250       \n",
            "                                                                 \n",
            " dense_77 (Dense)            (None, 10)                110       \n",
            "                                                                 \n",
            " dense_78 (Dense)            (None, 10)                110       \n",
            "                                                                 \n",
            " dense_79 (Dense)            (None, 1)                 11        \n",
            "                                                                 \n",
            "=================================================================\n",
            "Total params: 901\n",
            "Trainable params: 901\n",
            "Non-trainable params: 0\n",
            "_________________________________________________________________\n"
          ]
        }
      ]
    },
    {
      "cell_type": "code",
      "metadata": {
        "id": "Cxd9WNB-xlSf"
      },
      "source": [
        "history=model2.fit(x_train, y_train, epochs=30, validation_split=0.2,verbose=0, batch_size=100)"
      ],
      "id": "Cxd9WNB-xlSf",
      "execution_count": 189,
      "outputs": []
    },
    {
      "cell_type": "code",
      "metadata": {
        "id": "udULSrTMCaaf"
      },
      "source": [
        "hist=pd.DataFrame(history.history)\n",
        "hist['epoch']=history.epoch\n",
        "hist"
      ],
      "id": "udULSrTMCaaf",
      "execution_count": null,
      "outputs": []
    },
    {
      "cell_type": "code",
      "metadata": {
        "colab": {
          "base_uri": "https://localhost:8080/",
          "height": 283
        },
        "id": "ASosA6CrxlVt",
        "outputId": "5c0c977e-63cb-4e68-9699-181aeb2cc8a2"
      },
      "source": [
        "plt.plot(history.history['loss'], label='loss')\n",
        "plt.plot(history.history['val_loss'], label='val_loss')\n",
        "plt.ylim([0, 0.01])\n",
        "plt.xlabel('Epoch')\n",
        "plt.ylabel('Error [Burn Rate')\n",
        "plt.legend()\n",
        "plt.grid(True)"
      ],
      "id": "ASosA6CrxlVt",
      "execution_count": 191,
      "outputs": [
        {
          "output_type": "display_data",
          "data": {
            "image/png": "[encoded data removed]",
            "text/plain": [
              "<Figure size 432x288 with 1 Axes>"
            ]
          },
          "metadata": {
            "needs_background": "light"
          }
        }
      ]
    },
    {
      "cell_type": "code",
      "metadata": {
        "colab": {
          "base_uri": "https://localhost:8080/",
          "height": 283
        },
        "id": "eJQqnkBoxlXY",
        "outputId": "08cd4da3-24c0-484e-e518-84353c413233"
      },
      "source": [
        "plt.plot(history.history['mae'], label='mae')\n",
        "plt.plot(history.history['val_mae'], label='val_mae')\n",
        "plt.ylim([0, 0.1])\n",
        "plt.xlabel('Epoch')\n",
        "plt.ylabel('Error [Burn Rate')\n",
        "plt.legend()\n",
        "plt.grid(True)"
      ],
      "id": "eJQqnkBoxlXY",
      "execution_count": 192,
      "outputs": [
        {
          "output_type": "display_data",
          "data": {
            "image/png": "[encoded data removed]",
            "text/plain": [
              "<Figure size 432x288 with 1 Axes>"
            ]
          },
          "metadata": {
            "needs_background": "light"
          }
        }
      ]
    },
    {
      "cell_type": "code",
      "metadata": {
        "colab": {
          "base_uri": "https://localhost:8080/"
        },
        "id": "4bj9LM60xlaN",
        "outputId": "ff7d2446-5bf8-4feb-ae42-60466513b00a"
      },
      "source": [
        "y_pred_train=model2.predict(x_train)\n",
        "mae_train=mean_absolute_error(y_train, y_pred_train)\n",
        "mse_train=mean_squared_error(y_train,y_pred_train)\n",
        "rmse_train=sqrt(mean_squared_error(y_train,y_pred_train))\n",
        "\n",
        "y_pred=model2.predict(x_test)\n",
        "MAE= mean_absolute_error(y_test, y_pred)\n",
        "MSE=mean_squared_error(y_test,y_pred)\n",
        "RMSE= sqrt(mean_squared_error(y_test,y_pred))\n",
        "\n",
        "print(\"Mean Absolute Error for Training Set :\",mae_train )\n",
        "print(\"Mean square Error for Training Set:\",mse_train )\n",
        "print(\"Root Mean square Error for Training Set:\", rmse_train)\n",
        "\n",
        "print(\"Mean Absolute Error for Test Set :\", MAE)\n",
        "print(\"Mean square Error for Test Set:\", MSE)\n",
        "print(\"Root Mean square Error for Test Set:\", RMSE)"
      ],
      "id": "4bj9LM60xlaN",
      "execution_count": 193,
      "outputs": [
        {
          "output_type": "stream",
          "name": "stdout",
          "text": [
            "Mean Absolute Error for Training Set : 0.055858974052435804\n",
            "Mean square Error for Training Set: 0.004797921173614328\n",
            "Root Mean square Error for Training Set: 0.06926702804086753\n",
            "Mean Absolute Error for Test Set : 0.05520834153116294\n",
            "Mean square Error for Test Set: 0.004734098246245043\n",
            "Root Mean square Error for Test Set: 0.06880478360001609\n"
          ]
        }
      ]
    },
    {
      "cell_type": "code",
      "metadata": {
        "id": "4B4qo6ECxlkm"
      },
      "source": [
        "add_test_results('m2',mae_train,mse_train,rmse_train,MAE,MSE,RMSE)"
      ],
      "id": "4B4qo6ECxlkm",
      "execution_count": 194,
      "outputs": []
    },
    {
      "cell_type": "code",
      "metadata": {
        "id": "8rBG4NqJxlqj"
      },
      "source": [
        ""
      ],
      "id": "8rBG4NqJxlqj",
      "execution_count": 194,
      "outputs": []
    },
    {
      "cell_type": "markdown",
      "metadata": {
        "id": "9CSBjXTA0fbC"
      },
      "source": [
        "Model 3 "
      ],
      "id": "9CSBjXTA0fbC"
    },
    {
      "cell_type": "code",
      "metadata": {
        "colab": {
          "base_uri": "https://localhost:8080/"
        },
        "id": "Zb7zZAwa0b8s",
        "outputId": "09cf2d27-7afb-43fb-9000-c9a11bc94b63"
      },
      "source": [
        "model3=keras.Sequential([\n",
        "layers.Dense(8, activation=tf.nn.relu, input_shape=[len(x_train.keys())]),\n",
        "layers.Dense(16, activation=tf.nn.relu),\n",
        "layers.Dense(24, activation=tf.nn.relu),\n",
        "layers.Dense(16,activation=tf.nn.relu),\n",
        "layers.Dense(10,activation=tf.nn.relu),\n",
        "layers.Dense(10,activation=tf.nn.relu),\n",
        "layers.Dense(1)])\n",
        "model3.compile(keras.optimizers.Adagrad(lr=0.1), loss='mean_squared_error', metrics=['mae','mse',rmse])"
      ],
      "id": "Zb7zZAwa0b8s",
      "execution_count": 239,
      "outputs": [
        {
          "output_type": "stream",
          "name": "stderr",
          "text": [
            "/usr/local/lib/python3.7/dist-packages/keras/optimizer_v2/adagrad.py:74: UserWarning: The `lr` argument is deprecated, use `learning_rate` instead.\n",
            "  super(Adagrad, self).__init__(name, **kwargs)\n"
          ]
        }
      ]
    },
    {
      "cell_type": "code",
      "metadata": {
        "colab": {
          "base_uri": "https://localhost:8080/"
        },
        "id": "65PUwwK10cEB",
        "outputId": "3a317892-1877-48bd-f659-a394a2de2856"
      },
      "source": [
        "model3.summary()"
      ],
      "id": "65PUwwK10cEB",
      "execution_count": 196,
      "outputs": [
        {
          "output_type": "stream",
          "name": "stdout",
          "text": [
            "Model: \"sequential_14\"\n",
            "_________________________________________________________________\n",
            " Layer (type)                Output Shape              Param #   \n",
            "=================================================================\n",
            " dense_80 (Dense)            (None, 8)                 72        \n",
            "                                                                 \n",
            " dense_81 (Dense)            (None, 16)                144       \n",
            "                                                                 \n",
            " dense_82 (Dense)            (None, 24)                408       \n",
            "                                                                 \n",
            " dense_83 (Dense)            (None, 16)                400       \n",
            "                                                                 \n",
            " dense_84 (Dense)            (None, 10)                170       \n",
            "                                                                 \n",
            " dense_85 (Dense)            (None, 10)                110       \n",
            "                                                                 \n",
            " dense_86 (Dense)            (None, 1)                 11        \n",
            "                                                                 \n",
            "=================================================================\n",
            "Total params: 1,315\n",
            "Trainable params: 1,315\n",
            "Non-trainable params: 0\n",
            "_________________________________________________________________\n"
          ]
        }
      ]
    },
    {
      "cell_type": "code",
      "metadata": {
        "id": "k7ng3LSs0cGi"
      },
      "source": [
        "history=model3.fit(x_train, y_train, epochs=100, validation_split=0.2,verbose=0, batch_size=100)"
      ],
      "id": "k7ng3LSs0cGi",
      "execution_count": 240,
      "outputs": []
    },
    {
      "cell_type": "code",
      "metadata": {
        "id": "YsT4SXMzCccN"
      },
      "source": [
        "hist=pd.DataFrame(history.history)\n",
        "hist['epoch']=history.epoch\n",
        "hist"
      ],
      "id": "YsT4SXMzCccN",
      "execution_count": null,
      "outputs": []
    },
    {
      "cell_type": "code",
      "metadata": {
        "colab": {
          "base_uri": "https://localhost:8080/",
          "height": 283
        },
        "id": "u9cGTJaR0cJQ",
        "outputId": "9732a384-75f1-4044-fc8b-de78d923c870"
      },
      "source": [
        "plt.plot(history.history['loss'], label='loss')\n",
        "plt.plot(history.history['val_loss'], label='val_loss')\n",
        "plt.ylim([0, 0.01])\n",
        "plt.xlabel('Epoch')\n",
        "plt.ylabel('Error [Burn Rate')\n",
        "plt.legend()\n",
        "plt.grid(True)"
      ],
      "id": "u9cGTJaR0cJQ",
      "execution_count": 241,
      "outputs": [
        {
          "output_type": "display_data",
          "data": {
            "image/png": "[encoded data removed]",
            "text/plain": [
              "<Figure size 432x288 with 1 Axes>"
            ]
          },
          "metadata": {
            "needs_background": "light"
          }
        }
      ]
    },
    {
      "cell_type": "code",
      "metadata": {
        "colab": {
          "base_uri": "https://localhost:8080/",
          "height": 283
        },
        "id": "2kpLuVml5Utp",
        "outputId": "8918dcc5-351a-4fc3-bb0e-33db5c11107e"
      },
      "source": [
        "plt.plot(history.history['mae'], label='mae')\n",
        "plt.plot(history.history['val_mae'], label='val_mae')\n",
        "plt.ylim([0, 0.1])\n",
        "plt.xlabel('Epoch')\n",
        "plt.ylabel('Error [Burn Rate')\n",
        "plt.legend()\n",
        "plt.grid(True)"
      ],
      "id": "2kpLuVml5Utp",
      "execution_count": 243,
      "outputs": [
        {
          "output_type": "display_data",
          "data": {
            "image/png": "[encoded data removed]",
            "text/plain": [
              "<Figure size 432x288 with 1 Axes>"
            ]
          },
          "metadata": {
            "needs_background": "light"
          }
        }
      ]
    },
    {
      "cell_type": "code",
      "metadata": {
        "colab": {
          "base_uri": "https://localhost:8080/"
        },
        "id": "6kQIAWlJ0cMI",
        "outputId": "358b11c7-b97d-41ab-bc63-0a5597278554"
      },
      "source": [
        "\n",
        "y_pred_train=model3.predict(x_train)\n",
        "mae_train=mean_absolute_error(y_train, y_pred_train)\n",
        "mse_train=mean_squared_error(y_train,y_pred_train)\n",
        "rmse_train=sqrt(mean_squared_error(y_train,y_pred_train))\n",
        "\n",
        "y_pred=model3.predict(x_test)\n",
        "MAE= mean_absolute_error(y_test, y_pred)\n",
        "MSE=mean_squared_error(y_test,y_pred)\n",
        "RMSE= sqrt(mean_squared_error(y_test,y_pred))\n",
        "\n",
        "\n",
        "print(\"Mean Absolute Error for Training Set :\",mae_train )\n",
        "print(\"Mean square Error for Training Set:\",mse_train )\n",
        "print(\"Root Mean square Error for Training Set:\", rmse_train)\n",
        "\n",
        "print(\"Mean Absolute Error for Test Set :\", MAE)\n",
        "print(\"Mean square Error for Test Set:\", MSE)\n",
        "print(\"Root Mean square Error for Test Set:\", RMSE)"
      ],
      "id": "6kQIAWlJ0cMI",
      "execution_count": 242,
      "outputs": [
        {
          "output_type": "stream",
          "name": "stdout",
          "text": [
            "Mean Absolute Error for Training Set : 0.04418465399614677\n",
            "Mean square Error for Training Set: 0.002913717805388181\n",
            "Root Mean square Error for Training Set: 0.05397886443218476\n",
            "Mean Absolute Error for Test Set : 0.045020056301512464\n",
            "Mean square Error for Test Set: 0.003017408798571723\n",
            "Root Mean square Error for Test Set: 0.0549309457279931\n"
          ]
        }
      ]
    },
    {
      "cell_type": "code",
      "metadata": {
        "colab": {
          "base_uri": "https://localhost:8080/",
          "height": 283
        },
        "id": "eAx7H5UE6Hp4",
        "outputId": "bb827c3f-b7f5-4c64-d95a-d91c01bd4cc1"
      },
      "source": [
        "plt.scatter(y_test, y_pred)\n",
        "plt.xlabel('Actual Values [Burn Rate]')\n",
        "plt.ylabel('Predictions [Burn Rate]')\n",
        "lims = [0, 1]\n",
        "plt.xlim(0,1)\n",
        "plt.ylim(lims)\n",
        "_ = plt.plot(lims, lims)"
      ],
      "id": "eAx7H5UE6Hp4",
      "execution_count": 237,
      "outputs": [
        {
          "output_type": "display_data",
          "data": {
            "image/png": "[encoded data removed]",
            "text/plain": [
              "<Figure size 432x288 with 1 Axes>"
            ]
          },
          "metadata": {
            "needs_background": "light"
          }
        }
      ]
    },
    {
      "cell_type": "code",
      "metadata": {
        "id": "nKFuP9f36Hts"
      },
      "source": [
        ""
      ],
      "id": "nKFuP9f36Hts",
      "execution_count": 202,
      "outputs": []
    },
    {
      "cell_type": "code",
      "metadata": {
        "id": "qxHDjgFz6Hv4"
      },
      "source": [
        ""
      ],
      "id": "qxHDjgFz6Hv4",
      "execution_count": 202,
      "outputs": []
    },
    {
      "cell_type": "code",
      "metadata": {
        "id": "0RaGBrWm6HzO"
      },
      "source": [
        ""
      ],
      "id": "0RaGBrWm6HzO",
      "execution_count": 202,
      "outputs": []
    },
    {
      "cell_type": "code",
      "metadata": {
        "id": "Ppyui2jP0cPQ"
      },
      "source": [
        "add_test_results('m3',mae_train,mse_train,rmse_train,MAE,MSE,RMSE)"
      ],
      "id": "Ppyui2jP0cPQ",
      "execution_count": 238,
      "outputs": []
    },
    {
      "cell_type": "code",
      "metadata": {
        "id": "AVHgCUpe0cR9"
      },
      "source": [
        ""
      ],
      "id": "AVHgCUpe0cR9",
      "execution_count": 203,
      "outputs": []
    },
    {
      "cell_type": "markdown",
      "metadata": {
        "id": "qWFBuM-X-zMy"
      },
      "source": [
        "model 4"
      ],
      "id": "qWFBuM-X-zMy"
    },
    {
      "cell_type": "code",
      "metadata": {
        "colab": {
          "base_uri": "https://localhost:8080/"
        },
        "id": "LJ-cQWUx5iRh",
        "outputId": "e27ed3bf-6766-4786-dde1-1b272495bf90"
      },
      "source": [
        "model4=keras.Sequential([\n",
        "layers.Dense(16, activation=tf.nn.relu, input_shape=[len(x_train.keys())]),\n",
        "layers.Dense(12, activation=tf.nn.relu),\n",
        "layers.Dense(8, activation=tf.nn.relu),\n",
        "layers.Dense(4,activation=tf.nn.relu),\n",
        "layers.Dense(1)])\n",
        "model4.compile(keras.optimizers.Adagrad(lr=0.1), loss='mean_squared_error', metrics=['mae','mse',rmse])\n",
        "history=model4.fit(x_train, y_train, epochs=50, validation_split=0.2,verbose=1, batch_size=32)"
      ],
      "id": "LJ-cQWUx5iRh",
      "execution_count": 244,
      "outputs": [
        {
          "output_type": "stream",
          "name": "stderr",
          "text": [
            "/usr/local/lib/python3.7/dist-packages/keras/optimizer_v2/adagrad.py:74: UserWarning: The `lr` argument is deprecated, use `learning_rate` instead.\n",
            "  super(Adagrad, self).__init__(name, **kwargs)\n"
          ]
        },
        {
          "output_type": "stream",
          "name": "stdout",
          "text": [
            "Epoch 1/50\n",
            "372/372 [==============================] - 1s 2ms/step - loss: 0.0084 - mae: 0.0672 - mse: 0.0084 - root_mean_squared_error: 0.0857 - val_loss: 0.0042 - val_mae: 0.0522 - val_mse: 0.0042 - val_root_mean_squared_error: 0.0648\n",
            "Epoch 2/50\n",
            "372/372 [==============================] - 1s 2ms/step - loss: 0.0039 - mae: 0.0508 - mse: 0.0039 - root_mean_squared_error: 0.0627 - val_loss: 0.0036 - val_mae: 0.0489 - val_mse: 0.0036 - val_root_mean_squared_error: 0.0601\n",
            "Epoch 3/50\n",
            "372/372 [==============================] - 1s 2ms/step - loss: 0.0036 - mae: 0.0486 - mse: 0.0036 - root_mean_squared_error: 0.0596 - val_loss: 0.0034 - val_mae: 0.0473 - val_mse: 0.0034 - val_root_mean_squared_error: 0.0582\n",
            "Epoch 4/50\n",
            "372/372 [==============================] - 1s 2ms/step - loss: 0.0033 - mae: 0.0471 - mse: 0.0033 - root_mean_squared_error: 0.0578 - val_loss: 0.0032 - val_mae: 0.0461 - val_mse: 0.0032 - val_root_mean_squared_error: 0.0569\n",
            "Epoch 5/50\n",
            "372/372 [==============================] - 1s 2ms/step - loss: 0.0033 - mae: 0.0466 - mse: 0.0033 - root_mean_squared_error: 0.0571 - val_loss: 0.0032 - val_mae: 0.0462 - val_mse: 0.0032 - val_root_mean_squared_error: 0.0568\n",
            "Epoch 6/50\n",
            "372/372 [==============================] - 1s 2ms/step - loss: 0.0032 - mae: 0.0462 - mse: 0.0032 - root_mean_squared_error: 0.0565 - val_loss: 0.0033 - val_mae: 0.0466 - val_mse: 0.0033 - val_root_mean_squared_error: 0.0571\n",
            "Epoch 7/50\n",
            "372/372 [==============================] - 1s 2ms/step - loss: 0.0032 - mae: 0.0459 - mse: 0.0032 - root_mean_squared_error: 0.0563 - val_loss: 0.0033 - val_mae: 0.0469 - val_mse: 0.0033 - val_root_mean_squared_error: 0.0575\n",
            "Epoch 8/50\n",
            "372/372 [==============================] - 1s 2ms/step - loss: 0.0031 - mae: 0.0456 - mse: 0.0031 - root_mean_squared_error: 0.0559 - val_loss: 0.0031 - val_mae: 0.0456 - val_mse: 0.0031 - val_root_mean_squared_error: 0.0559\n",
            "Epoch 9/50\n",
            "372/372 [==============================] - 1s 2ms/step - loss: 0.0031 - mae: 0.0455 - mse: 0.0031 - root_mean_squared_error: 0.0557 - val_loss: 0.0031 - val_mae: 0.0455 - val_mse: 0.0031 - val_root_mean_squared_error: 0.0559\n",
            "Epoch 10/50\n",
            "372/372 [==============================] - 1s 2ms/step - loss: 0.0031 - mae: 0.0453 - mse: 0.0031 - root_mean_squared_error: 0.0554 - val_loss: 0.0033 - val_mae: 0.0464 - val_mse: 0.0033 - val_root_mean_squared_error: 0.0575\n",
            "Epoch 11/50\n",
            "372/372 [==============================] - 1s 2ms/step - loss: 0.0031 - mae: 0.0452 - mse: 0.0031 - root_mean_squared_error: 0.0553 - val_loss: 0.0031 - val_mae: 0.0456 - val_mse: 0.0031 - val_root_mean_squared_error: 0.0557\n",
            "Epoch 12/50\n",
            "372/372 [==============================] - 1s 2ms/step - loss: 0.0030 - mae: 0.0451 - mse: 0.0030 - root_mean_squared_error: 0.0551 - val_loss: 0.0032 - val_mae: 0.0463 - val_mse: 0.0032 - val_root_mean_squared_error: 0.0566\n",
            "Epoch 13/50\n",
            "372/372 [==============================] - 1s 2ms/step - loss: 0.0030 - mae: 0.0449 - mse: 0.0030 - root_mean_squared_error: 0.0551 - val_loss: 0.0031 - val_mae: 0.0458 - val_mse: 0.0031 - val_root_mean_squared_error: 0.0561\n",
            "Epoch 14/50\n",
            "372/372 [==============================] - 1s 2ms/step - loss: 0.0030 - mae: 0.0449 - mse: 0.0030 - root_mean_squared_error: 0.0550 - val_loss: 0.0032 - val_mae: 0.0459 - val_mse: 0.0032 - val_root_mean_squared_error: 0.0564\n",
            "Epoch 15/50\n",
            "372/372 [==============================] - 1s 2ms/step - loss: 0.0030 - mae: 0.0449 - mse: 0.0030 - root_mean_squared_error: 0.0549 - val_loss: 0.0031 - val_mae: 0.0452 - val_mse: 0.0031 - val_root_mean_squared_error: 0.0553\n",
            "Epoch 16/50\n",
            "372/372 [==============================] - 1s 2ms/step - loss: 0.0030 - mae: 0.0449 - mse: 0.0030 - root_mean_squared_error: 0.0549 - val_loss: 0.0031 - val_mae: 0.0453 - val_mse: 0.0031 - val_root_mean_squared_error: 0.0556\n",
            "Epoch 17/50\n",
            "372/372 [==============================] - 1s 2ms/step - loss: 0.0030 - mae: 0.0449 - mse: 0.0030 - root_mean_squared_error: 0.0549 - val_loss: 0.0031 - val_mae: 0.0450 - val_mse: 0.0031 - val_root_mean_squared_error: 0.0553\n",
            "Epoch 18/50\n",
            "372/372 [==============================] - 1s 2ms/step - loss: 0.0030 - mae: 0.0448 - mse: 0.0030 - root_mean_squared_error: 0.0548 - val_loss: 0.0031 - val_mae: 0.0452 - val_mse: 0.0031 - val_root_mean_squared_error: 0.0553\n",
            "Epoch 19/50\n",
            "372/372 [==============================] - 1s 2ms/step - loss: 0.0030 - mae: 0.0448 - mse: 0.0030 - root_mean_squared_error: 0.0548 - val_loss: 0.0032 - val_mae: 0.0457 - val_mse: 0.0032 - val_root_mean_squared_error: 0.0565\n",
            "Epoch 20/50\n",
            "372/372 [==============================] - 1s 2ms/step - loss: 0.0030 - mae: 0.0447 - mse: 0.0030 - root_mean_squared_error: 0.0547 - val_loss: 0.0030 - val_mae: 0.0453 - val_mse: 0.0030 - val_root_mean_squared_error: 0.0552\n",
            "Epoch 21/50\n",
            "372/372 [==============================] - 1s 2ms/step - loss: 0.0030 - mae: 0.0447 - mse: 0.0030 - root_mean_squared_error: 0.0547 - val_loss: 0.0030 - val_mae: 0.0451 - val_mse: 0.0030 - val_root_mean_squared_error: 0.0552\n",
            "Epoch 22/50\n",
            "372/372 [==============================] - 1s 2ms/step - loss: 0.0030 - mae: 0.0447 - mse: 0.0030 - root_mean_squared_error: 0.0547 - val_loss: 0.0031 - val_mae: 0.0454 - val_mse: 0.0031 - val_root_mean_squared_error: 0.0557\n",
            "Epoch 23/50\n",
            "372/372 [==============================] - 1s 2ms/step - loss: 0.0030 - mae: 0.0446 - mse: 0.0030 - root_mean_squared_error: 0.0545 - val_loss: 0.0031 - val_mae: 0.0456 - val_mse: 0.0031 - val_root_mean_squared_error: 0.0556\n",
            "Epoch 24/50\n",
            "372/372 [==============================] - 1s 2ms/step - loss: 0.0030 - mae: 0.0446 - mse: 0.0030 - root_mean_squared_error: 0.0545 - val_loss: 0.0031 - val_mae: 0.0457 - val_mse: 0.0031 - val_root_mean_squared_error: 0.0557\n",
            "Epoch 25/50\n",
            "372/372 [==============================] - 1s 2ms/step - loss: 0.0030 - mae: 0.0446 - mse: 0.0030 - root_mean_squared_error: 0.0545 - val_loss: 0.0031 - val_mae: 0.0453 - val_mse: 0.0031 - val_root_mean_squared_error: 0.0553\n",
            "Epoch 26/50\n",
            "372/372 [==============================] - 1s 2ms/step - loss: 0.0030 - mae: 0.0446 - mse: 0.0030 - root_mean_squared_error: 0.0545 - val_loss: 0.0031 - val_mae: 0.0453 - val_mse: 0.0031 - val_root_mean_squared_error: 0.0553\n",
            "Epoch 27/50\n",
            "372/372 [==============================] - 1s 2ms/step - loss: 0.0030 - mae: 0.0446 - mse: 0.0030 - root_mean_squared_error: 0.0545 - val_loss: 0.0031 - val_mae: 0.0455 - val_mse: 0.0031 - val_root_mean_squared_error: 0.0553\n",
            "Epoch 28/50\n",
            "372/372 [==============================] - 1s 2ms/step - loss: 0.0030 - mae: 0.0445 - mse: 0.0030 - root_mean_squared_error: 0.0544 - val_loss: 0.0031 - val_mae: 0.0456 - val_mse: 0.0031 - val_root_mean_squared_error: 0.0557\n",
            "Epoch 29/50\n",
            "372/372 [==============================] - 1s 2ms/step - loss: 0.0030 - mae: 0.0445 - mse: 0.0030 - root_mean_squared_error: 0.0544 - val_loss: 0.0030 - val_mae: 0.0449 - val_mse: 0.0030 - val_root_mean_squared_error: 0.0551\n",
            "Epoch 30/50\n",
            "372/372 [==============================] - 1s 2ms/step - loss: 0.0030 - mae: 0.0445 - mse: 0.0030 - root_mean_squared_error: 0.0544 - val_loss: 0.0030 - val_mae: 0.0452 - val_mse: 0.0030 - val_root_mean_squared_error: 0.0551\n",
            "Epoch 31/50\n",
            "372/372 [==============================] - 1s 2ms/step - loss: 0.0030 - mae: 0.0444 - mse: 0.0030 - root_mean_squared_error: 0.0544 - val_loss: 0.0030 - val_mae: 0.0452 - val_mse: 0.0030 - val_root_mean_squared_error: 0.0552\n",
            "Epoch 32/50\n",
            "372/372 [==============================] - 1s 2ms/step - loss: 0.0030 - mae: 0.0444 - mse: 0.0030 - root_mean_squared_error: 0.0544 - val_loss: 0.0032 - val_mae: 0.0461 - val_mse: 0.0032 - val_root_mean_squared_error: 0.0563\n",
            "Epoch 33/50\n",
            "372/372 [==============================] - 1s 2ms/step - loss: 0.0029 - mae: 0.0443 - mse: 0.0029 - root_mean_squared_error: 0.0543 - val_loss: 0.0030 - val_mae: 0.0453 - val_mse: 0.0030 - val_root_mean_squared_error: 0.0551\n",
            "Epoch 34/50\n",
            "372/372 [==============================] - 1s 2ms/step - loss: 0.0030 - mae: 0.0444 - mse: 0.0030 - root_mean_squared_error: 0.0544 - val_loss: 0.0030 - val_mae: 0.0450 - val_mse: 0.0030 - val_root_mean_squared_error: 0.0550\n",
            "Epoch 35/50\n",
            "372/372 [==============================] - 1s 2ms/step - loss: 0.0030 - mae: 0.0444 - mse: 0.0030 - root_mean_squared_error: 0.0543 - val_loss: 0.0031 - val_mae: 0.0457 - val_mse: 0.0031 - val_root_mean_squared_error: 0.0554\n",
            "Epoch 36/50\n",
            "372/372 [==============================] - 1s 2ms/step - loss: 0.0029 - mae: 0.0443 - mse: 0.0029 - root_mean_squared_error: 0.0542 - val_loss: 0.0030 - val_mae: 0.0450 - val_mse: 0.0030 - val_root_mean_squared_error: 0.0550\n",
            "Epoch 37/50\n",
            "372/372 [==============================] - 1s 2ms/step - loss: 0.0029 - mae: 0.0443 - mse: 0.0029 - root_mean_squared_error: 0.0543 - val_loss: 0.0030 - val_mae: 0.0451 - val_mse: 0.0030 - val_root_mean_squared_error: 0.0550\n",
            "Epoch 38/50\n",
            "372/372 [==============================] - 1s 2ms/step - loss: 0.0029 - mae: 0.0443 - mse: 0.0029 - root_mean_squared_error: 0.0542 - val_loss: 0.0030 - val_mae: 0.0452 - val_mse: 0.0030 - val_root_mean_squared_error: 0.0550\n",
            "Epoch 39/50\n",
            "372/372 [==============================] - 1s 2ms/step - loss: 0.0029 - mae: 0.0443 - mse: 0.0029 - root_mean_squared_error: 0.0542 - val_loss: 0.0030 - val_mae: 0.0451 - val_mse: 0.0030 - val_root_mean_squared_error: 0.0551\n",
            "Epoch 40/50\n",
            "372/372 [==============================] - 1s 2ms/step - loss: 0.0029 - mae: 0.0443 - mse: 0.0029 - root_mean_squared_error: 0.0543 - val_loss: 0.0030 - val_mae: 0.0449 - val_mse: 0.0030 - val_root_mean_squared_error: 0.0551\n",
            "Epoch 41/50\n",
            "372/372 [==============================] - 1s 2ms/step - loss: 0.0029 - mae: 0.0443 - mse: 0.0029 - root_mean_squared_error: 0.0542 - val_loss: 0.0030 - val_mae: 0.0450 - val_mse: 0.0030 - val_root_mean_squared_error: 0.0549\n",
            "Epoch 42/50\n",
            "372/372 [==============================] - 1s 2ms/step - loss: 0.0029 - mae: 0.0443 - mse: 0.0029 - root_mean_squared_error: 0.0542 - val_loss: 0.0030 - val_mae: 0.0450 - val_mse: 0.0030 - val_root_mean_squared_error: 0.0550\n",
            "Epoch 43/50\n",
            "372/372 [==============================] - 1s 2ms/step - loss: 0.0029 - mae: 0.0443 - mse: 0.0029 - root_mean_squared_error: 0.0542 - val_loss: 0.0030 - val_mae: 0.0449 - val_mse: 0.0030 - val_root_mean_squared_error: 0.0550\n",
            "Epoch 44/50\n",
            "372/372 [==============================] - 1s 2ms/step - loss: 0.0029 - mae: 0.0443 - mse: 0.0029 - root_mean_squared_error: 0.0542 - val_loss: 0.0030 - val_mae: 0.0451 - val_mse: 0.0030 - val_root_mean_squared_error: 0.0550\n",
            "Epoch 45/50\n",
            "372/372 [==============================] - 1s 2ms/step - loss: 0.0029 - mae: 0.0442 - mse: 0.0029 - root_mean_squared_error: 0.0542 - val_loss: 0.0030 - val_mae: 0.0451 - val_mse: 0.0030 - val_root_mean_squared_error: 0.0550\n",
            "Epoch 46/50\n",
            "372/372 [==============================] - 1s 2ms/step - loss: 0.0029 - mae: 0.0442 - mse: 0.0029 - root_mean_squared_error: 0.0541 - val_loss: 0.0030 - val_mae: 0.0449 - val_mse: 0.0030 - val_root_mean_squared_error: 0.0549\n",
            "Epoch 47/50\n",
            "372/372 [==============================] - 1s 2ms/step - loss: 0.0029 - mae: 0.0443 - mse: 0.0029 - root_mean_squared_error: 0.0542 - val_loss: 0.0030 - val_mae: 0.0450 - val_mse: 0.0030 - val_root_mean_squared_error: 0.0549\n",
            "Epoch 48/50\n",
            "372/372 [==============================] - 1s 2ms/step - loss: 0.0029 - mae: 0.0442 - mse: 0.0029 - root_mean_squared_error: 0.0541 - val_loss: 0.0032 - val_mae: 0.0464 - val_mse: 0.0032 - val_root_mean_squared_error: 0.0568\n",
            "Epoch 49/50\n",
            "372/372 [==============================] - 1s 2ms/step - loss: 0.0029 - mae: 0.0442 - mse: 0.0029 - root_mean_squared_error: 0.0541 - val_loss: 0.0031 - val_mae: 0.0456 - val_mse: 0.0031 - val_root_mean_squared_error: 0.0556\n",
            "Epoch 50/50\n",
            "372/372 [==============================] - 1s 2ms/step - loss: 0.0029 - mae: 0.0441 - mse: 0.0029 - root_mean_squared_error: 0.0541 - val_loss: 0.0031 - val_mae: 0.0454 - val_mse: 0.0031 - val_root_mean_squared_error: 0.0553\n"
          ]
        }
      ]
    },
    {
      "cell_type": "code",
      "metadata": {
        "colab": {
          "base_uri": "https://localhost:8080/",
          "height": 283
        },
        "id": "-tbWlyZJ57FN",
        "outputId": "5a03c62f-3733-4dc6-c0ad-1e154e5458fa"
      },
      "source": [
        "plt.plot(history.history['loss'], label='loss')\n",
        "plt.plot(history.history['val_loss'], label='val_loss')\n",
        "plt.ylim([0, 0.01])\n",
        "plt.xlabel('Epoch')\n",
        "plt.ylabel('Error [Burn Rate')\n",
        "plt.legend()\n",
        "plt.grid(True)"
      ],
      "id": "-tbWlyZJ57FN",
      "execution_count": 245,
      "outputs": [
        {
          "output_type": "display_data",
          "data": {
            "image/png": "[encoded data removed]",
            "text/plain": [
              "<Figure size 432x288 with 1 Axes>"
            ]
          },
          "metadata": {
            "needs_background": "light"
          }
        }
      ]
    },
    {
      "cell_type": "code",
      "metadata": {
        "colab": {
          "base_uri": "https://localhost:8080/",
          "height": 283
        },
        "id": "F2f1-Nnn5_s4",
        "outputId": "d3a048f6-fa0d-4998-9c12-6c8dc25c09c6"
      },
      "source": [
        "plt.plot(history.history['mae'], label='mae')\n",
        "plt.plot(history.history['val_mae'], label='val_mae')\n",
        "plt.ylim([0, 0.1])\n",
        "plt.xlabel('Epoch')\n",
        "plt.ylabel('Error [Burn Rate')\n",
        "plt.legend()\n",
        "plt.grid(True)"
      ],
      "id": "F2f1-Nnn5_s4",
      "execution_count": 246,
      "outputs": [
        {
          "output_type": "display_data",
          "data": {
            "image/png": "[encoded data removed]",
            "text/plain": [
              "<Figure size 432x288 with 1 Axes>"
            ]
          },
          "metadata": {
            "needs_background": "light"
          }
        }
      ]
    },
    {
      "cell_type": "code",
      "metadata": {
        "colab": {
          "base_uri": "https://localhost:8080/",
          "height": 1000
        },
        "id": "G48sOjDTCh5R",
        "outputId": "f9670d21-f1af-436f-822f-1158be08fb53"
      },
      "source": [
        "hist=pd.DataFrame(history.history)\n",
        "hist['epoch']=history.epoch\n",
        "hist"
      ],
      "id": "G48sOjDTCh5R",
      "execution_count": 207,
      "outputs": [
        {
          "output_type": "execute_result",
          "data": {
            "text/html": [
              "<div>\n",
              "<style scoped>\n",
              "    .dataframe tbody tr th:only-of-type {\n",
              "        vertical-align: middle;\n",
              "    }\n",
              "\n",
              "    .dataframe tbody tr th {\n",
              "        vertical-align: top;\n",
              "    }\n",
              "\n",
              "    .dataframe thead th {\n",
              "        text-align: right;\n",
              "    }\n",
              "</style>\n",
              "<table border=\"1\" class=\"dataframe\">\n",
              "  <thead>\n",
              "    <tr style=\"text-align: right;\">\n",
              "      <th></th>\n",
              "      <th>loss</th>\n",
              "      <th>mae</th>\n",
              "      <th>mse</th>\n",
              "      <th>root_mean_squared_error</th>\n",
              "      <th>val_loss</th>\n",
              "      <th>val_mae</th>\n",
              "      <th>val_mse</th>\n",
              "      <th>val_root_mean_squared_error</th>\n",
              "      <th>epoch</th>\n",
              "    </tr>\n",
              "  </thead>\n",
              "  <tbody>\n",
              "    <tr>\n",
              "      <th>0</th>\n",
              "      <td>0.007971</td>\n",
              "      <td>0.067467</td>\n",
              "      <td>0.007971</td>\n",
              "      <td>0.083591</td>\n",
              "      <td>0.004155</td>\n",
              "      <td>0.052065</td>\n",
              "      <td>0.004155</td>\n",
              "      <td>0.064456</td>\n",
              "      <td>0</td>\n",
              "    </tr>\n",
              "    <tr>\n",
              "      <th>1</th>\n",
              "      <td>0.003872</td>\n",
              "      <td>0.050343</td>\n",
              "      <td>0.003872</td>\n",
              "      <td>0.062225</td>\n",
              "      <td>0.003608</td>\n",
              "      <td>0.049189</td>\n",
              "      <td>0.003608</td>\n",
              "      <td>0.060065</td>\n",
              "      <td>1</td>\n",
              "    </tr>\n",
              "    <tr>\n",
              "      <th>2</th>\n",
              "      <td>0.003483</td>\n",
              "      <td>0.047878</td>\n",
              "      <td>0.003483</td>\n",
              "      <td>0.059019</td>\n",
              "      <td>0.003971</td>\n",
              "      <td>0.051085</td>\n",
              "      <td>0.003971</td>\n",
              "      <td>0.063016</td>\n",
              "      <td>2</td>\n",
              "    </tr>\n",
              "    <tr>\n",
              "      <th>3</th>\n",
              "      <td>0.003310</td>\n",
              "      <td>0.046748</td>\n",
              "      <td>0.003310</td>\n",
              "      <td>0.057530</td>\n",
              "      <td>0.003379</td>\n",
              "      <td>0.047520</td>\n",
              "      <td>0.003379</td>\n",
              "      <td>0.058127</td>\n",
              "      <td>3</td>\n",
              "    </tr>\n",
              "    <tr>\n",
              "      <th>4</th>\n",
              "      <td>0.003258</td>\n",
              "      <td>0.046401</td>\n",
              "      <td>0.003258</td>\n",
              "      <td>0.057075</td>\n",
              "      <td>0.003179</td>\n",
              "      <td>0.045947</td>\n",
              "      <td>0.003179</td>\n",
              "      <td>0.056382</td>\n",
              "      <td>4</td>\n",
              "    </tr>\n",
              "    <tr>\n",
              "      <th>5</th>\n",
              "      <td>0.003222</td>\n",
              "      <td>0.046119</td>\n",
              "      <td>0.003222</td>\n",
              "      <td>0.056764</td>\n",
              "      <td>0.003467</td>\n",
              "      <td>0.047947</td>\n",
              "      <td>0.003467</td>\n",
              "      <td>0.058878</td>\n",
              "      <td>5</td>\n",
              "    </tr>\n",
              "    <tr>\n",
              "      <th>6</th>\n",
              "      <td>0.003159</td>\n",
              "      <td>0.045728</td>\n",
              "      <td>0.003159</td>\n",
              "      <td>0.056202</td>\n",
              "      <td>0.003175</td>\n",
              "      <td>0.045881</td>\n",
              "      <td>0.003175</td>\n",
              "      <td>0.056348</td>\n",
              "      <td>6</td>\n",
              "    </tr>\n",
              "    <tr>\n",
              "      <th>7</th>\n",
              "      <td>0.003129</td>\n",
              "      <td>0.045441</td>\n",
              "      <td>0.003129</td>\n",
              "      <td>0.055940</td>\n",
              "      <td>0.003118</td>\n",
              "      <td>0.045700</td>\n",
              "      <td>0.003118</td>\n",
              "      <td>0.055835</td>\n",
              "      <td>7</td>\n",
              "    </tr>\n",
              "    <tr>\n",
              "      <th>8</th>\n",
              "      <td>0.003104</td>\n",
              "      <td>0.045405</td>\n",
              "      <td>0.003104</td>\n",
              "      <td>0.055717</td>\n",
              "      <td>0.003191</td>\n",
              "      <td>0.046250</td>\n",
              "      <td>0.003191</td>\n",
              "      <td>0.056489</td>\n",
              "      <td>8</td>\n",
              "    </tr>\n",
              "    <tr>\n",
              "      <th>9</th>\n",
              "      <td>0.003096</td>\n",
              "      <td>0.045349</td>\n",
              "      <td>0.003096</td>\n",
              "      <td>0.055637</td>\n",
              "      <td>0.003054</td>\n",
              "      <td>0.045108</td>\n",
              "      <td>0.003054</td>\n",
              "      <td>0.055259</td>\n",
              "      <td>9</td>\n",
              "    </tr>\n",
              "    <tr>\n",
              "      <th>10</th>\n",
              "      <td>0.003063</td>\n",
              "      <td>0.045026</td>\n",
              "      <td>0.003063</td>\n",
              "      <td>0.055345</td>\n",
              "      <td>0.003142</td>\n",
              "      <td>0.045503</td>\n",
              "      <td>0.003142</td>\n",
              "      <td>0.056052</td>\n",
              "      <td>10</td>\n",
              "    </tr>\n",
              "    <tr>\n",
              "      <th>11</th>\n",
              "      <td>0.003061</td>\n",
              "      <td>0.045106</td>\n",
              "      <td>0.003061</td>\n",
              "      <td>0.055327</td>\n",
              "      <td>0.003084</td>\n",
              "      <td>0.045459</td>\n",
              "      <td>0.003084</td>\n",
              "      <td>0.055536</td>\n",
              "      <td>11</td>\n",
              "    </tr>\n",
              "    <tr>\n",
              "      <th>12</th>\n",
              "      <td>0.003047</td>\n",
              "      <td>0.044932</td>\n",
              "      <td>0.003047</td>\n",
              "      <td>0.055203</td>\n",
              "      <td>0.003104</td>\n",
              "      <td>0.045553</td>\n",
              "      <td>0.003104</td>\n",
              "      <td>0.055717</td>\n",
              "      <td>12</td>\n",
              "    </tr>\n",
              "    <tr>\n",
              "      <th>13</th>\n",
              "      <td>0.003046</td>\n",
              "      <td>0.044964</td>\n",
              "      <td>0.003046</td>\n",
              "      <td>0.055193</td>\n",
              "      <td>0.003201</td>\n",
              "      <td>0.046203</td>\n",
              "      <td>0.003201</td>\n",
              "      <td>0.056578</td>\n",
              "      <td>13</td>\n",
              "    </tr>\n",
              "    <tr>\n",
              "      <th>14</th>\n",
              "      <td>0.003050</td>\n",
              "      <td>0.045005</td>\n",
              "      <td>0.003050</td>\n",
              "      <td>0.055229</td>\n",
              "      <td>0.003048</td>\n",
              "      <td>0.045264</td>\n",
              "      <td>0.003048</td>\n",
              "      <td>0.055212</td>\n",
              "      <td>14</td>\n",
              "    </tr>\n",
              "    <tr>\n",
              "      <th>15</th>\n",
              "      <td>0.003032</td>\n",
              "      <td>0.044868</td>\n",
              "      <td>0.003032</td>\n",
              "      <td>0.055067</td>\n",
              "      <td>0.002994</td>\n",
              "      <td>0.044701</td>\n",
              "      <td>0.002994</td>\n",
              "      <td>0.054722</td>\n",
              "      <td>15</td>\n",
              "    </tr>\n",
              "    <tr>\n",
              "      <th>16</th>\n",
              "      <td>0.003026</td>\n",
              "      <td>0.044791</td>\n",
              "      <td>0.003026</td>\n",
              "      <td>0.055006</td>\n",
              "      <td>0.003042</td>\n",
              "      <td>0.045104</td>\n",
              "      <td>0.003042</td>\n",
              "      <td>0.055150</td>\n",
              "      <td>16</td>\n",
              "    </tr>\n",
              "    <tr>\n",
              "      <th>17</th>\n",
              "      <td>0.003028</td>\n",
              "      <td>0.044895</td>\n",
              "      <td>0.003028</td>\n",
              "      <td>0.055026</td>\n",
              "      <td>0.002999</td>\n",
              "      <td>0.044835</td>\n",
              "      <td>0.002999</td>\n",
              "      <td>0.054761</td>\n",
              "      <td>17</td>\n",
              "    </tr>\n",
              "    <tr>\n",
              "      <th>18</th>\n",
              "      <td>0.003019</td>\n",
              "      <td>0.044851</td>\n",
              "      <td>0.003019</td>\n",
              "      <td>0.054945</td>\n",
              "      <td>0.003019</td>\n",
              "      <td>0.045103</td>\n",
              "      <td>0.003019</td>\n",
              "      <td>0.054950</td>\n",
              "      <td>18</td>\n",
              "    </tr>\n",
              "    <tr>\n",
              "      <th>19</th>\n",
              "      <td>0.003016</td>\n",
              "      <td>0.044749</td>\n",
              "      <td>0.003016</td>\n",
              "      <td>0.054915</td>\n",
              "      <td>0.002994</td>\n",
              "      <td>0.044878</td>\n",
              "      <td>0.002994</td>\n",
              "      <td>0.054717</td>\n",
              "      <td>19</td>\n",
              "    </tr>\n",
              "    <tr>\n",
              "      <th>20</th>\n",
              "      <td>0.003012</td>\n",
              "      <td>0.044800</td>\n",
              "      <td>0.003012</td>\n",
              "      <td>0.054882</td>\n",
              "      <td>0.003018</td>\n",
              "      <td>0.045018</td>\n",
              "      <td>0.003018</td>\n",
              "      <td>0.054939</td>\n",
              "      <td>20</td>\n",
              "    </tr>\n",
              "    <tr>\n",
              "      <th>21</th>\n",
              "      <td>0.002995</td>\n",
              "      <td>0.044610</td>\n",
              "      <td>0.002995</td>\n",
              "      <td>0.054727</td>\n",
              "      <td>0.003004</td>\n",
              "      <td>0.044938</td>\n",
              "      <td>0.003004</td>\n",
              "      <td>0.054813</td>\n",
              "      <td>21</td>\n",
              "    </tr>\n",
              "    <tr>\n",
              "      <th>22</th>\n",
              "      <td>0.002992</td>\n",
              "      <td>0.044610</td>\n",
              "      <td>0.002992</td>\n",
              "      <td>0.054695</td>\n",
              "      <td>0.003060</td>\n",
              "      <td>0.045428</td>\n",
              "      <td>0.003060</td>\n",
              "      <td>0.055313</td>\n",
              "      <td>22</td>\n",
              "    </tr>\n",
              "    <tr>\n",
              "      <th>23</th>\n",
              "      <td>0.002985</td>\n",
              "      <td>0.044512</td>\n",
              "      <td>0.002985</td>\n",
              "      <td>0.054636</td>\n",
              "      <td>0.002973</td>\n",
              "      <td>0.044572</td>\n",
              "      <td>0.002973</td>\n",
              "      <td>0.054524</td>\n",
              "      <td>23</td>\n",
              "    </tr>\n",
              "    <tr>\n",
              "      <th>24</th>\n",
              "      <td>0.002984</td>\n",
              "      <td>0.044514</td>\n",
              "      <td>0.002984</td>\n",
              "      <td>0.054626</td>\n",
              "      <td>0.002993</td>\n",
              "      <td>0.044898</td>\n",
              "      <td>0.002993</td>\n",
              "      <td>0.054704</td>\n",
              "      <td>24</td>\n",
              "    </tr>\n",
              "    <tr>\n",
              "      <th>25</th>\n",
              "      <td>0.002986</td>\n",
              "      <td>0.044577</td>\n",
              "      <td>0.002986</td>\n",
              "      <td>0.054643</td>\n",
              "      <td>0.002963</td>\n",
              "      <td>0.044563</td>\n",
              "      <td>0.002963</td>\n",
              "      <td>0.054435</td>\n",
              "      <td>25</td>\n",
              "    </tr>\n",
              "    <tr>\n",
              "      <th>26</th>\n",
              "      <td>0.002975</td>\n",
              "      <td>0.044481</td>\n",
              "      <td>0.002975</td>\n",
              "      <td>0.054547</td>\n",
              "      <td>0.002979</td>\n",
              "      <td>0.044765</td>\n",
              "      <td>0.002979</td>\n",
              "      <td>0.054580</td>\n",
              "      <td>26</td>\n",
              "    </tr>\n",
              "    <tr>\n",
              "      <th>27</th>\n",
              "      <td>0.002971</td>\n",
              "      <td>0.044418</td>\n",
              "      <td>0.002971</td>\n",
              "      <td>0.054507</td>\n",
              "      <td>0.002972</td>\n",
              "      <td>0.044712</td>\n",
              "      <td>0.002972</td>\n",
              "      <td>0.054513</td>\n",
              "      <td>27</td>\n",
              "    </tr>\n",
              "    <tr>\n",
              "      <th>28</th>\n",
              "      <td>0.002975</td>\n",
              "      <td>0.044463</td>\n",
              "      <td>0.002975</td>\n",
              "      <td>0.054540</td>\n",
              "      <td>0.003137</td>\n",
              "      <td>0.045790</td>\n",
              "      <td>0.003137</td>\n",
              "      <td>0.056012</td>\n",
              "      <td>28</td>\n",
              "    </tr>\n",
              "    <tr>\n",
              "      <th>29</th>\n",
              "      <td>0.002975</td>\n",
              "      <td>0.044411</td>\n",
              "      <td>0.002975</td>\n",
              "      <td>0.054546</td>\n",
              "      <td>0.002988</td>\n",
              "      <td>0.044658</td>\n",
              "      <td>0.002988</td>\n",
              "      <td>0.054660</td>\n",
              "      <td>29</td>\n",
              "    </tr>\n",
              "    <tr>\n",
              "      <th>30</th>\n",
              "      <td>0.002971</td>\n",
              "      <td>0.044481</td>\n",
              "      <td>0.002971</td>\n",
              "      <td>0.054505</td>\n",
              "      <td>0.002963</td>\n",
              "      <td>0.044567</td>\n",
              "      <td>0.002963</td>\n",
              "      <td>0.054434</td>\n",
              "      <td>30</td>\n",
              "    </tr>\n",
              "    <tr>\n",
              "      <th>31</th>\n",
              "      <td>0.002964</td>\n",
              "      <td>0.044424</td>\n",
              "      <td>0.002964</td>\n",
              "      <td>0.054440</td>\n",
              "      <td>0.002966</td>\n",
              "      <td>0.044533</td>\n",
              "      <td>0.002966</td>\n",
              "      <td>0.054459</td>\n",
              "      <td>31</td>\n",
              "    </tr>\n",
              "    <tr>\n",
              "      <th>32</th>\n",
              "      <td>0.002957</td>\n",
              "      <td>0.044338</td>\n",
              "      <td>0.002957</td>\n",
              "      <td>0.054382</td>\n",
              "      <td>0.002978</td>\n",
              "      <td>0.044835</td>\n",
              "      <td>0.002978</td>\n",
              "      <td>0.054568</td>\n",
              "      <td>32</td>\n",
              "    </tr>\n",
              "    <tr>\n",
              "      <th>33</th>\n",
              "      <td>0.002969</td>\n",
              "      <td>0.044449</td>\n",
              "      <td>0.002969</td>\n",
              "      <td>0.054489</td>\n",
              "      <td>0.002989</td>\n",
              "      <td>0.044738</td>\n",
              "      <td>0.002989</td>\n",
              "      <td>0.054670</td>\n",
              "      <td>33</td>\n",
              "    </tr>\n",
              "    <tr>\n",
              "      <th>34</th>\n",
              "      <td>0.002953</td>\n",
              "      <td>0.044355</td>\n",
              "      <td>0.002953</td>\n",
              "      <td>0.054342</td>\n",
              "      <td>0.002949</td>\n",
              "      <td>0.044449</td>\n",
              "      <td>0.002949</td>\n",
              "      <td>0.054307</td>\n",
              "      <td>34</td>\n",
              "    </tr>\n",
              "    <tr>\n",
              "      <th>35</th>\n",
              "      <td>0.002957</td>\n",
              "      <td>0.044352</td>\n",
              "      <td>0.002957</td>\n",
              "      <td>0.054381</td>\n",
              "      <td>0.002982</td>\n",
              "      <td>0.044875</td>\n",
              "      <td>0.002982</td>\n",
              "      <td>0.054606</td>\n",
              "      <td>35</td>\n",
              "    </tr>\n",
              "    <tr>\n",
              "      <th>36</th>\n",
              "      <td>0.002953</td>\n",
              "      <td>0.044306</td>\n",
              "      <td>0.002953</td>\n",
              "      <td>0.054346</td>\n",
              "      <td>0.003027</td>\n",
              "      <td>0.045104</td>\n",
              "      <td>0.003027</td>\n",
              "      <td>0.055020</td>\n",
              "      <td>36</td>\n",
              "    </tr>\n",
              "    <tr>\n",
              "      <th>37</th>\n",
              "      <td>0.002943</td>\n",
              "      <td>0.044319</td>\n",
              "      <td>0.002943</td>\n",
              "      <td>0.054254</td>\n",
              "      <td>0.002954</td>\n",
              "      <td>0.044551</td>\n",
              "      <td>0.002954</td>\n",
              "      <td>0.054354</td>\n",
              "      <td>37</td>\n",
              "    </tr>\n",
              "    <tr>\n",
              "      <th>38</th>\n",
              "      <td>0.002953</td>\n",
              "      <td>0.044291</td>\n",
              "      <td>0.002953</td>\n",
              "      <td>0.054342</td>\n",
              "      <td>0.002966</td>\n",
              "      <td>0.044497</td>\n",
              "      <td>0.002966</td>\n",
              "      <td>0.054465</td>\n",
              "      <td>38</td>\n",
              "    </tr>\n",
              "    <tr>\n",
              "      <th>39</th>\n",
              "      <td>0.002954</td>\n",
              "      <td>0.044332</td>\n",
              "      <td>0.002954</td>\n",
              "      <td>0.054349</td>\n",
              "      <td>0.002981</td>\n",
              "      <td>0.044753</td>\n",
              "      <td>0.002981</td>\n",
              "      <td>0.054600</td>\n",
              "      <td>39</td>\n",
              "    </tr>\n",
              "    <tr>\n",
              "      <th>40</th>\n",
              "      <td>0.002940</td>\n",
              "      <td>0.044251</td>\n",
              "      <td>0.002940</td>\n",
              "      <td>0.054223</td>\n",
              "      <td>0.002957</td>\n",
              "      <td>0.044367</td>\n",
              "      <td>0.002957</td>\n",
              "      <td>0.054378</td>\n",
              "      <td>40</td>\n",
              "    </tr>\n",
              "    <tr>\n",
              "      <th>41</th>\n",
              "      <td>0.002940</td>\n",
              "      <td>0.044210</td>\n",
              "      <td>0.002940</td>\n",
              "      <td>0.054218</td>\n",
              "      <td>0.002959</td>\n",
              "      <td>0.044438</td>\n",
              "      <td>0.002959</td>\n",
              "      <td>0.054399</td>\n",
              "      <td>41</td>\n",
              "    </tr>\n",
              "    <tr>\n",
              "      <th>42</th>\n",
              "      <td>0.002940</td>\n",
              "      <td>0.044262</td>\n",
              "      <td>0.002940</td>\n",
              "      <td>0.054220</td>\n",
              "      <td>0.002963</td>\n",
              "      <td>0.044443</td>\n",
              "      <td>0.002963</td>\n",
              "      <td>0.054431</td>\n",
              "      <td>42</td>\n",
              "    </tr>\n",
              "    <tr>\n",
              "      <th>43</th>\n",
              "      <td>0.002939</td>\n",
              "      <td>0.044227</td>\n",
              "      <td>0.002939</td>\n",
              "      <td>0.054212</td>\n",
              "      <td>0.002954</td>\n",
              "      <td>0.044496</td>\n",
              "      <td>0.002954</td>\n",
              "      <td>0.054346</td>\n",
              "      <td>43</td>\n",
              "    </tr>\n",
              "    <tr>\n",
              "      <th>44</th>\n",
              "      <td>0.002932</td>\n",
              "      <td>0.044189</td>\n",
              "      <td>0.002932</td>\n",
              "      <td>0.054144</td>\n",
              "      <td>0.002957</td>\n",
              "      <td>0.044560</td>\n",
              "      <td>0.002957</td>\n",
              "      <td>0.054377</td>\n",
              "      <td>44</td>\n",
              "    </tr>\n",
              "    <tr>\n",
              "      <th>45</th>\n",
              "      <td>0.002936</td>\n",
              "      <td>0.044210</td>\n",
              "      <td>0.002936</td>\n",
              "      <td>0.054185</td>\n",
              "      <td>0.002989</td>\n",
              "      <td>0.044861</td>\n",
              "      <td>0.002989</td>\n",
              "      <td>0.054670</td>\n",
              "      <td>45</td>\n",
              "    </tr>\n",
              "    <tr>\n",
              "      <th>46</th>\n",
              "      <td>0.002936</td>\n",
              "      <td>0.044231</td>\n",
              "      <td>0.002936</td>\n",
              "      <td>0.054181</td>\n",
              "      <td>0.002955</td>\n",
              "      <td>0.044607</td>\n",
              "      <td>0.002955</td>\n",
              "      <td>0.054359</td>\n",
              "      <td>46</td>\n",
              "    </tr>\n",
              "    <tr>\n",
              "      <th>47</th>\n",
              "      <td>0.002930</td>\n",
              "      <td>0.044182</td>\n",
              "      <td>0.002930</td>\n",
              "      <td>0.054131</td>\n",
              "      <td>0.002958</td>\n",
              "      <td>0.044605</td>\n",
              "      <td>0.002958</td>\n",
              "      <td>0.054387</td>\n",
              "      <td>47</td>\n",
              "    </tr>\n",
              "    <tr>\n",
              "      <th>48</th>\n",
              "      <td>0.002927</td>\n",
              "      <td>0.044142</td>\n",
              "      <td>0.002927</td>\n",
              "      <td>0.054098</td>\n",
              "      <td>0.002962</td>\n",
              "      <td>0.044336</td>\n",
              "      <td>0.002962</td>\n",
              "      <td>0.054426</td>\n",
              "      <td>48</td>\n",
              "    </tr>\n",
              "    <tr>\n",
              "      <th>49</th>\n",
              "      <td>0.002927</td>\n",
              "      <td>0.044174</td>\n",
              "      <td>0.002927</td>\n",
              "      <td>0.054106</td>\n",
              "      <td>0.002968</td>\n",
              "      <td>0.044667</td>\n",
              "      <td>0.002968</td>\n",
              "      <td>0.054477</td>\n",
              "      <td>49</td>\n",
              "    </tr>\n",
              "  </tbody>\n",
              "</table>\n",
              "</div>"
            ],
            "text/plain": [
              "        loss       mae       mse  ...   val_mse  val_root_mean_squared_error  epoch\n",
              "0   0.007971  0.067467  0.007971  ...  0.004155                     0.064456      0\n",
              "1   0.003872  0.050343  0.003872  ...  0.003608                     0.060065      1\n",
              "2   0.003483  0.047878  0.003483  ...  0.003971                     0.063016      2\n",
              "3   0.003310  0.046748  0.003310  ...  0.003379                     0.058127      3\n",
              "4   0.003258  0.046401  0.003258  ...  0.003179                     0.056382      4\n",
              "5   0.003222  0.046119  0.003222  ...  0.003467                     0.058878      5\n",
              "6   0.003159  0.045728  0.003159  ...  0.003175                     0.056348      6\n",
              "7   0.003129  0.045441  0.003129  ...  0.003118                     0.055835      7\n",
              "8   0.003104  0.045405  0.003104  ...  0.003191                     0.056489      8\n",
              "9   0.003096  0.045349  0.003096  ...  0.003054                     0.055259      9\n",
              "10  0.003063  0.045026  0.003063  ...  0.003142                     0.056052     10\n",
              "11  0.003061  0.045106  0.003061  ...  0.003084                     0.055536     11\n",
              "12  0.003047  0.044932  0.003047  ...  0.003104                     0.055717     12\n",
              "13  0.003046  0.044964  0.003046  ...  0.003201                     0.056578     13\n",
              "14  0.003050  0.045005  0.003050  ...  0.003048                     0.055212     14\n",
              "15  0.003032  0.044868  0.003032  ...  0.002994                     0.054722     15\n",
              "16  0.003026  0.044791  0.003026  ...  0.003042                     0.055150     16\n",
              "17  0.003028  0.044895  0.003028  ...  0.002999                     0.054761     17\n",
              "18  0.003019  0.044851  0.003019  ...  0.003019                     0.054950     18\n",
              "19  0.003016  0.044749  0.003016  ...  0.002994                     0.054717     19\n",
              "20  0.003012  0.044800  0.003012  ...  0.003018                     0.054939     20\n",
              "21  0.002995  0.044610  0.002995  ...  0.003004                     0.054813     21\n",
              "22  0.002992  0.044610  0.002992  ...  0.003060                     0.055313     22\n",
              "23  0.002985  0.044512  0.002985  ...  0.002973                     0.054524     23\n",
              "24  0.002984  0.044514  0.002984  ...  0.002993                     0.054704     24\n",
              "25  0.002986  0.044577  0.002986  ...  0.002963                     0.054435     25\n",
              "26  0.002975  0.044481  0.002975  ...  0.002979                     0.054580     26\n",
              "27  0.002971  0.044418  0.002971  ...  0.002972                     0.054513     27\n",
              "28  0.002975  0.044463  0.002975  ...  0.003137                     0.056012     28\n",
              "29  0.002975  0.044411  0.002975  ...  0.002988                     0.054660     29\n",
              "30  0.002971  0.044481  0.002971  ...  0.002963                     0.054434     30\n",
              "31  0.002964  0.044424  0.002964  ...  0.002966                     0.054459     31\n",
              "32  0.002957  0.044338  0.002957  ...  0.002978                     0.054568     32\n",
              "33  0.002969  0.044449  0.002969  ...  0.002989                     0.054670     33\n",
              "34  0.002953  0.044355  0.002953  ...  0.002949                     0.054307     34\n",
              "35  0.002957  0.044352  0.002957  ...  0.002982                     0.054606     35\n",
              "36  0.002953  0.044306  0.002953  ...  0.003027                     0.055020     36\n",
              "37  0.002943  0.044319  0.002943  ...  0.002954                     0.054354     37\n",
              "38  0.002953  0.044291  0.002953  ...  0.002966                     0.054465     38\n",
              "39  0.002954  0.044332  0.002954  ...  0.002981                     0.054600     39\n",
              "40  0.002940  0.044251  0.002940  ...  0.002957                     0.054378     40\n",
              "41  0.002940  0.044210  0.002940  ...  0.002959                     0.054399     41\n",
              "42  0.002940  0.044262  0.002940  ...  0.002963                     0.054431     42\n",
              "43  0.002939  0.044227  0.002939  ...  0.002954                     0.054346     43\n",
              "44  0.002932  0.044189  0.002932  ...  0.002957                     0.054377     44\n",
              "45  0.002936  0.044210  0.002936  ...  0.002989                     0.054670     45\n",
              "46  0.002936  0.044231  0.002936  ...  0.002955                     0.054359     46\n",
              "47  0.002930  0.044182  0.002930  ...  0.002958                     0.054387     47\n",
              "48  0.002927  0.044142  0.002927  ...  0.002962                     0.054426     48\n",
              "49  0.002927  0.044174  0.002927  ...  0.002968                     0.054477     49\n",
              "\n",
              "[50 rows x 9 columns]"
            ]
          },
          "metadata": {},
          "execution_count": 207
        }
      ]
    },
    {
      "cell_type": "code",
      "metadata": {
        "colab": {
          "base_uri": "https://localhost:8080/"
        },
        "id": "35lW_Hrh6JQE",
        "outputId": "6aa38994-c69d-4706-e3ec-52188e82b8b8"
      },
      "source": [
        "y_pred_train=model4.predict(x_train)\n",
        "mae_train=mean_absolute_error(y_train, y_pred_train)\n",
        "mse_train=mean_squared_error(y_train,y_pred_train)\n",
        "rmse_train=sqrt(mean_squared_error(y_train,y_pred_train))\n",
        "\n",
        "y_pred=model4.predict(x_test)\n",
        "MAE= mean_absolute_error(y_test, y_pred)\n",
        "MSE=mean_squared_error(y_test,y_pred)\n",
        "RMSE= sqrt(mean_squared_error(y_test,y_pred))\n",
        "\n",
        "\n",
        "print(\"Mean Absolute Error for Training Set :\",mae_train )\n",
        "print(\"Mean square Error for Training Set:\",mse_train )\n",
        "print(\"Root Mean square Error for Training Set:\", rmse_train)\n",
        "\n",
        "print(\"Mean Absolute Error for Test Set :\", MAE)\n",
        "print(\"Mean square Error for Test Set:\", MSE)\n",
        "print(\"Root Mean square Error for Test Set:\", RMSE)"
      ],
      "id": "35lW_Hrh6JQE",
      "execution_count": 247,
      "outputs": [
        {
          "output_type": "stream",
          "name": "stdout",
          "text": [
            "Mean Absolute Error for Training Set : 0.044375912823953284\n",
            "Mean square Error for Training Set: 0.0029342900829840506\n",
            "Root Mean square Error for Training Set: 0.054169087891379995\n",
            "Mean Absolute Error for Test Set : 0.04508486062392488\n",
            "Mean square Error for Test Set: 0.003021091623637819\n",
            "Root Mean square Error for Test Set: 0.05496445782173985\n"
          ]
        }
      ]
    },
    {
      "cell_type": "code",
      "metadata": {
        "id": "jYyZArVu6JSq"
      },
      "source": [
        "add_test_results('m4',mae_train,mse_train,rmse_train,MAE,MSE,RMSE)"
      ],
      "id": "jYyZArVu6JSq",
      "execution_count": 248,
      "outputs": []
    },
    {
      "cell_type": "code",
      "metadata": {
        "colab": {
          "base_uri": "https://localhost:8080/",
          "height": 283
        },
        "id": "5XvX1gbU-6CT",
        "outputId": "5b0f7e8f-59ec-4600-eb31-8615bcf48fce"
      },
      "source": [
        "plt.scatter(y_test, y_pred)\n",
        "plt.xlabel('Actual Values [Burn Rate]')\n",
        "plt.ylabel('Predictions [Burn Rate]')\n",
        "lims = [0, 1]\n",
        "plt.xlim(0,1)\n",
        "plt.ylim(lims)\n",
        "_ = plt.plot(lims, lims)"
      ],
      "id": "5XvX1gbU-6CT",
      "execution_count": 210,
      "outputs": [
        {
          "output_type": "display_data",
          "data": {
            "image/png": "[encoded data removed]",
            "text/plain": [
              "<Figure size 432x288 with 1 Axes>"
            ]
          },
          "metadata": {
            "needs_background": "light"
          }
        }
      ]
    },
    {
      "cell_type": "markdown",
      "metadata": {
        "id": "wq55_UEy-sV_"
      },
      "source": [
        "Model 5"
      ],
      "id": "wq55_UEy-sV_"
    },
    {
      "cell_type": "code",
      "metadata": {
        "colab": {
          "base_uri": "https://localhost:8080/"
        },
        "id": "niASMMD26JU9",
        "outputId": "4bc8ff9c-6ca8-41a3-846f-9f1500a1cb5f"
      },
      "source": [
        "rmse=tf.keras.metrics.RootMeanSquaredError()\n",
        "model5=keras.Sequential([\n",
        "layers.Dense(12, activation=tf.nn.relu, input_shape=[len(x_train.keys())]),\n",
        "layers.Dense(10, activation=tf.nn.relu),\n",
        "layers.Dense(8, activation=tf.nn.relu),\n",
        "layers.Dense(4,activation=tf.nn.relu),\n",
        "layers.Dense(1)])\n",
        "model5.compile(keras.optimizers.Adagrad(lr=0.1), loss='mean_squared_error', metrics=['mae','mse', rmse])\n",
        "history=model5.fit(x_train, y_train, epochs=50, validation_split=0.2,verbose=1, batch_size=32)\n",
        "\n"
      ],
      "id": "niASMMD26JU9",
      "execution_count": 271,
      "outputs": [
        {
          "output_type": "stream",
          "name": "stderr",
          "text": [
            "/usr/local/lib/python3.7/dist-packages/keras/optimizer_v2/adagrad.py:74: UserWarning: The `lr` argument is deprecated, use `learning_rate` instead.\n",
            "  super(Adagrad, self).__init__(name, **kwargs)\n"
          ]
        },
        {
          "output_type": "stream",
          "name": "stdout",
          "text": [
            "Epoch 1/50\n",
            "372/372 [==============================] - 1s 3ms/step - loss: 0.0123 - mae: 0.0784 - mse: 0.0123 - root_mean_squared_error: 0.1110 - val_loss: 0.0042 - val_mae: 0.0522 - val_mse: 0.0042 - val_root_mean_squared_error: 0.0649\n",
            "Epoch 2/50\n",
            "372/372 [==============================] - 1s 2ms/step - loss: 0.0037 - mae: 0.0491 - mse: 0.0037 - root_mean_squared_error: 0.0610 - val_loss: 0.0034 - val_mae: 0.0465 - val_mse: 0.0034 - val_root_mean_squared_error: 0.0580\n",
            "Epoch 3/50\n",
            "372/372 [==============================] - 1s 2ms/step - loss: 0.0034 - mae: 0.0469 - mse: 0.0034 - root_mean_squared_error: 0.0580 - val_loss: 0.0032 - val_mae: 0.0453 - val_mse: 0.0032 - val_root_mean_squared_error: 0.0566\n",
            "Epoch 4/50\n",
            "372/372 [==============================] - 1s 2ms/step - loss: 0.0032 - mae: 0.0461 - mse: 0.0032 - root_mean_squared_error: 0.0569 - val_loss: 0.0031 - val_mae: 0.0451 - val_mse: 0.0031 - val_root_mean_squared_error: 0.0557\n",
            "Epoch 5/50\n",
            "372/372 [==============================] - 1s 2ms/step - loss: 0.0032 - mae: 0.0458 - mse: 0.0032 - root_mean_squared_error: 0.0563 - val_loss: 0.0031 - val_mae: 0.0449 - val_mse: 0.0031 - val_root_mean_squared_error: 0.0554\n",
            "Epoch 6/50\n",
            "372/372 [==============================] - 1s 2ms/step - loss: 0.0031 - mae: 0.0454 - mse: 0.0031 - root_mean_squared_error: 0.0558 - val_loss: 0.0031 - val_mae: 0.0445 - val_mse: 0.0031 - val_root_mean_squared_error: 0.0554\n",
            "Epoch 7/50\n",
            "372/372 [==============================] - 1s 2ms/step - loss: 0.0031 - mae: 0.0452 - mse: 0.0031 - root_mean_squared_error: 0.0555 - val_loss: 0.0030 - val_mae: 0.0443 - val_mse: 0.0030 - val_root_mean_squared_error: 0.0547\n",
            "Epoch 8/50\n",
            "372/372 [==============================] - 1s 2ms/step - loss: 0.0031 - mae: 0.0451 - mse: 0.0031 - root_mean_squared_error: 0.0553 - val_loss: 0.0033 - val_mae: 0.0467 - val_mse: 0.0033 - val_root_mean_squared_error: 0.0573\n",
            "Epoch 9/50\n",
            "372/372 [==============================] - 1s 2ms/step - loss: 0.0030 - mae: 0.0450 - mse: 0.0030 - root_mean_squared_error: 0.0552 - val_loss: 0.0030 - val_mae: 0.0443 - val_mse: 0.0030 - val_root_mean_squared_error: 0.0546\n",
            "Epoch 10/50\n",
            "372/372 [==============================] - 1s 2ms/step - loss: 0.0030 - mae: 0.0449 - mse: 0.0030 - root_mean_squared_error: 0.0550 - val_loss: 0.0030 - val_mae: 0.0442 - val_mse: 0.0030 - val_root_mean_squared_error: 0.0543\n",
            "Epoch 11/50\n",
            "372/372 [==============================] - 1s 2ms/step - loss: 0.0030 - mae: 0.0448 - mse: 0.0030 - root_mean_squared_error: 0.0549 - val_loss: 0.0032 - val_mae: 0.0461 - val_mse: 0.0032 - val_root_mean_squared_error: 0.0567\n",
            "Epoch 12/50\n",
            "372/372 [==============================] - 1s 2ms/step - loss: 0.0030 - mae: 0.0448 - mse: 0.0030 - root_mean_squared_error: 0.0548 - val_loss: 0.0030 - val_mae: 0.0445 - val_mse: 0.0030 - val_root_mean_squared_error: 0.0546\n",
            "Epoch 13/50\n",
            "372/372 [==============================] - 1s 2ms/step - loss: 0.0030 - mae: 0.0446 - mse: 0.0030 - root_mean_squared_error: 0.0547 - val_loss: 0.0029 - val_mae: 0.0440 - val_mse: 0.0029 - val_root_mean_squared_error: 0.0542\n",
            "Epoch 14/50\n",
            "372/372 [==============================] - 1s 2ms/step - loss: 0.0030 - mae: 0.0447 - mse: 0.0030 - root_mean_squared_error: 0.0546 - val_loss: 0.0030 - val_mae: 0.0445 - val_mse: 0.0030 - val_root_mean_squared_error: 0.0545\n",
            "Epoch 15/50\n",
            "372/372 [==============================] - 1s 2ms/step - loss: 0.0030 - mae: 0.0445 - mse: 0.0030 - root_mean_squared_error: 0.0545 - val_loss: 0.0029 - val_mae: 0.0442 - val_mse: 0.0029 - val_root_mean_squared_error: 0.0542\n",
            "Epoch 16/50\n",
            "372/372 [==============================] - 1s 2ms/step - loss: 0.0030 - mae: 0.0446 - mse: 0.0030 - root_mean_squared_error: 0.0545 - val_loss: 0.0029 - val_mae: 0.0443 - val_mse: 0.0029 - val_root_mean_squared_error: 0.0543\n",
            "Epoch 17/50\n",
            "372/372 [==============================] - 1s 2ms/step - loss: 0.0030 - mae: 0.0445 - mse: 0.0030 - root_mean_squared_error: 0.0544 - val_loss: 0.0029 - val_mae: 0.0441 - val_mse: 0.0029 - val_root_mean_squared_error: 0.0542\n",
            "Epoch 18/50\n",
            "372/372 [==============================] - 1s 2ms/step - loss: 0.0030 - mae: 0.0446 - mse: 0.0030 - root_mean_squared_error: 0.0545 - val_loss: 0.0029 - val_mae: 0.0441 - val_mse: 0.0029 - val_root_mean_squared_error: 0.0540\n",
            "Epoch 19/50\n",
            "372/372 [==============================] - 1s 2ms/step - loss: 0.0030 - mae: 0.0445 - mse: 0.0030 - root_mean_squared_error: 0.0544 - val_loss: 0.0029 - val_mae: 0.0439 - val_mse: 0.0029 - val_root_mean_squared_error: 0.0540\n",
            "Epoch 20/50\n",
            "372/372 [==============================] - 1s 2ms/step - loss: 0.0030 - mae: 0.0444 - mse: 0.0030 - root_mean_squared_error: 0.0544 - val_loss: 0.0030 - val_mae: 0.0447 - val_mse: 0.0030 - val_root_mean_squared_error: 0.0546\n",
            "Epoch 21/50\n",
            "372/372 [==============================] - 1s 2ms/step - loss: 0.0029 - mae: 0.0444 - mse: 0.0029 - root_mean_squared_error: 0.0543 - val_loss: 0.0029 - val_mae: 0.0441 - val_mse: 0.0029 - val_root_mean_squared_error: 0.0539\n",
            "Epoch 22/50\n",
            "372/372 [==============================] - 1s 2ms/step - loss: 0.0030 - mae: 0.0445 - mse: 0.0030 - root_mean_squared_error: 0.0543 - val_loss: 0.0030 - val_mae: 0.0446 - val_mse: 0.0030 - val_root_mean_squared_error: 0.0545\n",
            "Epoch 23/50\n",
            "372/372 [==============================] - 1s 2ms/step - loss: 0.0029 - mae: 0.0444 - mse: 0.0029 - root_mean_squared_error: 0.0543 - val_loss: 0.0029 - val_mae: 0.0439 - val_mse: 0.0029 - val_root_mean_squared_error: 0.0539\n",
            "Epoch 24/50\n",
            "372/372 [==============================] - 1s 2ms/step - loss: 0.0029 - mae: 0.0444 - mse: 0.0029 - root_mean_squared_error: 0.0542 - val_loss: 0.0031 - val_mae: 0.0451 - val_mse: 0.0031 - val_root_mean_squared_error: 0.0552\n",
            "Epoch 25/50\n",
            "372/372 [==============================] - 1s 2ms/step - loss: 0.0029 - mae: 0.0443 - mse: 0.0029 - root_mean_squared_error: 0.0542 - val_loss: 0.0030 - val_mae: 0.0444 - val_mse: 0.0030 - val_root_mean_squared_error: 0.0544\n",
            "Epoch 26/50\n",
            "372/372 [==============================] - 1s 2ms/step - loss: 0.0029 - mae: 0.0444 - mse: 0.0029 - root_mean_squared_error: 0.0543 - val_loss: 0.0029 - val_mae: 0.0438 - val_mse: 0.0029 - val_root_mean_squared_error: 0.0541\n",
            "Epoch 27/50\n",
            "372/372 [==============================] - 1s 2ms/step - loss: 0.0029 - mae: 0.0443 - mse: 0.0029 - root_mean_squared_error: 0.0542 - val_loss: 0.0029 - val_mae: 0.0443 - val_mse: 0.0029 - val_root_mean_squared_error: 0.0542\n",
            "Epoch 28/50\n",
            "372/372 [==============================] - 1s 2ms/step - loss: 0.0029 - mae: 0.0443 - mse: 0.0029 - root_mean_squared_error: 0.0542 - val_loss: 0.0029 - val_mae: 0.0439 - val_mse: 0.0029 - val_root_mean_squared_error: 0.0538\n",
            "Epoch 29/50\n",
            "372/372 [==============================] - 1s 2ms/step - loss: 0.0029 - mae: 0.0443 - mse: 0.0029 - root_mean_squared_error: 0.0541 - val_loss: 0.0029 - val_mae: 0.0445 - val_mse: 0.0029 - val_root_mean_squared_error: 0.0542\n",
            "Epoch 30/50\n",
            "372/372 [==============================] - 1s 2ms/step - loss: 0.0029 - mae: 0.0443 - mse: 0.0029 - root_mean_squared_error: 0.0542 - val_loss: 0.0029 - val_mae: 0.0442 - val_mse: 0.0029 - val_root_mean_squared_error: 0.0540\n",
            "Epoch 31/50\n",
            "372/372 [==============================] - 1s 2ms/step - loss: 0.0029 - mae: 0.0443 - mse: 0.0029 - root_mean_squared_error: 0.0541 - val_loss: 0.0030 - val_mae: 0.0444 - val_mse: 0.0030 - val_root_mean_squared_error: 0.0544\n",
            "Epoch 32/50\n",
            "372/372 [==============================] - 1s 2ms/step - loss: 0.0029 - mae: 0.0443 - mse: 0.0029 - root_mean_squared_error: 0.0541 - val_loss: 0.0029 - val_mae: 0.0438 - val_mse: 0.0029 - val_root_mean_squared_error: 0.0539\n",
            "Epoch 33/50\n",
            "372/372 [==============================] - 1s 2ms/step - loss: 0.0029 - mae: 0.0443 - mse: 0.0029 - root_mean_squared_error: 0.0541 - val_loss: 0.0029 - val_mae: 0.0439 - val_mse: 0.0029 - val_root_mean_squared_error: 0.0537\n",
            "Epoch 34/50\n",
            "372/372 [==============================] - 1s 2ms/step - loss: 0.0029 - mae: 0.0442 - mse: 0.0029 - root_mean_squared_error: 0.0541 - val_loss: 0.0029 - val_mae: 0.0443 - val_mse: 0.0029 - val_root_mean_squared_error: 0.0542\n",
            "Epoch 35/50\n",
            "372/372 [==============================] - 1s 2ms/step - loss: 0.0029 - mae: 0.0442 - mse: 0.0029 - root_mean_squared_error: 0.0541 - val_loss: 0.0029 - val_mae: 0.0439 - val_mse: 0.0029 - val_root_mean_squared_error: 0.0538\n",
            "Epoch 36/50\n",
            "372/372 [==============================] - 1s 2ms/step - loss: 0.0029 - mae: 0.0443 - mse: 0.0029 - root_mean_squared_error: 0.0541 - val_loss: 0.0029 - val_mae: 0.0444 - val_mse: 0.0029 - val_root_mean_squared_error: 0.0541\n",
            "Epoch 37/50\n",
            "372/372 [==============================] - 1s 2ms/step - loss: 0.0029 - mae: 0.0442 - mse: 0.0029 - root_mean_squared_error: 0.0541 - val_loss: 0.0029 - val_mae: 0.0443 - val_mse: 0.0029 - val_root_mean_squared_error: 0.0543\n",
            "Epoch 38/50\n",
            "372/372 [==============================] - 1s 2ms/step - loss: 0.0029 - mae: 0.0442 - mse: 0.0029 - root_mean_squared_error: 0.0540 - val_loss: 0.0030 - val_mae: 0.0447 - val_mse: 0.0030 - val_root_mean_squared_error: 0.0544\n",
            "Epoch 39/50\n",
            "372/372 [==============================] - 1s 2ms/step - loss: 0.0029 - mae: 0.0442 - mse: 0.0029 - root_mean_squared_error: 0.0540 - val_loss: 0.0029 - val_mae: 0.0440 - val_mse: 0.0029 - val_root_mean_squared_error: 0.0539\n",
            "Epoch 40/50\n",
            "372/372 [==============================] - 1s 2ms/step - loss: 0.0029 - mae: 0.0442 - mse: 0.0029 - root_mean_squared_error: 0.0540 - val_loss: 0.0031 - val_mae: 0.0454 - val_mse: 0.0031 - val_root_mean_squared_error: 0.0552\n",
            "Epoch 41/50\n",
            "372/372 [==============================] - 1s 2ms/step - loss: 0.0029 - mae: 0.0442 - mse: 0.0029 - root_mean_squared_error: 0.0540 - val_loss: 0.0029 - val_mae: 0.0445 - val_mse: 0.0029 - val_root_mean_squared_error: 0.0542\n",
            "Epoch 42/50\n",
            "372/372 [==============================] - 1s 2ms/step - loss: 0.0029 - mae: 0.0442 - mse: 0.0029 - root_mean_squared_error: 0.0540 - val_loss: 0.0029 - val_mae: 0.0440 - val_mse: 0.0029 - val_root_mean_squared_error: 0.0537\n",
            "Epoch 43/50\n",
            "372/372 [==============================] - 1s 2ms/step - loss: 0.0029 - mae: 0.0442 - mse: 0.0029 - root_mean_squared_error: 0.0540 - val_loss: 0.0029 - val_mae: 0.0440 - val_mse: 0.0029 - val_root_mean_squared_error: 0.0538\n",
            "Epoch 44/50\n",
            "372/372 [==============================] - 1s 2ms/step - loss: 0.0029 - mae: 0.0441 - mse: 0.0029 - root_mean_squared_error: 0.0539 - val_loss: 0.0031 - val_mae: 0.0451 - val_mse: 0.0031 - val_root_mean_squared_error: 0.0553\n",
            "Epoch 45/50\n",
            "372/372 [==============================] - 1s 2ms/step - loss: 0.0029 - mae: 0.0441 - mse: 0.0029 - root_mean_squared_error: 0.0540 - val_loss: 0.0030 - val_mae: 0.0447 - val_mse: 0.0030 - val_root_mean_squared_error: 0.0543\n",
            "Epoch 46/50\n",
            "372/372 [==============================] - 1s 2ms/step - loss: 0.0029 - mae: 0.0441 - mse: 0.0029 - root_mean_squared_error: 0.0540 - val_loss: 0.0029 - val_mae: 0.0438 - val_mse: 0.0029 - val_root_mean_squared_error: 0.0538\n",
            "Epoch 47/50\n",
            "372/372 [==============================] - 1s 2ms/step - loss: 0.0029 - mae: 0.0441 - mse: 0.0029 - root_mean_squared_error: 0.0539 - val_loss: 0.0029 - val_mae: 0.0438 - val_mse: 0.0029 - val_root_mean_squared_error: 0.0539\n",
            "Epoch 48/50\n",
            "372/372 [==============================] - 1s 2ms/step - loss: 0.0029 - mae: 0.0441 - mse: 0.0029 - root_mean_squared_error: 0.0539 - val_loss: 0.0030 - val_mae: 0.0447 - val_mse: 0.0030 - val_root_mean_squared_error: 0.0545\n",
            "Epoch 49/50\n",
            "372/372 [==============================] - 1s 2ms/step - loss: 0.0029 - mae: 0.0442 - mse: 0.0029 - root_mean_squared_error: 0.0540 - val_loss: 0.0029 - val_mae: 0.0438 - val_mse: 0.0029 - val_root_mean_squared_error: 0.0537\n",
            "Epoch 50/50\n",
            "372/372 [==============================] - 1s 2ms/step - loss: 0.0029 - mae: 0.0441 - mse: 0.0029 - root_mean_squared_error: 0.0539 - val_loss: 0.0029 - val_mae: 0.0443 - val_mse: 0.0029 - val_root_mean_squared_error: 0.0539\n"
          ]
        }
      ]
    },
    {
      "cell_type": "code",
      "metadata": {
        "id": "FaP0aarvbC9H"
      },
      "source": [
        ""
      ],
      "id": "FaP0aarvbC9H",
      "execution_count": 211,
      "outputs": []
    },
    {
      "cell_type": "code",
      "metadata": {
        "colab": {
          "base_uri": "https://localhost:8080/",
          "height": 283
        },
        "id": "clSigq236JXb",
        "outputId": "a1450971-2dbf-4e95-f04b-4516b7c2a7a9"
      },
      "source": [
        "plt.plot(history.history['loss'], label='loss')\n",
        "plt.plot(history.history['val_loss'], label='val_loss')\n",
        "plt.ylim([0, 0.01])\n",
        "plt.xlabel('Epoch')\n",
        "plt.ylabel('Error [Burn Rate')\n",
        "plt.legend()\n",
        "plt.grid(True)"
      ],
      "id": "clSigq236JXb",
      "execution_count": 272,
      "outputs": [
        {
          "output_type": "display_data",
          "data": {
            "image/png": "[encoded data removed]",
            "text/plain": [
              "<Figure size 432x288 with 1 Axes>"
            ]
          },
          "metadata": {
            "needs_background": "light"
          }
        }
      ]
    },
    {
      "cell_type": "code",
      "metadata": {
        "colab": {
          "base_uri": "https://localhost:8080/",
          "height": 283
        },
        "id": "oek56wXqHo5M",
        "outputId": "f8786627-a97c-4d6a-e929-f1819048d1ad"
      },
      "source": [
        "plt.plot(history.history['mae'], label='mae')\n",
        "plt.plot(history.history['val_mae'], label='val_mae')\n",
        "plt.ylim([0, 0.1])\n",
        "plt.xlabel('Epoch')\n",
        "plt.ylabel('Error [Burn Rate')\n",
        "plt.legend()\n",
        "plt.grid(True)"
      ],
      "id": "oek56wXqHo5M",
      "execution_count": 269,
      "outputs": [
        {
          "output_type": "display_data",
          "data": {
            "image/png": "[encoded data removed]",
            "text/plain": [
              "<Figure size 432x288 with 1 Axes>"
            ]
          },
          "metadata": {
            "needs_background": "light"
          }
        }
      ]
    },
    {
      "cell_type": "code",
      "metadata": {
        "colab": {
          "base_uri": "https://localhost:8080/"
        },
        "id": "V98j4XUs6Ja3",
        "outputId": "e77aec32-e8ef-4f28-ccc2-5966eb829ce6"
      },
      "source": [
        "y_pred_train=model5.predict(x_train)\n",
        "mae_train=mean_absolute_error(y_train, y_pred_train)\n",
        "mse_train=mean_squared_error(y_train,y_pred_train)\n",
        "rmse_train=sqrt(mean_squared_error(y_train,y_pred_train))\n",
        "\n",
        "y_pred=model5.predict(x_test)\n",
        "MAE= mean_absolute_error(y_test, y_pred)\n",
        "MSE=mean_squared_error(y_test,y_pred)\n",
        "RMSE= sqrt(mean_squared_error(y_test,y_pred))\n",
        "\n",
        "\n",
        "print(\"Mean Absolute Error for Training Set :\",mae_train )\n",
        "print(\"Mean square Error for Training Set:\",mse_train )\n",
        "print(\"Root Mean square Error for Training Set:\", rmse_train)\n",
        "\n",
        "print(\"Mean Absolute Error for Test Set :\", MAE)\n",
        "print(\"Mean square Error for Test Set:\", MSE)\n",
        "print(\"Root Mean square Error for Test Set:\", RMSE)"
      ],
      "id": "V98j4XUs6Ja3",
      "execution_count": 270,
      "outputs": [
        {
          "output_type": "stream",
          "name": "stdout",
          "text": [
            "Mean Absolute Error for Training Set : 0.04405557235285055\n",
            "Mean square Error for Training Set: 0.0028970993098667228\n",
            "Root Mean square Error for Training Set: 0.05382470910155226\n",
            "Mean Absolute Error for Test Set : 0.04509774427297873\n",
            "Mean square Error for Test Set: 0.002997805826786506\n",
            "Root Mean square Error for Test Set: 0.05475222211733973\n"
          ]
        }
      ]
    },
    {
      "cell_type": "code",
      "metadata": {
        "colab": {
          "base_uri": "https://localhost:8080/",
          "height": 1000
        },
        "id": "jXlsNCoaCmoi",
        "outputId": "8a8ec769-04aa-4bc7-d4f0-f1e829cdc3d0"
      },
      "source": [
        "hist=pd.DataFrame(history.history)\n",
        "hist['epoch']=history.epoch\n",
        "hist"
      ],
      "id": "jXlsNCoaCmoi",
      "execution_count": 215,
      "outputs": [
        {
          "output_type": "execute_result",
          "data": {
            "text/html": [
              "<div>\n",
              "<style scoped>\n",
              "    .dataframe tbody tr th:only-of-type {\n",
              "        vertical-align: middle;\n",
              "    }\n",
              "\n",
              "    .dataframe tbody tr th {\n",
              "        vertical-align: top;\n",
              "    }\n",
              "\n",
              "    .dataframe thead th {\n",
              "        text-align: right;\n",
              "    }\n",
              "</style>\n",
              "<table border=\"1\" class=\"dataframe\">\n",
              "  <thead>\n",
              "    <tr style=\"text-align: right;\">\n",
              "      <th></th>\n",
              "      <th>loss</th>\n",
              "      <th>mae</th>\n",
              "      <th>mse</th>\n",
              "      <th>root_mean_squared_error</th>\n",
              "      <th>val_loss</th>\n",
              "      <th>val_mae</th>\n",
              "      <th>val_mse</th>\n",
              "      <th>val_root_mean_squared_error</th>\n",
              "      <th>epoch</th>\n",
              "    </tr>\n",
              "  </thead>\n",
              "  <tbody>\n",
              "    <tr>\n",
              "      <th>0</th>\n",
              "      <td>0.011380</td>\n",
              "      <td>0.079128</td>\n",
              "      <td>0.011380</td>\n",
              "      <td>0.106678</td>\n",
              "      <td>0.006342</td>\n",
              "      <td>0.063623</td>\n",
              "      <td>0.006342</td>\n",
              "      <td>0.079635</td>\n",
              "      <td>0</td>\n",
              "    </tr>\n",
              "    <tr>\n",
              "      <th>1</th>\n",
              "      <td>0.005046</td>\n",
              "      <td>0.057147</td>\n",
              "      <td>0.005046</td>\n",
              "      <td>0.071035</td>\n",
              "      <td>0.004235</td>\n",
              "      <td>0.052577</td>\n",
              "      <td>0.004235</td>\n",
              "      <td>0.065076</td>\n",
              "      <td>1</td>\n",
              "    </tr>\n",
              "    <tr>\n",
              "      <th>2</th>\n",
              "      <td>0.003983</td>\n",
              "      <td>0.051541</td>\n",
              "      <td>0.003983</td>\n",
              "      <td>0.063111</td>\n",
              "      <td>0.003755</td>\n",
              "      <td>0.049775</td>\n",
              "      <td>0.003755</td>\n",
              "      <td>0.061274</td>\n",
              "      <td>2</td>\n",
              "    </tr>\n",
              "    <tr>\n",
              "      <th>3</th>\n",
              "      <td>0.003595</td>\n",
              "      <td>0.049091</td>\n",
              "      <td>0.003595</td>\n",
              "      <td>0.059960</td>\n",
              "      <td>0.004132</td>\n",
              "      <td>0.052985</td>\n",
              "      <td>0.004132</td>\n",
              "      <td>0.064280</td>\n",
              "      <td>3</td>\n",
              "    </tr>\n",
              "    <tr>\n",
              "      <th>4</th>\n",
              "      <td>0.003452</td>\n",
              "      <td>0.048113</td>\n",
              "      <td>0.003452</td>\n",
              "      <td>0.058751</td>\n",
              "      <td>0.003437</td>\n",
              "      <td>0.048514</td>\n",
              "      <td>0.003437</td>\n",
              "      <td>0.058626</td>\n",
              "      <td>4</td>\n",
              "    </tr>\n",
              "    <tr>\n",
              "      <th>5</th>\n",
              "      <td>0.003342</td>\n",
              "      <td>0.047252</td>\n",
              "      <td>0.003342</td>\n",
              "      <td>0.057812</td>\n",
              "      <td>0.003291</td>\n",
              "      <td>0.047358</td>\n",
              "      <td>0.003291</td>\n",
              "      <td>0.057369</td>\n",
              "      <td>5</td>\n",
              "    </tr>\n",
              "    <tr>\n",
              "      <th>6</th>\n",
              "      <td>0.003286</td>\n",
              "      <td>0.046806</td>\n",
              "      <td>0.003286</td>\n",
              "      <td>0.057324</td>\n",
              "      <td>0.003367</td>\n",
              "      <td>0.048037</td>\n",
              "      <td>0.003367</td>\n",
              "      <td>0.058025</td>\n",
              "      <td>6</td>\n",
              "    </tr>\n",
              "    <tr>\n",
              "      <th>7</th>\n",
              "      <td>0.003214</td>\n",
              "      <td>0.046244</td>\n",
              "      <td>0.003214</td>\n",
              "      <td>0.056694</td>\n",
              "      <td>0.003206</td>\n",
              "      <td>0.046820</td>\n",
              "      <td>0.003206</td>\n",
              "      <td>0.056622</td>\n",
              "      <td>7</td>\n",
              "    </tr>\n",
              "    <tr>\n",
              "      <th>8</th>\n",
              "      <td>0.003200</td>\n",
              "      <td>0.046245</td>\n",
              "      <td>0.003200</td>\n",
              "      <td>0.056564</td>\n",
              "      <td>0.003182</td>\n",
              "      <td>0.046500</td>\n",
              "      <td>0.003182</td>\n",
              "      <td>0.056413</td>\n",
              "      <td>8</td>\n",
              "    </tr>\n",
              "    <tr>\n",
              "      <th>9</th>\n",
              "      <td>0.003149</td>\n",
              "      <td>0.045876</td>\n",
              "      <td>0.003149</td>\n",
              "      <td>0.056114</td>\n",
              "      <td>0.003237</td>\n",
              "      <td>0.047123</td>\n",
              "      <td>0.003237</td>\n",
              "      <td>0.056894</td>\n",
              "      <td>9</td>\n",
              "    </tr>\n",
              "    <tr>\n",
              "      <th>10</th>\n",
              "      <td>0.003153</td>\n",
              "      <td>0.045937</td>\n",
              "      <td>0.003153</td>\n",
              "      <td>0.056149</td>\n",
              "      <td>0.003200</td>\n",
              "      <td>0.046327</td>\n",
              "      <td>0.003200</td>\n",
              "      <td>0.056564</td>\n",
              "      <td>10</td>\n",
              "    </tr>\n",
              "    <tr>\n",
              "      <th>11</th>\n",
              "      <td>0.003110</td>\n",
              "      <td>0.045651</td>\n",
              "      <td>0.003110</td>\n",
              "      <td>0.055764</td>\n",
              "      <td>0.003120</td>\n",
              "      <td>0.046185</td>\n",
              "      <td>0.003120</td>\n",
              "      <td>0.055856</td>\n",
              "      <td>11</td>\n",
              "    </tr>\n",
              "    <tr>\n",
              "      <th>12</th>\n",
              "      <td>0.003100</td>\n",
              "      <td>0.045553</td>\n",
              "      <td>0.003100</td>\n",
              "      <td>0.055679</td>\n",
              "      <td>0.003126</td>\n",
              "      <td>0.046046</td>\n",
              "      <td>0.003126</td>\n",
              "      <td>0.055911</td>\n",
              "      <td>12</td>\n",
              "    </tr>\n",
              "    <tr>\n",
              "      <th>13</th>\n",
              "      <td>0.003085</td>\n",
              "      <td>0.045392</td>\n",
              "      <td>0.003085</td>\n",
              "      <td>0.055546</td>\n",
              "      <td>0.003095</td>\n",
              "      <td>0.045687</td>\n",
              "      <td>0.003095</td>\n",
              "      <td>0.055630</td>\n",
              "      <td>13</td>\n",
              "    </tr>\n",
              "    <tr>\n",
              "      <th>14</th>\n",
              "      <td>0.003071</td>\n",
              "      <td>0.045347</td>\n",
              "      <td>0.003071</td>\n",
              "      <td>0.055419</td>\n",
              "      <td>0.003084</td>\n",
              "      <td>0.045614</td>\n",
              "      <td>0.003084</td>\n",
              "      <td>0.055531</td>\n",
              "      <td>14</td>\n",
              "    </tr>\n",
              "    <tr>\n",
              "      <th>15</th>\n",
              "      <td>0.003071</td>\n",
              "      <td>0.045360</td>\n",
              "      <td>0.003071</td>\n",
              "      <td>0.055413</td>\n",
              "      <td>0.003046</td>\n",
              "      <td>0.045499</td>\n",
              "      <td>0.003046</td>\n",
              "      <td>0.055192</td>\n",
              "      <td>15</td>\n",
              "    </tr>\n",
              "    <tr>\n",
              "      <th>16</th>\n",
              "      <td>0.003074</td>\n",
              "      <td>0.045316</td>\n",
              "      <td>0.003074</td>\n",
              "      <td>0.055443</td>\n",
              "      <td>0.003080</td>\n",
              "      <td>0.045721</td>\n",
              "      <td>0.003080</td>\n",
              "      <td>0.055494</td>\n",
              "      <td>16</td>\n",
              "    </tr>\n",
              "    <tr>\n",
              "      <th>17</th>\n",
              "      <td>0.003027</td>\n",
              "      <td>0.045049</td>\n",
              "      <td>0.003027</td>\n",
              "      <td>0.055017</td>\n",
              "      <td>0.003032</td>\n",
              "      <td>0.045366</td>\n",
              "      <td>0.003032</td>\n",
              "      <td>0.055060</td>\n",
              "      <td>17</td>\n",
              "    </tr>\n",
              "    <tr>\n",
              "      <th>18</th>\n",
              "      <td>0.003043</td>\n",
              "      <td>0.045125</td>\n",
              "      <td>0.003043</td>\n",
              "      <td>0.055162</td>\n",
              "      <td>0.003051</td>\n",
              "      <td>0.045612</td>\n",
              "      <td>0.003051</td>\n",
              "      <td>0.055235</td>\n",
              "      <td>18</td>\n",
              "    </tr>\n",
              "    <tr>\n",
              "      <th>19</th>\n",
              "      <td>0.003048</td>\n",
              "      <td>0.045325</td>\n",
              "      <td>0.003048</td>\n",
              "      <td>0.055206</td>\n",
              "      <td>0.003026</td>\n",
              "      <td>0.045234</td>\n",
              "      <td>0.003026</td>\n",
              "      <td>0.055009</td>\n",
              "      <td>19</td>\n",
              "    </tr>\n",
              "    <tr>\n",
              "      <th>20</th>\n",
              "      <td>0.003026</td>\n",
              "      <td>0.045085</td>\n",
              "      <td>0.003026</td>\n",
              "      <td>0.055006</td>\n",
              "      <td>0.003030</td>\n",
              "      <td>0.045305</td>\n",
              "      <td>0.003030</td>\n",
              "      <td>0.055047</td>\n",
              "      <td>20</td>\n",
              "    </tr>\n",
              "    <tr>\n",
              "      <th>21</th>\n",
              "      <td>0.003023</td>\n",
              "      <td>0.045031</td>\n",
              "      <td>0.003023</td>\n",
              "      <td>0.054979</td>\n",
              "      <td>0.003053</td>\n",
              "      <td>0.045440</td>\n",
              "      <td>0.003053</td>\n",
              "      <td>0.055253</td>\n",
              "      <td>21</td>\n",
              "    </tr>\n",
              "    <tr>\n",
              "      <th>22</th>\n",
              "      <td>0.003022</td>\n",
              "      <td>0.044995</td>\n",
              "      <td>0.003022</td>\n",
              "      <td>0.054976</td>\n",
              "      <td>0.003025</td>\n",
              "      <td>0.045181</td>\n",
              "      <td>0.003025</td>\n",
              "      <td>0.055004</td>\n",
              "      <td>22</td>\n",
              "    </tr>\n",
              "    <tr>\n",
              "      <th>23</th>\n",
              "      <td>0.003020</td>\n",
              "      <td>0.044986</td>\n",
              "      <td>0.003020</td>\n",
              "      <td>0.054952</td>\n",
              "      <td>0.003176</td>\n",
              "      <td>0.046363</td>\n",
              "      <td>0.003176</td>\n",
              "      <td>0.056352</td>\n",
              "      <td>23</td>\n",
              "    </tr>\n",
              "    <tr>\n",
              "      <th>24</th>\n",
              "      <td>0.003006</td>\n",
              "      <td>0.044910</td>\n",
              "      <td>0.003006</td>\n",
              "      <td>0.054827</td>\n",
              "      <td>0.003186</td>\n",
              "      <td>0.046510</td>\n",
              "      <td>0.003186</td>\n",
              "      <td>0.056441</td>\n",
              "      <td>24</td>\n",
              "    </tr>\n",
              "    <tr>\n",
              "      <th>25</th>\n",
              "      <td>0.003012</td>\n",
              "      <td>0.044897</td>\n",
              "      <td>0.003012</td>\n",
              "      <td>0.054884</td>\n",
              "      <td>0.003009</td>\n",
              "      <td>0.045116</td>\n",
              "      <td>0.003009</td>\n",
              "      <td>0.054853</td>\n",
              "      <td>25</td>\n",
              "    </tr>\n",
              "    <tr>\n",
              "      <th>26</th>\n",
              "      <td>0.003013</td>\n",
              "      <td>0.045002</td>\n",
              "      <td>0.003013</td>\n",
              "      <td>0.054889</td>\n",
              "      <td>0.003026</td>\n",
              "      <td>0.045400</td>\n",
              "      <td>0.003026</td>\n",
              "      <td>0.055010</td>\n",
              "      <td>26</td>\n",
              "    </tr>\n",
              "    <tr>\n",
              "      <th>27</th>\n",
              "      <td>0.003004</td>\n",
              "      <td>0.044816</td>\n",
              "      <td>0.003004</td>\n",
              "      <td>0.054809</td>\n",
              "      <td>0.003246</td>\n",
              "      <td>0.046825</td>\n",
              "      <td>0.003246</td>\n",
              "      <td>0.056970</td>\n",
              "      <td>27</td>\n",
              "    </tr>\n",
              "    <tr>\n",
              "      <th>28</th>\n",
              "      <td>0.002999</td>\n",
              "      <td>0.044810</td>\n",
              "      <td>0.002999</td>\n",
              "      <td>0.054767</td>\n",
              "      <td>0.003010</td>\n",
              "      <td>0.045224</td>\n",
              "      <td>0.003010</td>\n",
              "      <td>0.054865</td>\n",
              "      <td>28</td>\n",
              "    </tr>\n",
              "    <tr>\n",
              "      <th>29</th>\n",
              "      <td>0.002995</td>\n",
              "      <td>0.044830</td>\n",
              "      <td>0.002995</td>\n",
              "      <td>0.054722</td>\n",
              "      <td>0.003214</td>\n",
              "      <td>0.046606</td>\n",
              "      <td>0.003214</td>\n",
              "      <td>0.056696</td>\n",
              "      <td>29</td>\n",
              "    </tr>\n",
              "    <tr>\n",
              "      <th>30</th>\n",
              "      <td>0.002984</td>\n",
              "      <td>0.044687</td>\n",
              "      <td>0.002984</td>\n",
              "      <td>0.054627</td>\n",
              "      <td>0.002990</td>\n",
              "      <td>0.044925</td>\n",
              "      <td>0.002990</td>\n",
              "      <td>0.054685</td>\n",
              "      <td>30</td>\n",
              "    </tr>\n",
              "    <tr>\n",
              "      <th>31</th>\n",
              "      <td>0.002979</td>\n",
              "      <td>0.044655</td>\n",
              "      <td>0.002979</td>\n",
              "      <td>0.054582</td>\n",
              "      <td>0.003067</td>\n",
              "      <td>0.045638</td>\n",
              "      <td>0.003067</td>\n",
              "      <td>0.055377</td>\n",
              "      <td>31</td>\n",
              "    </tr>\n",
              "    <tr>\n",
              "      <th>32</th>\n",
              "      <td>0.002988</td>\n",
              "      <td>0.044668</td>\n",
              "      <td>0.002988</td>\n",
              "      <td>0.054661</td>\n",
              "      <td>0.002992</td>\n",
              "      <td>0.045024</td>\n",
              "      <td>0.002992</td>\n",
              "      <td>0.054701</td>\n",
              "      <td>32</td>\n",
              "    </tr>\n",
              "    <tr>\n",
              "      <th>33</th>\n",
              "      <td>0.002978</td>\n",
              "      <td>0.044679</td>\n",
              "      <td>0.002978</td>\n",
              "      <td>0.054574</td>\n",
              "      <td>0.002988</td>\n",
              "      <td>0.044965</td>\n",
              "      <td>0.002988</td>\n",
              "      <td>0.054662</td>\n",
              "      <td>33</td>\n",
              "    </tr>\n",
              "    <tr>\n",
              "      <th>34</th>\n",
              "      <td>0.002991</td>\n",
              "      <td>0.044785</td>\n",
              "      <td>0.002991</td>\n",
              "      <td>0.054692</td>\n",
              "      <td>0.003007</td>\n",
              "      <td>0.045174</td>\n",
              "      <td>0.003007</td>\n",
              "      <td>0.054839</td>\n",
              "      <td>34</td>\n",
              "    </tr>\n",
              "    <tr>\n",
              "      <th>35</th>\n",
              "      <td>0.002980</td>\n",
              "      <td>0.044654</td>\n",
              "      <td>0.002980</td>\n",
              "      <td>0.054594</td>\n",
              "      <td>0.003173</td>\n",
              "      <td>0.046406</td>\n",
              "      <td>0.003173</td>\n",
              "      <td>0.056327</td>\n",
              "      <td>35</td>\n",
              "    </tr>\n",
              "    <tr>\n",
              "      <th>36</th>\n",
              "      <td>0.002982</td>\n",
              "      <td>0.044743</td>\n",
              "      <td>0.002982</td>\n",
              "      <td>0.054604</td>\n",
              "      <td>0.003160</td>\n",
              "      <td>0.046335</td>\n",
              "      <td>0.003160</td>\n",
              "      <td>0.056217</td>\n",
              "      <td>36</td>\n",
              "    </tr>\n",
              "    <tr>\n",
              "      <th>37</th>\n",
              "      <td>0.002978</td>\n",
              "      <td>0.044739</td>\n",
              "      <td>0.002978</td>\n",
              "      <td>0.054573</td>\n",
              "      <td>0.003023</td>\n",
              "      <td>0.045291</td>\n",
              "      <td>0.003023</td>\n",
              "      <td>0.054982</td>\n",
              "      <td>37</td>\n",
              "    </tr>\n",
              "    <tr>\n",
              "      <th>38</th>\n",
              "      <td>0.002974</td>\n",
              "      <td>0.044648</td>\n",
              "      <td>0.002974</td>\n",
              "      <td>0.054538</td>\n",
              "      <td>0.002983</td>\n",
              "      <td>0.044908</td>\n",
              "      <td>0.002983</td>\n",
              "      <td>0.054618</td>\n",
              "      <td>38</td>\n",
              "    </tr>\n",
              "    <tr>\n",
              "      <th>39</th>\n",
              "      <td>0.002974</td>\n",
              "      <td>0.044638</td>\n",
              "      <td>0.002974</td>\n",
              "      <td>0.054534</td>\n",
              "      <td>0.003157</td>\n",
              "      <td>0.046235</td>\n",
              "      <td>0.003157</td>\n",
              "      <td>0.056191</td>\n",
              "      <td>39</td>\n",
              "    </tr>\n",
              "    <tr>\n",
              "      <th>40</th>\n",
              "      <td>0.002977</td>\n",
              "      <td>0.044542</td>\n",
              "      <td>0.002977</td>\n",
              "      <td>0.054558</td>\n",
              "      <td>0.003113</td>\n",
              "      <td>0.045889</td>\n",
              "      <td>0.003113</td>\n",
              "      <td>0.055795</td>\n",
              "      <td>40</td>\n",
              "    </tr>\n",
              "    <tr>\n",
              "      <th>41</th>\n",
              "      <td>0.002964</td>\n",
              "      <td>0.044533</td>\n",
              "      <td>0.002964</td>\n",
              "      <td>0.054442</td>\n",
              "      <td>0.003069</td>\n",
              "      <td>0.045233</td>\n",
              "      <td>0.003069</td>\n",
              "      <td>0.055398</td>\n",
              "      <td>41</td>\n",
              "    </tr>\n",
              "    <tr>\n",
              "      <th>42</th>\n",
              "      <td>0.002968</td>\n",
              "      <td>0.044584</td>\n",
              "      <td>0.002968</td>\n",
              "      <td>0.054484</td>\n",
              "      <td>0.002974</td>\n",
              "      <td>0.044855</td>\n",
              "      <td>0.002974</td>\n",
              "      <td>0.054537</td>\n",
              "      <td>42</td>\n",
              "    </tr>\n",
              "    <tr>\n",
              "      <th>43</th>\n",
              "      <td>0.002971</td>\n",
              "      <td>0.044640</td>\n",
              "      <td>0.002971</td>\n",
              "      <td>0.054505</td>\n",
              "      <td>0.003095</td>\n",
              "      <td>0.045810</td>\n",
              "      <td>0.003095</td>\n",
              "      <td>0.055631</td>\n",
              "      <td>43</td>\n",
              "    </tr>\n",
              "    <tr>\n",
              "      <th>44</th>\n",
              "      <td>0.002971</td>\n",
              "      <td>0.044591</td>\n",
              "      <td>0.002971</td>\n",
              "      <td>0.054509</td>\n",
              "      <td>0.002967</td>\n",
              "      <td>0.044741</td>\n",
              "      <td>0.002967</td>\n",
              "      <td>0.054474</td>\n",
              "      <td>44</td>\n",
              "    </tr>\n",
              "    <tr>\n",
              "      <th>45</th>\n",
              "      <td>0.002969</td>\n",
              "      <td>0.044572</td>\n",
              "      <td>0.002969</td>\n",
              "      <td>0.054492</td>\n",
              "      <td>0.003007</td>\n",
              "      <td>0.045154</td>\n",
              "      <td>0.003007</td>\n",
              "      <td>0.054836</td>\n",
              "      <td>45</td>\n",
              "    </tr>\n",
              "    <tr>\n",
              "      <th>46</th>\n",
              "      <td>0.002981</td>\n",
              "      <td>0.044719</td>\n",
              "      <td>0.002981</td>\n",
              "      <td>0.054599</td>\n",
              "      <td>0.002975</td>\n",
              "      <td>0.044875</td>\n",
              "      <td>0.002975</td>\n",
              "      <td>0.054546</td>\n",
              "      <td>46</td>\n",
              "    </tr>\n",
              "    <tr>\n",
              "      <th>47</th>\n",
              "      <td>0.002957</td>\n",
              "      <td>0.044525</td>\n",
              "      <td>0.002957</td>\n",
              "      <td>0.054376</td>\n",
              "      <td>0.003014</td>\n",
              "      <td>0.045110</td>\n",
              "      <td>0.003014</td>\n",
              "      <td>0.054899</td>\n",
              "      <td>47</td>\n",
              "    </tr>\n",
              "    <tr>\n",
              "      <th>48</th>\n",
              "      <td>0.002958</td>\n",
              "      <td>0.044427</td>\n",
              "      <td>0.002958</td>\n",
              "      <td>0.054388</td>\n",
              "      <td>0.003021</td>\n",
              "      <td>0.045173</td>\n",
              "      <td>0.003021</td>\n",
              "      <td>0.054965</td>\n",
              "      <td>48</td>\n",
              "    </tr>\n",
              "    <tr>\n",
              "      <th>49</th>\n",
              "      <td>0.002958</td>\n",
              "      <td>0.044481</td>\n",
              "      <td>0.002958</td>\n",
              "      <td>0.054390</td>\n",
              "      <td>0.003006</td>\n",
              "      <td>0.045153</td>\n",
              "      <td>0.003006</td>\n",
              "      <td>0.054831</td>\n",
              "      <td>49</td>\n",
              "    </tr>\n",
              "  </tbody>\n",
              "</table>\n",
              "</div>"
            ],
            "text/plain": [
              "        loss       mae       mse  ...   val_mse  val_root_mean_squared_error  epoch\n",
              "0   0.011380  0.079128  0.011380  ...  0.006342                     0.079635      0\n",
              "1   0.005046  0.057147  0.005046  ...  0.004235                     0.065076      1\n",
              "2   0.003983  0.051541  0.003983  ...  0.003755                     0.061274      2\n",
              "3   0.003595  0.049091  0.003595  ...  0.004132                     0.064280      3\n",
              "4   0.003452  0.048113  0.003452  ...  0.003437                     0.058626      4\n",
              "5   0.003342  0.047252  0.003342  ...  0.003291                     0.057369      5\n",
              "6   0.003286  0.046806  0.003286  ...  0.003367                     0.058025      6\n",
              "7   0.003214  0.046244  0.003214  ...  0.003206                     0.056622      7\n",
              "8   0.003200  0.046245  0.003200  ...  0.003182                     0.056413      8\n",
              "9   0.003149  0.045876  0.003149  ...  0.003237                     0.056894      9\n",
              "10  0.003153  0.045937  0.003153  ...  0.003200                     0.056564     10\n",
              "11  0.003110  0.045651  0.003110  ...  0.003120                     0.055856     11\n",
              "12  0.003100  0.045553  0.003100  ...  0.003126                     0.055911     12\n",
              "13  0.003085  0.045392  0.003085  ...  0.003095                     0.055630     13\n",
              "14  0.003071  0.045347  0.003071  ...  0.003084                     0.055531     14\n",
              "15  0.003071  0.045360  0.003071  ...  0.003046                     0.055192     15\n",
              "16  0.003074  0.045316  0.003074  ...  0.003080                     0.055494     16\n",
              "17  0.003027  0.045049  0.003027  ...  0.003032                     0.055060     17\n",
              "18  0.003043  0.045125  0.003043  ...  0.003051                     0.055235     18\n",
              "19  0.003048  0.045325  0.003048  ...  0.003026                     0.055009     19\n",
              "20  0.003026  0.045085  0.003026  ...  0.003030                     0.055047     20\n",
              "21  0.003023  0.045031  0.003023  ...  0.003053                     0.055253     21\n",
              "22  0.003022  0.044995  0.003022  ...  0.003025                     0.055004     22\n",
              "23  0.003020  0.044986  0.003020  ...  0.003176                     0.056352     23\n",
              "24  0.003006  0.044910  0.003006  ...  0.003186                     0.056441     24\n",
              "25  0.003012  0.044897  0.003012  ...  0.003009                     0.054853     25\n",
              "26  0.003013  0.045002  0.003013  ...  0.003026                     0.055010     26\n",
              "27  0.003004  0.044816  0.003004  ...  0.003246                     0.056970     27\n",
              "28  0.002999  0.044810  0.002999  ...  0.003010                     0.054865     28\n",
              "29  0.002995  0.044830  0.002995  ...  0.003214                     0.056696     29\n",
              "30  0.002984  0.044687  0.002984  ...  0.002990                     0.054685     30\n",
              "31  0.002979  0.044655  0.002979  ...  0.003067                     0.055377     31\n",
              "32  0.002988  0.044668  0.002988  ...  0.002992                     0.054701     32\n",
              "33  0.002978  0.044679  0.002978  ...  0.002988                     0.054662     33\n",
              "34  0.002991  0.044785  0.002991  ...  0.003007                     0.054839     34\n",
              "35  0.002980  0.044654  0.002980  ...  0.003173                     0.056327     35\n",
              "36  0.002982  0.044743  0.002982  ...  0.003160                     0.056217     36\n",
              "37  0.002978  0.044739  0.002978  ...  0.003023                     0.054982     37\n",
              "38  0.002974  0.044648  0.002974  ...  0.002983                     0.054618     38\n",
              "39  0.002974  0.044638  0.002974  ...  0.003157                     0.056191     39\n",
              "40  0.002977  0.044542  0.002977  ...  0.003113                     0.055795     40\n",
              "41  0.002964  0.044533  0.002964  ...  0.003069                     0.055398     41\n",
              "42  0.002968  0.044584  0.002968  ...  0.002974                     0.054537     42\n",
              "43  0.002971  0.044640  0.002971  ...  0.003095                     0.055631     43\n",
              "44  0.002971  0.044591  0.002971  ...  0.002967                     0.054474     44\n",
              "45  0.002969  0.044572  0.002969  ...  0.003007                     0.054836     45\n",
              "46  0.002981  0.044719  0.002981  ...  0.002975                     0.054546     46\n",
              "47  0.002957  0.044525  0.002957  ...  0.003014                     0.054899     47\n",
              "48  0.002958  0.044427  0.002958  ...  0.003021                     0.054965     48\n",
              "49  0.002958  0.044481  0.002958  ...  0.003006                     0.054831     49\n",
              "\n",
              "[50 rows x 9 columns]"
            ]
          },
          "metadata": {},
          "execution_count": 215
        }
      ]
    },
    {
      "cell_type": "code",
      "metadata": {
        "id": "x8vbYbCW-WRs"
      },
      "source": [
        "add_test_results('m5',mae_train,mse_train,rmse_train,MAE,MSE,RMSE)"
      ],
      "id": "x8vbYbCW-WRs",
      "execution_count": 273,
      "outputs": []
    },
    {
      "cell_type": "code",
      "metadata": {
        "colab": {
          "base_uri": "https://localhost:8080/"
        },
        "id": "u-HmoGz7-WVJ",
        "outputId": "af8470be-358d-4564-d641-b05cfc3bb499"
      },
      "source": [
        "test_results.pop('m5')"
      ],
      "id": "u-HmoGz7-WVJ",
      "execution_count": 217,
      "outputs": [
        {
          "output_type": "execute_result",
          "data": {
            "text/plain": [
              "{'test_errors': [0.04533456058918252,\n",
              "  0.0030448589333656683,\n",
              "  0.055180240425044075],\n",
              " 'training_errors': [0.04451353627899556,\n",
              "  0.00294574640880109,\n",
              "  0.054274730849642086]}"
            ]
          },
          "metadata": {},
          "execution_count": 217
        }
      ]
    },
    {
      "cell_type": "code",
      "metadata": {
        "colab": {
          "base_uri": "https://localhost:8080/"
        },
        "id": "0LAvGC9c-Wb4",
        "outputId": "e698b136-671b-498d-fef0-37dac555a0c8"
      },
      "source": [
        "test_results"
      ],
      "id": "0LAvGC9c-Wb4",
      "execution_count": 218,
      "outputs": [
        {
          "output_type": "execute_result",
          "data": {
            "text/plain": [
              "{'m1': {'test_errors': [0.06259474749892806,\n",
              "   0.006117453824615613,\n",
              "   0.07821415360799867],\n",
              "  'training_errors': [0.06195939986094344,\n",
              "   0.006087498421570673,\n",
              "   0.07802242255640793]},\n",
              " 'm2': {'test_errors': [0.05520834153116294,\n",
              "   0.004734098246245043,\n",
              "   0.06880478360001609],\n",
              "  'training_errors': [0.055858974052435804,\n",
              "   0.004797921173614328,\n",
              "   0.06926702804086753]},\n",
              " 'm3': {'test_errors': [0.04561844133117175,\n",
              "   0.0030830920674518583,\n",
              "   0.05552559830791433],\n",
              "  'training_errors': [0.044806352527576664,\n",
              "   0.0029919417220182786,\n",
              "   0.05469864460860323]},\n",
              " 'm4': {'test_errors': [0.04521364505534501,\n",
              "   0.0030360161901735903,\n",
              "   0.05510005617214551],\n",
              "  'training_errors': [0.04411073401285763,\n",
              "   0.002910644434175498,\n",
              "   0.05395038863785411]}}"
            ]
          },
          "metadata": {},
          "execution_count": 218
        }
      ]
    },
    {
      "cell_type": "code",
      "metadata": {
        "colab": {
          "base_uri": "https://localhost:8080/",
          "height": 283
        },
        "id": "P81gijkV-Wej",
        "outputId": "82efa9ff-561a-4030-ffdb-9519527de4cb"
      },
      "source": [
        "plt.scatter(y_test, y_pred)\n",
        "plt.xlabel('Actual Values [Burn Rate]')\n",
        "plt.ylabel('Predictions [Burn Rate]')\n",
        "lims = [0, 1]\n",
        "plt.xlim(0,1)\n",
        "plt.ylim(lims)\n",
        "_ = plt.plot(lims, lims)"
      ],
      "id": "P81gijkV-Wej",
      "execution_count": 219,
      "outputs": [
        {
          "output_type": "display_data",
          "data": {
            "image/png": "[encoded data removed]",
            "text/plain": [
              "<Figure size 432x288 with 1 Axes>"
            ]
          },
          "metadata": {
            "needs_background": "light"
          }
        }
      ]
    },
    {
      "cell_type": "code",
      "metadata": {
        "colab": {
          "base_uri": "https://localhost:8080/"
        },
        "id": "Eh3kNrI2-WjM",
        "outputId": "28cf346e-d5c9-46f1-e5ac-4f6c697fd8d6"
      },
      "source": [
        "model6=keras.Sequential([\n",
        "layers.Dense(12, activation=tf.nn.relu, input_shape=[len(x_train.keys())]),\n",
        "layers.Dense(10, activation=tf.nn.relu),\n",
        "layers.Dense(8, activation=tf.nn.relu),\n",
        "layers.Dense(4,activation=tf.nn.relu),\n",
        "layers.Dense(1)])\n",
        "model6.compile(keras.optimizers.Adagrad(lr=0.1), loss='mean_squared_error', metrics=['mae','mse',rmse])\n",
        "history=model6.fit(x_train, y_train, epochs=300, validation_split=0.2,verbose=1, batch_size=300)\n",
        "\n"
      ],
      "id": "Eh3kNrI2-WjM",
      "execution_count": 220,
      "outputs": [
        {
          "output_type": "stream",
          "name": "stderr",
          "text": [
            "/usr/local/lib/python3.7/dist-packages/keras/optimizer_v2/adagrad.py:74: UserWarning: The `lr` argument is deprecated, use `learning_rate` instead.\n",
            "  super(Adagrad, self).__init__(name, **kwargs)\n"
          ]
        },
        {
          "output_type": "stream",
          "name": "stdout",
          "text": [
            "Epoch 1/300\n",
            "40/40 [==============================] - 1s 6ms/step - loss: 0.0303 - mae: 0.1237 - mse: 0.0303 - root_mean_squared_error: 0.1575 - val_loss: 0.0149 - val_mae: 0.0984 - val_mse: 0.0149 - val_root_mean_squared_error: 0.1219\n",
            "Epoch 2/300\n",
            "40/40 [==============================] - 0s 3ms/step - loss: 0.0131 - mae: 0.0914 - mse: 0.0131 - root_mean_squared_error: 0.1146 - val_loss: 0.0118 - val_mae: 0.0877 - val_mse: 0.0118 - val_root_mean_squared_error: 0.1087\n",
            "Epoch 3/300\n",
            "40/40 [==============================] - 0s 3ms/step - loss: 0.0106 - mae: 0.0823 - mse: 0.0106 - root_mean_squared_error: 0.1027 - val_loss: 0.0098 - val_mae: 0.0800 - val_mse: 0.0098 - val_root_mean_squared_error: 0.0989\n",
            "Epoch 4/300\n",
            "40/40 [==============================] - 0s 3ms/step - loss: 0.0088 - mae: 0.0756 - mse: 0.0088 - root_mean_squared_error: 0.0940 - val_loss: 0.0084 - val_mae: 0.0746 - val_mse: 0.0084 - val_root_mean_squared_error: 0.0918\n",
            "Epoch 5/300\n",
            "40/40 [==============================] - 0s 2ms/step - loss: 0.0078 - mae: 0.0710 - mse: 0.0078 - root_mean_squared_error: 0.0881 - val_loss: 0.0076 - val_mae: 0.0712 - val_mse: 0.0076 - val_root_mean_squared_error: 0.0874\n",
            "Epoch 6/300\n",
            "40/40 [==============================] - 0s 3ms/step - loss: 0.0070 - mae: 0.0675 - mse: 0.0070 - root_mean_squared_error: 0.0836 - val_loss: 0.0069 - val_mae: 0.0677 - val_mse: 0.0069 - val_root_mean_squared_error: 0.0833\n",
            "Epoch 7/300\n",
            "40/40 [==============================] - 0s 2ms/step - loss: 0.0064 - mae: 0.0646 - mse: 0.0064 - root_mean_squared_error: 0.0800 - val_loss: 0.0064 - val_mae: 0.0651 - val_mse: 0.0064 - val_root_mean_squared_error: 0.0803\n",
            "Epoch 8/300\n",
            "40/40 [==============================] - 0s 2ms/step - loss: 0.0059 - mae: 0.0623 - mse: 0.0059 - root_mean_squared_error: 0.0771 - val_loss: 0.0059 - val_mae: 0.0622 - val_mse: 0.0059 - val_root_mean_squared_error: 0.0770\n",
            "Epoch 9/300\n",
            "40/40 [==============================] - 0s 3ms/step - loss: 0.0055 - mae: 0.0601 - mse: 0.0055 - root_mean_squared_error: 0.0744 - val_loss: 0.0056 - val_mae: 0.0602 - val_mse: 0.0056 - val_root_mean_squared_error: 0.0747\n",
            "Epoch 10/300\n",
            "40/40 [==============================] - 0s 2ms/step - loss: 0.0052 - mae: 0.0584 - mse: 0.0052 - root_mean_squared_error: 0.0723 - val_loss: 0.0053 - val_mae: 0.0584 - val_mse: 0.0053 - val_root_mean_squared_error: 0.0725\n",
            "Epoch 11/300\n",
            "40/40 [==============================] - 0s 3ms/step - loss: 0.0050 - mae: 0.0569 - mse: 0.0050 - root_mean_squared_error: 0.0705 - val_loss: 0.0050 - val_mae: 0.0570 - val_mse: 0.0050 - val_root_mean_squared_error: 0.0708\n",
            "Epoch 12/300\n",
            "40/40 [==============================] - 0s 3ms/step - loss: 0.0047 - mae: 0.0555 - mse: 0.0047 - root_mean_squared_error: 0.0688 - val_loss: 0.0050 - val_mae: 0.0568 - val_mse: 0.0050 - val_root_mean_squared_error: 0.0706\n",
            "Epoch 13/300\n",
            "40/40 [==============================] - 0s 3ms/step - loss: 0.0046 - mae: 0.0544 - mse: 0.0046 - root_mean_squared_error: 0.0675 - val_loss: 0.0046 - val_mae: 0.0547 - val_mse: 0.0046 - val_root_mean_squared_error: 0.0680\n",
            "Epoch 14/300\n",
            "40/40 [==============================] - 0s 3ms/step - loss: 0.0044 - mae: 0.0535 - mse: 0.0044 - root_mean_squared_error: 0.0663 - val_loss: 0.0044 - val_mae: 0.0534 - val_mse: 0.0044 - val_root_mean_squared_error: 0.0665\n",
            "Epoch 15/300\n",
            "40/40 [==============================] - 0s 2ms/step - loss: 0.0043 - mae: 0.0526 - mse: 0.0043 - root_mean_squared_error: 0.0653 - val_loss: 0.0043 - val_mae: 0.0529 - val_mse: 0.0043 - val_root_mean_squared_error: 0.0659\n",
            "Epoch 16/300\n",
            "40/40 [==============================] - 0s 3ms/step - loss: 0.0041 - mae: 0.0519 - mse: 0.0041 - root_mean_squared_error: 0.0644 - val_loss: 0.0042 - val_mae: 0.0519 - val_mse: 0.0042 - val_root_mean_squared_error: 0.0647\n",
            "Epoch 17/300\n",
            "40/40 [==============================] - 0s 3ms/step - loss: 0.0040 - mae: 0.0511 - mse: 0.0040 - root_mean_squared_error: 0.0635 - val_loss: 0.0041 - val_mae: 0.0513 - val_mse: 0.0041 - val_root_mean_squared_error: 0.0638\n",
            "Epoch 18/300\n",
            "40/40 [==============================] - 0s 3ms/step - loss: 0.0039 - mae: 0.0506 - mse: 0.0039 - root_mean_squared_error: 0.0628 - val_loss: 0.0040 - val_mae: 0.0509 - val_mse: 0.0040 - val_root_mean_squared_error: 0.0632\n",
            "Epoch 19/300\n",
            "40/40 [==============================] - 0s 3ms/step - loss: 0.0039 - mae: 0.0501 - mse: 0.0039 - root_mean_squared_error: 0.0622 - val_loss: 0.0039 - val_mae: 0.0502 - val_mse: 0.0039 - val_root_mean_squared_error: 0.0624\n",
            "Epoch 20/300\n",
            "40/40 [==============================] - 0s 3ms/step - loss: 0.0038 - mae: 0.0496 - mse: 0.0038 - root_mean_squared_error: 0.0616 - val_loss: 0.0038 - val_mae: 0.0497 - val_mse: 0.0038 - val_root_mean_squared_error: 0.0619\n",
            "Epoch 21/300\n",
            "40/40 [==============================] - 0s 3ms/step - loss: 0.0037 - mae: 0.0493 - mse: 0.0037 - root_mean_squared_error: 0.0612 - val_loss: 0.0038 - val_mae: 0.0496 - val_mse: 0.0038 - val_root_mean_squared_error: 0.0616\n",
            "Epoch 22/300\n",
            "40/40 [==============================] - 0s 3ms/step - loss: 0.0037 - mae: 0.0488 - mse: 0.0037 - root_mean_squared_error: 0.0605 - val_loss: 0.0037 - val_mae: 0.0489 - val_mse: 0.0037 - val_root_mean_squared_error: 0.0607\n",
            "Epoch 23/300\n",
            "40/40 [==============================] - 0s 3ms/step - loss: 0.0036 - mae: 0.0484 - mse: 0.0036 - root_mean_squared_error: 0.0600 - val_loss: 0.0037 - val_mae: 0.0487 - val_mse: 0.0037 - val_root_mean_squared_error: 0.0604\n",
            "Epoch 24/300\n",
            "40/40 [==============================] - 0s 2ms/step - loss: 0.0036 - mae: 0.0481 - mse: 0.0036 - root_mean_squared_error: 0.0596 - val_loss: 0.0036 - val_mae: 0.0483 - val_mse: 0.0036 - val_root_mean_squared_error: 0.0599\n",
            "Epoch 25/300\n",
            "40/40 [==============================] - 0s 2ms/step - loss: 0.0035 - mae: 0.0478 - mse: 0.0035 - root_mean_squared_error: 0.0592 - val_loss: 0.0035 - val_mae: 0.0478 - val_mse: 0.0035 - val_root_mean_squared_error: 0.0595\n",
            "Epoch 26/300\n",
            "40/40 [==============================] - 0s 3ms/step - loss: 0.0035 - mae: 0.0476 - mse: 0.0035 - root_mean_squared_error: 0.0590 - val_loss: 0.0035 - val_mae: 0.0477 - val_mse: 0.0035 - val_root_mean_squared_error: 0.0592\n",
            "Epoch 27/300\n",
            "40/40 [==============================] - 0s 3ms/step - loss: 0.0034 - mae: 0.0473 - mse: 0.0034 - root_mean_squared_error: 0.0585 - val_loss: 0.0035 - val_mae: 0.0475 - val_mse: 0.0035 - val_root_mean_squared_error: 0.0589\n",
            "Epoch 28/300\n",
            "40/40 [==============================] - 0s 2ms/step - loss: 0.0034 - mae: 0.0471 - mse: 0.0034 - root_mean_squared_error: 0.0583 - val_loss: 0.0035 - val_mae: 0.0475 - val_mse: 0.0035 - val_root_mean_squared_error: 0.0589\n",
            "Epoch 29/300\n",
            "40/40 [==============================] - 0s 3ms/step - loss: 0.0034 - mae: 0.0469 - mse: 0.0034 - root_mean_squared_error: 0.0580 - val_loss: 0.0034 - val_mae: 0.0472 - val_mse: 0.0034 - val_root_mean_squared_error: 0.0585\n",
            "Epoch 30/300\n",
            "40/40 [==============================] - 0s 2ms/step - loss: 0.0033 - mae: 0.0467 - mse: 0.0033 - root_mean_squared_error: 0.0578 - val_loss: 0.0034 - val_mae: 0.0473 - val_mse: 0.0034 - val_root_mean_squared_error: 0.0585\n",
            "Epoch 31/300\n",
            "40/40 [==============================] - 0s 2ms/step - loss: 0.0033 - mae: 0.0466 - mse: 0.0033 - root_mean_squared_error: 0.0576 - val_loss: 0.0033 - val_mae: 0.0466 - val_mse: 0.0033 - val_root_mean_squared_error: 0.0578\n",
            "Epoch 32/300\n",
            "40/40 [==============================] - 0s 3ms/step - loss: 0.0033 - mae: 0.0465 - mse: 0.0033 - root_mean_squared_error: 0.0575 - val_loss: 0.0033 - val_mae: 0.0465 - val_mse: 0.0033 - val_root_mean_squared_error: 0.0578\n",
            "Epoch 33/300\n",
            "40/40 [==============================] - 0s 3ms/step - loss: 0.0033 - mae: 0.0463 - mse: 0.0033 - root_mean_squared_error: 0.0573 - val_loss: 0.0033 - val_mae: 0.0464 - val_mse: 0.0033 - val_root_mean_squared_error: 0.0575\n",
            "Epoch 34/300\n",
            "40/40 [==============================] - 0s 2ms/step - loss: 0.0033 - mae: 0.0462 - mse: 0.0033 - root_mean_squared_error: 0.0571 - val_loss: 0.0033 - val_mae: 0.0467 - val_mse: 0.0033 - val_root_mean_squared_error: 0.0578\n",
            "Epoch 35/300\n",
            "40/40 [==============================] - 0s 2ms/step - loss: 0.0033 - mae: 0.0462 - mse: 0.0033 - root_mean_squared_error: 0.0571 - val_loss: 0.0033 - val_mae: 0.0465 - val_mse: 0.0033 - val_root_mean_squared_error: 0.0575\n",
            "Epoch 36/300\n",
            "40/40 [==============================] - 0s 3ms/step - loss: 0.0032 - mae: 0.0460 - mse: 0.0032 - root_mean_squared_error: 0.0568 - val_loss: 0.0033 - val_mae: 0.0462 - val_mse: 0.0033 - val_root_mean_squared_error: 0.0571\n",
            "Epoch 37/300\n",
            "40/40 [==============================] - 0s 3ms/step - loss: 0.0032 - mae: 0.0459 - mse: 0.0032 - root_mean_squared_error: 0.0567 - val_loss: 0.0033 - val_mae: 0.0461 - val_mse: 0.0033 - val_root_mean_squared_error: 0.0571\n",
            "Epoch 38/300\n",
            "40/40 [==============================] - 0s 2ms/step - loss: 0.0032 - mae: 0.0459 - mse: 0.0032 - root_mean_squared_error: 0.0566 - val_loss: 0.0033 - val_mae: 0.0462 - val_mse: 0.0033 - val_root_mean_squared_error: 0.0572\n",
            "Epoch 39/300\n",
            "40/40 [==============================] - 0s 2ms/step - loss: 0.0032 - mae: 0.0458 - mse: 0.0032 - root_mean_squared_error: 0.0565 - val_loss: 0.0032 - val_mae: 0.0459 - val_mse: 0.0032 - val_root_mean_squared_error: 0.0568\n",
            "Epoch 40/300\n",
            "40/40 [==============================] - 0s 3ms/step - loss: 0.0032 - mae: 0.0457 - mse: 0.0032 - root_mean_squared_error: 0.0564 - val_loss: 0.0032 - val_mae: 0.0460 - val_mse: 0.0032 - val_root_mean_squared_error: 0.0568\n",
            "Epoch 41/300\n",
            "40/40 [==============================] - 0s 3ms/step - loss: 0.0032 - mae: 0.0457 - mse: 0.0032 - root_mean_squared_error: 0.0563 - val_loss: 0.0032 - val_mae: 0.0459 - val_mse: 0.0032 - val_root_mean_squared_error: 0.0567\n",
            "Epoch 42/300\n",
            "40/40 [==============================] - 0s 3ms/step - loss: 0.0032 - mae: 0.0456 - mse: 0.0032 - root_mean_squared_error: 0.0562 - val_loss: 0.0032 - val_mae: 0.0460 - val_mse: 0.0032 - val_root_mean_squared_error: 0.0569\n",
            "Epoch 43/300\n",
            "40/40 [==============================] - 0s 3ms/step - loss: 0.0032 - mae: 0.0456 - mse: 0.0032 - root_mean_squared_error: 0.0562 - val_loss: 0.0033 - val_mae: 0.0463 - val_mse: 0.0033 - val_root_mean_squared_error: 0.0574\n",
            "Epoch 44/300\n",
            "40/40 [==============================] - 0s 2ms/step - loss: 0.0032 - mae: 0.0456 - mse: 0.0032 - root_mean_squared_error: 0.0562 - val_loss: 0.0032 - val_mae: 0.0456 - val_mse: 0.0032 - val_root_mean_squared_error: 0.0564\n",
            "Epoch 45/300\n",
            "40/40 [==============================] - 0s 3ms/step - loss: 0.0031 - mae: 0.0455 - mse: 0.0031 - root_mean_squared_error: 0.0560 - val_loss: 0.0032 - val_mae: 0.0456 - val_mse: 0.0032 - val_root_mean_squared_error: 0.0563\n",
            "Epoch 46/300\n",
            "40/40 [==============================] - 0s 3ms/step - loss: 0.0031 - mae: 0.0454 - mse: 0.0031 - root_mean_squared_error: 0.0559 - val_loss: 0.0032 - val_mae: 0.0456 - val_mse: 0.0032 - val_root_mean_squared_error: 0.0563\n",
            "Epoch 47/300\n",
            "40/40 [==============================] - 0s 3ms/step - loss: 0.0031 - mae: 0.0454 - mse: 0.0031 - root_mean_squared_error: 0.0559 - val_loss: 0.0032 - val_mae: 0.0453 - val_mse: 0.0032 - val_root_mean_squared_error: 0.0561\n",
            "Epoch 48/300\n",
            "40/40 [==============================] - 0s 3ms/step - loss: 0.0031 - mae: 0.0453 - mse: 0.0031 - root_mean_squared_error: 0.0557 - val_loss: 0.0031 - val_mae: 0.0454 - val_mse: 0.0031 - val_root_mean_squared_error: 0.0560\n",
            "Epoch 49/300\n",
            "40/40 [==============================] - 0s 3ms/step - loss: 0.0031 - mae: 0.0453 - mse: 0.0031 - root_mean_squared_error: 0.0558 - val_loss: 0.0031 - val_mae: 0.0455 - val_mse: 0.0031 - val_root_mean_squared_error: 0.0560\n",
            "Epoch 50/300\n",
            "40/40 [==============================] - 0s 3ms/step - loss: 0.0031 - mae: 0.0453 - mse: 0.0031 - root_mean_squared_error: 0.0557 - val_loss: 0.0032 - val_mae: 0.0456 - val_mse: 0.0032 - val_root_mean_squared_error: 0.0561\n",
            "Epoch 51/300\n",
            "40/40 [==============================] - 0s 2ms/step - loss: 0.0031 - mae: 0.0452 - mse: 0.0031 - root_mean_squared_error: 0.0556 - val_loss: 0.0031 - val_mae: 0.0453 - val_mse: 0.0031 - val_root_mean_squared_error: 0.0559\n",
            "Epoch 52/300\n",
            "40/40 [==============================] - 0s 3ms/step - loss: 0.0031 - mae: 0.0452 - mse: 0.0031 - root_mean_squared_error: 0.0556 - val_loss: 0.0033 - val_mae: 0.0463 - val_mse: 0.0033 - val_root_mean_squared_error: 0.0571\n",
            "Epoch 53/300\n",
            "40/40 [==============================] - 0s 3ms/step - loss: 0.0031 - mae: 0.0452 - mse: 0.0031 - root_mean_squared_error: 0.0555 - val_loss: 0.0032 - val_mae: 0.0459 - val_mse: 0.0032 - val_root_mean_squared_error: 0.0568\n",
            "Epoch 54/300\n",
            "40/40 [==============================] - 0s 3ms/step - loss: 0.0031 - mae: 0.0451 - mse: 0.0031 - root_mean_squared_error: 0.0555 - val_loss: 0.0031 - val_mae: 0.0455 - val_mse: 0.0031 - val_root_mean_squared_error: 0.0560\n",
            "Epoch 55/300\n",
            "40/40 [==============================] - 0s 3ms/step - loss: 0.0031 - mae: 0.0452 - mse: 0.0031 - root_mean_squared_error: 0.0555 - val_loss: 0.0031 - val_mae: 0.0452 - val_mse: 0.0031 - val_root_mean_squared_error: 0.0557\n",
            "Epoch 56/300\n",
            "40/40 [==============================] - 0s 2ms/step - loss: 0.0031 - mae: 0.0452 - mse: 0.0031 - root_mean_squared_error: 0.0555 - val_loss: 0.0031 - val_mae: 0.0454 - val_mse: 0.0031 - val_root_mean_squared_error: 0.0558\n",
            "Epoch 57/300\n",
            "40/40 [==============================] - 0s 2ms/step - loss: 0.0031 - mae: 0.0452 - mse: 0.0031 - root_mean_squared_error: 0.0555 - val_loss: 0.0031 - val_mae: 0.0452 - val_mse: 0.0031 - val_root_mean_squared_error: 0.0557\n",
            "Epoch 58/300\n",
            "40/40 [==============================] - 0s 3ms/step - loss: 0.0031 - mae: 0.0451 - mse: 0.0031 - root_mean_squared_error: 0.0553 - val_loss: 0.0032 - val_mae: 0.0456 - val_mse: 0.0032 - val_root_mean_squared_error: 0.0564\n",
            "Epoch 59/300\n",
            "40/40 [==============================] - 0s 3ms/step - loss: 0.0031 - mae: 0.0451 - mse: 0.0031 - root_mean_squared_error: 0.0553 - val_loss: 0.0031 - val_mae: 0.0454 - val_mse: 0.0031 - val_root_mean_squared_error: 0.0560\n",
            "Epoch 60/300\n",
            "40/40 [==============================] - 0s 2ms/step - loss: 0.0031 - mae: 0.0450 - mse: 0.0031 - root_mean_squared_error: 0.0553 - val_loss: 0.0031 - val_mae: 0.0454 - val_mse: 0.0031 - val_root_mean_squared_error: 0.0558\n",
            "Epoch 61/300\n",
            "40/40 [==============================] - 0s 2ms/step - loss: 0.0031 - mae: 0.0451 - mse: 0.0031 - root_mean_squared_error: 0.0553 - val_loss: 0.0031 - val_mae: 0.0453 - val_mse: 0.0031 - val_root_mean_squared_error: 0.0556\n",
            "Epoch 62/300\n",
            "40/40 [==============================] - 0s 3ms/step - loss: 0.0031 - mae: 0.0450 - mse: 0.0031 - root_mean_squared_error: 0.0553 - val_loss: 0.0031 - val_mae: 0.0452 - val_mse: 0.0031 - val_root_mean_squared_error: 0.0556\n",
            "Epoch 63/300\n",
            "40/40 [==============================] - 0s 3ms/step - loss: 0.0031 - mae: 0.0451 - mse: 0.0031 - root_mean_squared_error: 0.0553 - val_loss: 0.0031 - val_mae: 0.0451 - val_mse: 0.0031 - val_root_mean_squared_error: 0.0555\n",
            "Epoch 64/300\n",
            "40/40 [==============================] - 0s 3ms/step - loss: 0.0031 - mae: 0.0450 - mse: 0.0031 - root_mean_squared_error: 0.0553 - val_loss: 0.0031 - val_mae: 0.0453 - val_mse: 0.0031 - val_root_mean_squared_error: 0.0557\n",
            "Epoch 65/300\n",
            "40/40 [==============================] - 0s 3ms/step - loss: 0.0030 - mae: 0.0449 - mse: 0.0030 - root_mean_squared_error: 0.0552 - val_loss: 0.0031 - val_mae: 0.0452 - val_mse: 0.0031 - val_root_mean_squared_error: 0.0555\n",
            "Epoch 66/300\n",
            "40/40 [==============================] - 0s 2ms/step - loss: 0.0030 - mae: 0.0450 - mse: 0.0030 - root_mean_squared_error: 0.0552 - val_loss: 0.0031 - val_mae: 0.0451 - val_mse: 0.0031 - val_root_mean_squared_error: 0.0556\n",
            "Epoch 67/300\n",
            "40/40 [==============================] - 0s 2ms/step - loss: 0.0030 - mae: 0.0450 - mse: 0.0030 - root_mean_squared_error: 0.0552 - val_loss: 0.0031 - val_mae: 0.0452 - val_mse: 0.0031 - val_root_mean_squared_error: 0.0556\n",
            "Epoch 68/300\n",
            "40/40 [==============================] - 0s 3ms/step - loss: 0.0030 - mae: 0.0449 - mse: 0.0030 - root_mean_squared_error: 0.0551 - val_loss: 0.0031 - val_mae: 0.0453 - val_mse: 0.0031 - val_root_mean_squared_error: 0.0555\n",
            "Epoch 69/300\n",
            "40/40 [==============================] - 0s 3ms/step - loss: 0.0030 - mae: 0.0450 - mse: 0.0030 - root_mean_squared_error: 0.0552 - val_loss: 0.0031 - val_mae: 0.0451 - val_mse: 0.0031 - val_root_mean_squared_error: 0.0554\n",
            "Epoch 70/300\n",
            "40/40 [==============================] - 0s 3ms/step - loss: 0.0030 - mae: 0.0449 - mse: 0.0030 - root_mean_squared_error: 0.0551 - val_loss: 0.0031 - val_mae: 0.0456 - val_mse: 0.0031 - val_root_mean_squared_error: 0.0559\n",
            "Epoch 71/300\n",
            "40/40 [==============================] - 0s 3ms/step - loss: 0.0030 - mae: 0.0449 - mse: 0.0030 - root_mean_squared_error: 0.0551 - val_loss: 0.0031 - val_mae: 0.0450 - val_mse: 0.0031 - val_root_mean_squared_error: 0.0553\n",
            "Epoch 72/300\n",
            "40/40 [==============================] - 0s 3ms/step - loss: 0.0030 - mae: 0.0449 - mse: 0.0030 - root_mean_squared_error: 0.0550 - val_loss: 0.0031 - val_mae: 0.0451 - val_mse: 0.0031 - val_root_mean_squared_error: 0.0553\n",
            "Epoch 73/300\n",
            "40/40 [==============================] - 0s 3ms/step - loss: 0.0030 - mae: 0.0449 - mse: 0.0030 - root_mean_squared_error: 0.0551 - val_loss: 0.0031 - val_mae: 0.0451 - val_mse: 0.0031 - val_root_mean_squared_error: 0.0554\n",
            "Epoch 74/300\n",
            "40/40 [==============================] - 0s 3ms/step - loss: 0.0030 - mae: 0.0449 - mse: 0.0030 - root_mean_squared_error: 0.0552 - val_loss: 0.0031 - val_mae: 0.0450 - val_mse: 0.0031 - val_root_mean_squared_error: 0.0553\n",
            "Epoch 75/300\n",
            "40/40 [==============================] - 0s 3ms/step - loss: 0.0030 - mae: 0.0448 - mse: 0.0030 - root_mean_squared_error: 0.0550 - val_loss: 0.0031 - val_mae: 0.0450 - val_mse: 0.0031 - val_root_mean_squared_error: 0.0553\n",
            "Epoch 76/300\n",
            "40/40 [==============================] - 0s 3ms/step - loss: 0.0030 - mae: 0.0448 - mse: 0.0030 - root_mean_squared_error: 0.0550 - val_loss: 0.0031 - val_mae: 0.0455 - val_mse: 0.0031 - val_root_mean_squared_error: 0.0558\n",
            "Epoch 77/300\n",
            "40/40 [==============================] - 0s 3ms/step - loss: 0.0030 - mae: 0.0448 - mse: 0.0030 - root_mean_squared_error: 0.0549 - val_loss: 0.0031 - val_mae: 0.0455 - val_mse: 0.0031 - val_root_mean_squared_error: 0.0560\n",
            "Epoch 78/300\n",
            "40/40 [==============================] - 0s 3ms/step - loss: 0.0030 - mae: 0.0449 - mse: 0.0030 - root_mean_squared_error: 0.0550 - val_loss: 0.0031 - val_mae: 0.0451 - val_mse: 0.0031 - val_root_mean_squared_error: 0.0553\n",
            "Epoch 79/300\n",
            "40/40 [==============================] - 0s 3ms/step - loss: 0.0030 - mae: 0.0447 - mse: 0.0030 - root_mean_squared_error: 0.0549 - val_loss: 0.0032 - val_mae: 0.0457 - val_mse: 0.0032 - val_root_mean_squared_error: 0.0561\n",
            "Epoch 80/300\n",
            "40/40 [==============================] - 0s 3ms/step - loss: 0.0030 - mae: 0.0448 - mse: 0.0030 - root_mean_squared_error: 0.0549 - val_loss: 0.0031 - val_mae: 0.0450 - val_mse: 0.0031 - val_root_mean_squared_error: 0.0553\n",
            "Epoch 81/300\n",
            "40/40 [==============================] - 0s 2ms/step - loss: 0.0030 - mae: 0.0447 - mse: 0.0030 - root_mean_squared_error: 0.0549 - val_loss: 0.0030 - val_mae: 0.0449 - val_mse: 0.0030 - val_root_mean_squared_error: 0.0552\n",
            "Epoch 82/300\n",
            "40/40 [==============================] - 0s 3ms/step - loss: 0.0030 - mae: 0.0448 - mse: 0.0030 - root_mean_squared_error: 0.0549 - val_loss: 0.0031 - val_mae: 0.0454 - val_mse: 0.0031 - val_root_mean_squared_error: 0.0555\n",
            "Epoch 83/300\n",
            "40/40 [==============================] - 0s 3ms/step - loss: 0.0030 - mae: 0.0448 - mse: 0.0030 - root_mean_squared_error: 0.0549 - val_loss: 0.0031 - val_mae: 0.0452 - val_mse: 0.0031 - val_root_mean_squared_error: 0.0555\n",
            "Epoch 84/300\n",
            "40/40 [==============================] - 0s 3ms/step - loss: 0.0030 - mae: 0.0448 - mse: 0.0030 - root_mean_squared_error: 0.0549 - val_loss: 0.0031 - val_mae: 0.0452 - val_mse: 0.0031 - val_root_mean_squared_error: 0.0554\n",
            "Epoch 85/300\n",
            "40/40 [==============================] - 0s 3ms/step - loss: 0.0030 - mae: 0.0448 - mse: 0.0030 - root_mean_squared_error: 0.0550 - val_loss: 0.0030 - val_mae: 0.0449 - val_mse: 0.0030 - val_root_mean_squared_error: 0.0551\n",
            "Epoch 86/300\n",
            "40/40 [==============================] - 0s 3ms/step - loss: 0.0030 - mae: 0.0447 - mse: 0.0030 - root_mean_squared_error: 0.0548 - val_loss: 0.0031 - val_mae: 0.0454 - val_mse: 0.0031 - val_root_mean_squared_error: 0.0558\n",
            "Epoch 87/300\n",
            "40/40 [==============================] - 0s 3ms/step - loss: 0.0030 - mae: 0.0447 - mse: 0.0030 - root_mean_squared_error: 0.0548 - val_loss: 0.0030 - val_mae: 0.0449 - val_mse: 0.0030 - val_root_mean_squared_error: 0.0552\n",
            "Epoch 88/300\n",
            "40/40 [==============================] - 0s 3ms/step - loss: 0.0030 - mae: 0.0447 - mse: 0.0030 - root_mean_squared_error: 0.0548 - val_loss: 0.0031 - val_mae: 0.0451 - val_mse: 0.0031 - val_root_mean_squared_error: 0.0554\n",
            "Epoch 89/300\n",
            "40/40 [==============================] - 0s 3ms/step - loss: 0.0030 - mae: 0.0447 - mse: 0.0030 - root_mean_squared_error: 0.0548 - val_loss: 0.0031 - val_mae: 0.0451 - val_mse: 0.0031 - val_root_mean_squared_error: 0.0554\n",
            "Epoch 90/300\n",
            "40/40 [==============================] - 0s 3ms/step - loss: 0.0030 - mae: 0.0447 - mse: 0.0030 - root_mean_squared_error: 0.0547 - val_loss: 0.0030 - val_mae: 0.0449 - val_mse: 0.0030 - val_root_mean_squared_error: 0.0551\n",
            "Epoch 91/300\n",
            "40/40 [==============================] - 0s 2ms/step - loss: 0.0030 - mae: 0.0447 - mse: 0.0030 - root_mean_squared_error: 0.0547 - val_loss: 0.0030 - val_mae: 0.0449 - val_mse: 0.0030 - val_root_mean_squared_error: 0.0552\n",
            "Epoch 92/300\n",
            "40/40 [==============================] - 0s 3ms/step - loss: 0.0030 - mae: 0.0447 - mse: 0.0030 - root_mean_squared_error: 0.0548 - val_loss: 0.0031 - val_mae: 0.0453 - val_mse: 0.0031 - val_root_mean_squared_error: 0.0556\n",
            "Epoch 93/300\n",
            "40/40 [==============================] - 0s 2ms/step - loss: 0.0030 - mae: 0.0446 - mse: 0.0030 - root_mean_squared_error: 0.0547 - val_loss: 0.0030 - val_mae: 0.0451 - val_mse: 0.0030 - val_root_mean_squared_error: 0.0552\n",
            "Epoch 94/300\n",
            "40/40 [==============================] - 0s 3ms/step - loss: 0.0030 - mae: 0.0447 - mse: 0.0030 - root_mean_squared_error: 0.0548 - val_loss: 0.0030 - val_mae: 0.0448 - val_mse: 0.0030 - val_root_mean_squared_error: 0.0550\n",
            "Epoch 95/300\n",
            "40/40 [==============================] - 0s 3ms/step - loss: 0.0030 - mae: 0.0446 - mse: 0.0030 - root_mean_squared_error: 0.0547 - val_loss: 0.0030 - val_mae: 0.0451 - val_mse: 0.0030 - val_root_mean_squared_error: 0.0551\n",
            "Epoch 96/300\n",
            "40/40 [==============================] - 0s 3ms/step - loss: 0.0030 - mae: 0.0447 - mse: 0.0030 - root_mean_squared_error: 0.0548 - val_loss: 0.0031 - val_mae: 0.0454 - val_mse: 0.0031 - val_root_mean_squared_error: 0.0557\n",
            "Epoch 97/300\n",
            "40/40 [==============================] - 0s 3ms/step - loss: 0.0030 - mae: 0.0447 - mse: 0.0030 - root_mean_squared_error: 0.0548 - val_loss: 0.0030 - val_mae: 0.0448 - val_mse: 0.0030 - val_root_mean_squared_error: 0.0550\n",
            "Epoch 98/300\n",
            "40/40 [==============================] - 0s 3ms/step - loss: 0.0030 - mae: 0.0446 - mse: 0.0030 - root_mean_squared_error: 0.0547 - val_loss: 0.0030 - val_mae: 0.0449 - val_mse: 0.0030 - val_root_mean_squared_error: 0.0550\n",
            "Epoch 99/300\n",
            "40/40 [==============================] - 0s 3ms/step - loss: 0.0030 - mae: 0.0446 - mse: 0.0030 - root_mean_squared_error: 0.0547 - val_loss: 0.0030 - val_mae: 0.0448 - val_mse: 0.0030 - val_root_mean_squared_error: 0.0550\n",
            "Epoch 100/300\n",
            "40/40 [==============================] - 0s 3ms/step - loss: 0.0030 - mae: 0.0446 - mse: 0.0030 - root_mean_squared_error: 0.0547 - val_loss: 0.0031 - val_mae: 0.0451 - val_mse: 0.0031 - val_root_mean_squared_error: 0.0552\n",
            "Epoch 101/300\n",
            "40/40 [==============================] - 0s 2ms/step - loss: 0.0030 - mae: 0.0446 - mse: 0.0030 - root_mean_squared_error: 0.0547 - val_loss: 0.0030 - val_mae: 0.0447 - val_mse: 0.0030 - val_root_mean_squared_error: 0.0549\n",
            "Epoch 102/300\n",
            "40/40 [==============================] - 0s 3ms/step - loss: 0.0030 - mae: 0.0446 - mse: 0.0030 - root_mean_squared_error: 0.0546 - val_loss: 0.0030 - val_mae: 0.0448 - val_mse: 0.0030 - val_root_mean_squared_error: 0.0550\n",
            "Epoch 103/300\n",
            "40/40 [==============================] - 0s 3ms/step - loss: 0.0030 - mae: 0.0447 - mse: 0.0030 - root_mean_squared_error: 0.0548 - val_loss: 0.0030 - val_mae: 0.0449 - val_mse: 0.0030 - val_root_mean_squared_error: 0.0550\n",
            "Epoch 104/300\n",
            "40/40 [==============================] - 0s 3ms/step - loss: 0.0030 - mae: 0.0446 - mse: 0.0030 - root_mean_squared_error: 0.0547 - val_loss: 0.0030 - val_mae: 0.0448 - val_mse: 0.0030 - val_root_mean_squared_error: 0.0550\n",
            "Epoch 105/300\n",
            "40/40 [==============================] - 0s 3ms/step - loss: 0.0030 - mae: 0.0447 - mse: 0.0030 - root_mean_squared_error: 0.0547 - val_loss: 0.0032 - val_mae: 0.0459 - val_mse: 0.0032 - val_root_mean_squared_error: 0.0563\n",
            "Epoch 106/300\n",
            "40/40 [==============================] - 0s 3ms/step - loss: 0.0030 - mae: 0.0446 - mse: 0.0030 - root_mean_squared_error: 0.0547 - val_loss: 0.0030 - val_mae: 0.0449 - val_mse: 0.0030 - val_root_mean_squared_error: 0.0550\n",
            "Epoch 107/300\n",
            "40/40 [==============================] - 0s 3ms/step - loss: 0.0030 - mae: 0.0445 - mse: 0.0030 - root_mean_squared_error: 0.0546 - val_loss: 0.0031 - val_mae: 0.0451 - val_mse: 0.0031 - val_root_mean_squared_error: 0.0554\n",
            "Epoch 108/300\n",
            "40/40 [==============================] - 0s 3ms/step - loss: 0.0030 - mae: 0.0445 - mse: 0.0030 - root_mean_squared_error: 0.0546 - val_loss: 0.0030 - val_mae: 0.0449 - val_mse: 0.0030 - val_root_mean_squared_error: 0.0550\n",
            "Epoch 109/300\n",
            "40/40 [==============================] - 0s 3ms/step - loss: 0.0030 - mae: 0.0445 - mse: 0.0030 - root_mean_squared_error: 0.0546 - val_loss: 0.0030 - val_mae: 0.0449 - val_mse: 0.0030 - val_root_mean_squared_error: 0.0550\n",
            "Epoch 110/300\n",
            "40/40 [==============================] - 0s 3ms/step - loss: 0.0030 - mae: 0.0445 - mse: 0.0030 - root_mean_squared_error: 0.0546 - val_loss: 0.0030 - val_mae: 0.0448 - val_mse: 0.0030 - val_root_mean_squared_error: 0.0549\n",
            "Epoch 111/300\n",
            "40/40 [==============================] - 0s 3ms/step - loss: 0.0030 - mae: 0.0446 - mse: 0.0030 - root_mean_squared_error: 0.0546 - val_loss: 0.0030 - val_mae: 0.0449 - val_mse: 0.0030 - val_root_mean_squared_error: 0.0550\n",
            "Epoch 112/300\n",
            "40/40 [==============================] - 0s 3ms/step - loss: 0.0030 - mae: 0.0446 - mse: 0.0030 - root_mean_squared_error: 0.0546 - val_loss: 0.0030 - val_mae: 0.0448 - val_mse: 0.0030 - val_root_mean_squared_error: 0.0549\n",
            "Epoch 113/300\n",
            "40/40 [==============================] - 0s 2ms/step - loss: 0.0030 - mae: 0.0446 - mse: 0.0030 - root_mean_squared_error: 0.0546 - val_loss: 0.0030 - val_mae: 0.0449 - val_mse: 0.0030 - val_root_mean_squared_error: 0.0549\n",
            "Epoch 114/300\n",
            "40/40 [==============================] - 0s 3ms/step - loss: 0.0030 - mae: 0.0446 - mse: 0.0030 - root_mean_squared_error: 0.0546 - val_loss: 0.0031 - val_mae: 0.0451 - val_mse: 0.0031 - val_root_mean_squared_error: 0.0553\n",
            "Epoch 115/300\n",
            "40/40 [==============================] - 0s 3ms/step - loss: 0.0030 - mae: 0.0445 - mse: 0.0030 - root_mean_squared_error: 0.0545 - val_loss: 0.0030 - val_mae: 0.0448 - val_mse: 0.0030 - val_root_mean_squared_error: 0.0549\n",
            "Epoch 116/300\n",
            "40/40 [==============================] - 0s 2ms/step - loss: 0.0030 - mae: 0.0445 - mse: 0.0030 - root_mean_squared_error: 0.0545 - val_loss: 0.0030 - val_mae: 0.0446 - val_mse: 0.0030 - val_root_mean_squared_error: 0.0549\n",
            "Epoch 117/300\n",
            "40/40 [==============================] - 0s 3ms/step - loss: 0.0030 - mae: 0.0444 - mse: 0.0030 - root_mean_squared_error: 0.0545 - val_loss: 0.0031 - val_mae: 0.0454 - val_mse: 0.0031 - val_root_mean_squared_error: 0.0556\n",
            "Epoch 118/300\n",
            "40/40 [==============================] - 0s 3ms/step - loss: 0.0030 - mae: 0.0445 - mse: 0.0030 - root_mean_squared_error: 0.0545 - val_loss: 0.0030 - val_mae: 0.0450 - val_mse: 0.0030 - val_root_mean_squared_error: 0.0551\n",
            "Epoch 119/300\n",
            "40/40 [==============================] - 0s 3ms/step - loss: 0.0030 - mae: 0.0446 - mse: 0.0030 - root_mean_squared_error: 0.0546 - val_loss: 0.0030 - val_mae: 0.0447 - val_mse: 0.0030 - val_root_mean_squared_error: 0.0549\n",
            "Epoch 120/300\n",
            "40/40 [==============================] - 0s 3ms/step - loss: 0.0030 - mae: 0.0445 - mse: 0.0030 - root_mean_squared_error: 0.0545 - val_loss: 0.0030 - val_mae: 0.0447 - val_mse: 0.0030 - val_root_mean_squared_error: 0.0548\n",
            "Epoch 121/300\n",
            "40/40 [==============================] - 0s 2ms/step - loss: 0.0030 - mae: 0.0446 - mse: 0.0030 - root_mean_squared_error: 0.0546 - val_loss: 0.0030 - val_mae: 0.0447 - val_mse: 0.0030 - val_root_mean_squared_error: 0.0548\n",
            "Epoch 122/300\n",
            "40/40 [==============================] - 0s 3ms/step - loss: 0.0030 - mae: 0.0445 - mse: 0.0030 - root_mean_squared_error: 0.0545 - val_loss: 0.0030 - val_mae: 0.0448 - val_mse: 0.0030 - val_root_mean_squared_error: 0.0549\n",
            "Epoch 123/300\n",
            "40/40 [==============================] - 0s 3ms/step - loss: 0.0030 - mae: 0.0444 - mse: 0.0030 - root_mean_squared_error: 0.0545 - val_loss: 0.0031 - val_mae: 0.0453 - val_mse: 0.0031 - val_root_mean_squared_error: 0.0552\n",
            "Epoch 124/300\n",
            "40/40 [==============================] - 0s 3ms/step - loss: 0.0030 - mae: 0.0445 - mse: 0.0030 - root_mean_squared_error: 0.0545 - val_loss: 0.0031 - val_mae: 0.0452 - val_mse: 0.0031 - val_root_mean_squared_error: 0.0553\n",
            "Epoch 125/300\n",
            "40/40 [==============================] - 0s 3ms/step - loss: 0.0030 - mae: 0.0445 - mse: 0.0030 - root_mean_squared_error: 0.0545 - val_loss: 0.0031 - val_mae: 0.0452 - val_mse: 0.0031 - val_root_mean_squared_error: 0.0555\n",
            "Epoch 126/300\n",
            "40/40 [==============================] - 0s 3ms/step - loss: 0.0030 - mae: 0.0445 - mse: 0.0030 - root_mean_squared_error: 0.0546 - val_loss: 0.0030 - val_mae: 0.0448 - val_mse: 0.0030 - val_root_mean_squared_error: 0.0549\n",
            "Epoch 127/300\n",
            "40/40 [==============================] - 0s 3ms/step - loss: 0.0030 - mae: 0.0445 - mse: 0.0030 - root_mean_squared_error: 0.0545 - val_loss: 0.0030 - val_mae: 0.0450 - val_mse: 0.0030 - val_root_mean_squared_error: 0.0550\n",
            "Epoch 128/300\n",
            "40/40 [==============================] - 0s 3ms/step - loss: 0.0030 - mae: 0.0445 - mse: 0.0030 - root_mean_squared_error: 0.0545 - val_loss: 0.0031 - val_mae: 0.0451 - val_mse: 0.0031 - val_root_mean_squared_error: 0.0553\n",
            "Epoch 129/300\n",
            "40/40 [==============================] - 0s 3ms/step - loss: 0.0030 - mae: 0.0444 - mse: 0.0030 - root_mean_squared_error: 0.0545 - val_loss: 0.0030 - val_mae: 0.0447 - val_mse: 0.0030 - val_root_mean_squared_error: 0.0549\n",
            "Epoch 130/300\n",
            "40/40 [==============================] - 0s 3ms/step - loss: 0.0030 - mae: 0.0445 - mse: 0.0030 - root_mean_squared_error: 0.0545 - val_loss: 0.0030 - val_mae: 0.0447 - val_mse: 0.0030 - val_root_mean_squared_error: 0.0548\n",
            "Epoch 131/300\n",
            "40/40 [==============================] - 0s 2ms/step - loss: 0.0030 - mae: 0.0445 - mse: 0.0030 - root_mean_squared_error: 0.0545 - val_loss: 0.0030 - val_mae: 0.0447 - val_mse: 0.0030 - val_root_mean_squared_error: 0.0548\n",
            "Epoch 132/300\n",
            "40/40 [==============================] - 0s 3ms/step - loss: 0.0030 - mae: 0.0444 - mse: 0.0030 - root_mean_squared_error: 0.0544 - val_loss: 0.0030 - val_mae: 0.0446 - val_mse: 0.0030 - val_root_mean_squared_error: 0.0547\n",
            "Epoch 133/300\n",
            "40/40 [==============================] - 0s 3ms/step - loss: 0.0030 - mae: 0.0444 - mse: 0.0030 - root_mean_squared_error: 0.0544 - val_loss: 0.0031 - val_mae: 0.0452 - val_mse: 0.0031 - val_root_mean_squared_error: 0.0553\n",
            "Epoch 134/300\n",
            "40/40 [==============================] - 0s 3ms/step - loss: 0.0030 - mae: 0.0444 - mse: 0.0030 - root_mean_squared_error: 0.0544 - val_loss: 0.0030 - val_mae: 0.0451 - val_mse: 0.0030 - val_root_mean_squared_error: 0.0550\n",
            "Epoch 135/300\n",
            "40/40 [==============================] - 0s 3ms/step - loss: 0.0030 - mae: 0.0444 - mse: 0.0030 - root_mean_squared_error: 0.0544 - val_loss: 0.0030 - val_mae: 0.0449 - val_mse: 0.0030 - val_root_mean_squared_error: 0.0550\n",
            "Epoch 136/300\n",
            "40/40 [==============================] - 0s 3ms/step - loss: 0.0030 - mae: 0.0445 - mse: 0.0030 - root_mean_squared_error: 0.0545 - val_loss: 0.0030 - val_mae: 0.0448 - val_mse: 0.0030 - val_root_mean_squared_error: 0.0548\n",
            "Epoch 137/300\n",
            "40/40 [==============================] - 0s 2ms/step - loss: 0.0030 - mae: 0.0444 - mse: 0.0030 - root_mean_squared_error: 0.0544 - val_loss: 0.0030 - val_mae: 0.0452 - val_mse: 0.0030 - val_root_mean_squared_error: 0.0552\n",
            "Epoch 138/300\n",
            "40/40 [==============================] - 0s 3ms/step - loss: 0.0030 - mae: 0.0445 - mse: 0.0030 - root_mean_squared_error: 0.0544 - val_loss: 0.0030 - val_mae: 0.0447 - val_mse: 0.0030 - val_root_mean_squared_error: 0.0548\n",
            "Epoch 139/300\n",
            "40/40 [==============================] - 0s 3ms/step - loss: 0.0030 - mae: 0.0444 - mse: 0.0030 - root_mean_squared_error: 0.0544 - val_loss: 0.0030 - val_mae: 0.0445 - val_mse: 0.0030 - val_root_mean_squared_error: 0.0548\n",
            "Epoch 140/300\n",
            "40/40 [==============================] - 0s 3ms/step - loss: 0.0030 - mae: 0.0444 - mse: 0.0030 - root_mean_squared_error: 0.0544 - val_loss: 0.0030 - val_mae: 0.0447 - val_mse: 0.0030 - val_root_mean_squared_error: 0.0547\n",
            "Epoch 141/300\n",
            "40/40 [==============================] - 0s 3ms/step - loss: 0.0030 - mae: 0.0444 - mse: 0.0030 - root_mean_squared_error: 0.0544 - val_loss: 0.0030 - val_mae: 0.0450 - val_mse: 0.0030 - val_root_mean_squared_error: 0.0551\n",
            "Epoch 142/300\n",
            "40/40 [==============================] - 0s 3ms/step - loss: 0.0030 - mae: 0.0444 - mse: 0.0030 - root_mean_squared_error: 0.0544 - val_loss: 0.0030 - val_mae: 0.0448 - val_mse: 0.0030 - val_root_mean_squared_error: 0.0548\n",
            "Epoch 143/300\n",
            "40/40 [==============================] - 0s 3ms/step - loss: 0.0030 - mae: 0.0445 - mse: 0.0030 - root_mean_squared_error: 0.0545 - val_loss: 0.0030 - val_mae: 0.0446 - val_mse: 0.0030 - val_root_mean_squared_error: 0.0547\n",
            "Epoch 144/300\n",
            "40/40 [==============================] - 0s 3ms/step - loss: 0.0030 - mae: 0.0445 - mse: 0.0030 - root_mean_squared_error: 0.0544 - val_loss: 0.0031 - val_mae: 0.0452 - val_mse: 0.0031 - val_root_mean_squared_error: 0.0553\n",
            "Epoch 145/300\n",
            "40/40 [==============================] - 0s 3ms/step - loss: 0.0030 - mae: 0.0444 - mse: 0.0030 - root_mean_squared_error: 0.0544 - val_loss: 0.0030 - val_mae: 0.0452 - val_mse: 0.0030 - val_root_mean_squared_error: 0.0551\n",
            "Epoch 146/300\n",
            "40/40 [==============================] - 0s 3ms/step - loss: 0.0030 - mae: 0.0444 - mse: 0.0030 - root_mean_squared_error: 0.0544 - val_loss: 0.0031 - val_mae: 0.0455 - val_mse: 0.0031 - val_root_mean_squared_error: 0.0557\n",
            "Epoch 147/300\n",
            "40/40 [==============================] - 0s 3ms/step - loss: 0.0030 - mae: 0.0444 - mse: 0.0030 - root_mean_squared_error: 0.0544 - val_loss: 0.0030 - val_mae: 0.0448 - val_mse: 0.0030 - val_root_mean_squared_error: 0.0548\n",
            "Epoch 148/300\n",
            "40/40 [==============================] - 0s 3ms/step - loss: 0.0030 - mae: 0.0444 - mse: 0.0030 - root_mean_squared_error: 0.0544 - val_loss: 0.0030 - val_mae: 0.0450 - val_mse: 0.0030 - val_root_mean_squared_error: 0.0550\n",
            "Epoch 149/300\n",
            "40/40 [==============================] - 0s 3ms/step - loss: 0.0030 - mae: 0.0444 - mse: 0.0030 - root_mean_squared_error: 0.0544 - val_loss: 0.0030 - val_mae: 0.0446 - val_mse: 0.0030 - val_root_mean_squared_error: 0.0548\n",
            "Epoch 150/300\n",
            "40/40 [==============================] - 0s 3ms/step - loss: 0.0030 - mae: 0.0444 - mse: 0.0030 - root_mean_squared_error: 0.0544 - val_loss: 0.0030 - val_mae: 0.0448 - val_mse: 0.0030 - val_root_mean_squared_error: 0.0549\n",
            "Epoch 151/300\n",
            "40/40 [==============================] - 0s 3ms/step - loss: 0.0029 - mae: 0.0443 - mse: 0.0029 - root_mean_squared_error: 0.0543 - val_loss: 0.0030 - val_mae: 0.0447 - val_mse: 0.0030 - val_root_mean_squared_error: 0.0547\n",
            "Epoch 152/300\n",
            "40/40 [==============================] - 0s 3ms/step - loss: 0.0030 - mae: 0.0444 - mse: 0.0030 - root_mean_squared_error: 0.0544 - val_loss: 0.0031 - val_mae: 0.0453 - val_mse: 0.0031 - val_root_mean_squared_error: 0.0554\n",
            "Epoch 153/300\n",
            "40/40 [==============================] - 0s 3ms/step - loss: 0.0030 - mae: 0.0444 - mse: 0.0030 - root_mean_squared_error: 0.0543 - val_loss: 0.0030 - val_mae: 0.0447 - val_mse: 0.0030 - val_root_mean_squared_error: 0.0547\n",
            "Epoch 154/300\n",
            "40/40 [==============================] - 0s 3ms/step - loss: 0.0030 - mae: 0.0444 - mse: 0.0030 - root_mean_squared_error: 0.0544 - val_loss: 0.0030 - val_mae: 0.0447 - val_mse: 0.0030 - val_root_mean_squared_error: 0.0547\n",
            "Epoch 155/300\n",
            "40/40 [==============================] - 0s 3ms/step - loss: 0.0030 - mae: 0.0443 - mse: 0.0030 - root_mean_squared_error: 0.0543 - val_loss: 0.0030 - val_mae: 0.0451 - val_mse: 0.0030 - val_root_mean_squared_error: 0.0551\n",
            "Epoch 156/300\n",
            "40/40 [==============================] - 0s 3ms/step - loss: 0.0030 - mae: 0.0444 - mse: 0.0030 - root_mean_squared_error: 0.0544 - val_loss: 0.0030 - val_mae: 0.0446 - val_mse: 0.0030 - val_root_mean_squared_error: 0.0547\n",
            "Epoch 157/300\n",
            "40/40 [==============================] - 0s 3ms/step - loss: 0.0029 - mae: 0.0443 - mse: 0.0029 - root_mean_squared_error: 0.0543 - val_loss: 0.0030 - val_mae: 0.0445 - val_mse: 0.0030 - val_root_mean_squared_error: 0.0546\n",
            "Epoch 158/300\n",
            "40/40 [==============================] - 0s 3ms/step - loss: 0.0029 - mae: 0.0443 - mse: 0.0029 - root_mean_squared_error: 0.0543 - val_loss: 0.0030 - val_mae: 0.0448 - val_mse: 0.0030 - val_root_mean_squared_error: 0.0548\n",
            "Epoch 159/300\n",
            "40/40 [==============================] - 0s 3ms/step - loss: 0.0029 - mae: 0.0443 - mse: 0.0029 - root_mean_squared_error: 0.0543 - val_loss: 0.0030 - val_mae: 0.0446 - val_mse: 0.0030 - val_root_mean_squared_error: 0.0546\n",
            "Epoch 160/300\n",
            "40/40 [==============================] - 0s 3ms/step - loss: 0.0029 - mae: 0.0443 - mse: 0.0029 - root_mean_squared_error: 0.0543 - val_loss: 0.0030 - val_mae: 0.0445 - val_mse: 0.0030 - val_root_mean_squared_error: 0.0546\n",
            "Epoch 161/300\n",
            "40/40 [==============================] - 0s 3ms/step - loss: 0.0030 - mae: 0.0444 - mse: 0.0030 - root_mean_squared_error: 0.0544 - val_loss: 0.0030 - val_mae: 0.0446 - val_mse: 0.0030 - val_root_mean_squared_error: 0.0546\n",
            "Epoch 162/300\n",
            "40/40 [==============================] - 0s 3ms/step - loss: 0.0029 - mae: 0.0443 - mse: 0.0029 - root_mean_squared_error: 0.0543 - val_loss: 0.0030 - val_mae: 0.0446 - val_mse: 0.0030 - val_root_mean_squared_error: 0.0547\n",
            "Epoch 163/300\n",
            "40/40 [==============================] - 0s 3ms/step - loss: 0.0029 - mae: 0.0443 - mse: 0.0029 - root_mean_squared_error: 0.0543 - val_loss: 0.0030 - val_mae: 0.0445 - val_mse: 0.0030 - val_root_mean_squared_error: 0.0547\n",
            "Epoch 164/300\n",
            "40/40 [==============================] - 0s 3ms/step - loss: 0.0029 - mae: 0.0443 - mse: 0.0029 - root_mean_squared_error: 0.0543 - val_loss: 0.0030 - val_mae: 0.0445 - val_mse: 0.0030 - val_root_mean_squared_error: 0.0546\n",
            "Epoch 165/300\n",
            "40/40 [==============================] - 0s 3ms/step - loss: 0.0029 - mae: 0.0443 - mse: 0.0029 - root_mean_squared_error: 0.0543 - val_loss: 0.0030 - val_mae: 0.0446 - val_mse: 0.0030 - val_root_mean_squared_error: 0.0546\n",
            "Epoch 166/300\n",
            "40/40 [==============================] - 0s 3ms/step - loss: 0.0029 - mae: 0.0443 - mse: 0.0029 - root_mean_squared_error: 0.0542 - val_loss: 0.0030 - val_mae: 0.0447 - val_mse: 0.0030 - val_root_mean_squared_error: 0.0550\n",
            "Epoch 167/300\n",
            "40/40 [==============================] - 0s 3ms/step - loss: 0.0030 - mae: 0.0444 - mse: 0.0030 - root_mean_squared_error: 0.0544 - val_loss: 0.0030 - val_mae: 0.0448 - val_mse: 0.0030 - val_root_mean_squared_error: 0.0548\n",
            "Epoch 168/300\n",
            "40/40 [==============================] - 0s 3ms/step - loss: 0.0029 - mae: 0.0443 - mse: 0.0029 - root_mean_squared_error: 0.0543 - val_loss: 0.0030 - val_mae: 0.0447 - val_mse: 0.0030 - val_root_mean_squared_error: 0.0547\n",
            "Epoch 169/300\n",
            "40/40 [==============================] - 0s 3ms/step - loss: 0.0030 - mae: 0.0444 - mse: 0.0030 - root_mean_squared_error: 0.0543 - val_loss: 0.0030 - val_mae: 0.0446 - val_mse: 0.0030 - val_root_mean_squared_error: 0.0547\n",
            "Epoch 170/300\n",
            "40/40 [==============================] - 0s 3ms/step - loss: 0.0030 - mae: 0.0443 - mse: 0.0030 - root_mean_squared_error: 0.0543 - val_loss: 0.0030 - val_mae: 0.0446 - val_mse: 0.0030 - val_root_mean_squared_error: 0.0546\n",
            "Epoch 171/300\n",
            "40/40 [==============================] - 0s 3ms/step - loss: 0.0029 - mae: 0.0443 - mse: 0.0029 - root_mean_squared_error: 0.0543 - val_loss: 0.0030 - val_mae: 0.0446 - val_mse: 0.0030 - val_root_mean_squared_error: 0.0546\n",
            "Epoch 172/300\n",
            "40/40 [==============================] - 0s 3ms/step - loss: 0.0029 - mae: 0.0443 - mse: 0.0029 - root_mean_squared_error: 0.0543 - val_loss: 0.0030 - val_mae: 0.0446 - val_mse: 0.0030 - val_root_mean_squared_error: 0.0546\n",
            "Epoch 173/300\n",
            "40/40 [==============================] - 0s 3ms/step - loss: 0.0029 - mae: 0.0443 - mse: 0.0029 - root_mean_squared_error: 0.0543 - val_loss: 0.0030 - val_mae: 0.0445 - val_mse: 0.0030 - val_root_mean_squared_error: 0.0546\n",
            "Epoch 174/300\n",
            "40/40 [==============================] - 0s 3ms/step - loss: 0.0029 - mae: 0.0442 - mse: 0.0029 - root_mean_squared_error: 0.0542 - val_loss: 0.0030 - val_mae: 0.0445 - val_mse: 0.0030 - val_root_mean_squared_error: 0.0546\n",
            "Epoch 175/300\n",
            "40/40 [==============================] - 0s 3ms/step - loss: 0.0029 - mae: 0.0443 - mse: 0.0029 - root_mean_squared_error: 0.0543 - val_loss: 0.0030 - val_mae: 0.0448 - val_mse: 0.0030 - val_root_mean_squared_error: 0.0548\n",
            "Epoch 176/300\n",
            "40/40 [==============================] - 0s 3ms/step - loss: 0.0029 - mae: 0.0443 - mse: 0.0029 - root_mean_squared_error: 0.0542 - val_loss: 0.0030 - val_mae: 0.0448 - val_mse: 0.0030 - val_root_mean_squared_error: 0.0549\n",
            "Epoch 177/300\n",
            "40/40 [==============================] - 0s 3ms/step - loss: 0.0029 - mae: 0.0443 - mse: 0.0029 - root_mean_squared_error: 0.0543 - val_loss: 0.0030 - val_mae: 0.0445 - val_mse: 0.0030 - val_root_mean_squared_error: 0.0546\n",
            "Epoch 178/300\n",
            "40/40 [==============================] - 0s 3ms/step - loss: 0.0029 - mae: 0.0442 - mse: 0.0029 - root_mean_squared_error: 0.0542 - val_loss: 0.0030 - val_mae: 0.0450 - val_mse: 0.0030 - val_root_mean_squared_error: 0.0549\n",
            "Epoch 179/300\n",
            "40/40 [==============================] - 0s 3ms/step - loss: 0.0029 - mae: 0.0443 - mse: 0.0029 - root_mean_squared_error: 0.0542 - val_loss: 0.0030 - val_mae: 0.0450 - val_mse: 0.0030 - val_root_mean_squared_error: 0.0551\n",
            "Epoch 180/300\n",
            "40/40 [==============================] - 0s 3ms/step - loss: 0.0029 - mae: 0.0442 - mse: 0.0029 - root_mean_squared_error: 0.0542 - val_loss: 0.0030 - val_mae: 0.0446 - val_mse: 0.0030 - val_root_mean_squared_error: 0.0546\n",
            "Epoch 181/300\n",
            "40/40 [==============================] - 0s 3ms/step - loss: 0.0029 - mae: 0.0443 - mse: 0.0029 - root_mean_squared_error: 0.0543 - val_loss: 0.0030 - val_mae: 0.0448 - val_mse: 0.0030 - val_root_mean_squared_error: 0.0547\n",
            "Epoch 182/300\n",
            "40/40 [==============================] - 0s 3ms/step - loss: 0.0029 - mae: 0.0443 - mse: 0.0029 - root_mean_squared_error: 0.0542 - val_loss: 0.0030 - val_mae: 0.0445 - val_mse: 0.0030 - val_root_mean_squared_error: 0.0546\n",
            "Epoch 183/300\n",
            "40/40 [==============================] - 0s 3ms/step - loss: 0.0029 - mae: 0.0442 - mse: 0.0029 - root_mean_squared_error: 0.0542 - val_loss: 0.0030 - val_mae: 0.0446 - val_mse: 0.0030 - val_root_mean_squared_error: 0.0546\n",
            "Epoch 184/300\n",
            "40/40 [==============================] - 0s 3ms/step - loss: 0.0029 - mae: 0.0443 - mse: 0.0029 - root_mean_squared_error: 0.0542 - val_loss: 0.0030 - val_mae: 0.0445 - val_mse: 0.0030 - val_root_mean_squared_error: 0.0545\n",
            "Epoch 185/300\n",
            "40/40 [==============================] - 0s 3ms/step - loss: 0.0029 - mae: 0.0443 - mse: 0.0029 - root_mean_squared_error: 0.0542 - val_loss: 0.0030 - val_mae: 0.0447 - val_mse: 0.0030 - val_root_mean_squared_error: 0.0548\n",
            "Epoch 186/300\n",
            "40/40 [==============================] - 0s 3ms/step - loss: 0.0029 - mae: 0.0443 - mse: 0.0029 - root_mean_squared_error: 0.0542 - val_loss: 0.0031 - val_mae: 0.0454 - val_mse: 0.0031 - val_root_mean_squared_error: 0.0556\n",
            "Epoch 187/300\n",
            "40/40 [==============================] - 0s 3ms/step - loss: 0.0029 - mae: 0.0443 - mse: 0.0029 - root_mean_squared_error: 0.0542 - val_loss: 0.0030 - val_mae: 0.0445 - val_mse: 0.0030 - val_root_mean_squared_error: 0.0545\n",
            "Epoch 188/300\n",
            "40/40 [==============================] - 0s 3ms/step - loss: 0.0029 - mae: 0.0443 - mse: 0.0029 - root_mean_squared_error: 0.0542 - val_loss: 0.0030 - val_mae: 0.0448 - val_mse: 0.0030 - val_root_mean_squared_error: 0.0549\n",
            "Epoch 189/300\n",
            "40/40 [==============================] - 0s 3ms/step - loss: 0.0029 - mae: 0.0443 - mse: 0.0029 - root_mean_squared_error: 0.0542 - val_loss: 0.0030 - val_mae: 0.0445 - val_mse: 0.0030 - val_root_mean_squared_error: 0.0548\n",
            "Epoch 190/300\n",
            "40/40 [==============================] - 0s 3ms/step - loss: 0.0029 - mae: 0.0443 - mse: 0.0029 - root_mean_squared_error: 0.0542 - val_loss: 0.0030 - val_mae: 0.0447 - val_mse: 0.0030 - val_root_mean_squared_error: 0.0546\n",
            "Epoch 191/300\n",
            "40/40 [==============================] - 0s 4ms/step - loss: 0.0029 - mae: 0.0443 - mse: 0.0029 - root_mean_squared_error: 0.0542 - val_loss: 0.0030 - val_mae: 0.0446 - val_mse: 0.0030 - val_root_mean_squared_error: 0.0545\n",
            "Epoch 192/300\n",
            "40/40 [==============================] - 0s 3ms/step - loss: 0.0029 - mae: 0.0443 - mse: 0.0029 - root_mean_squared_error: 0.0542 - val_loss: 0.0030 - val_mae: 0.0446 - val_mse: 0.0030 - val_root_mean_squared_error: 0.0546\n",
            "Epoch 193/300\n",
            "40/40 [==============================] - 0s 3ms/step - loss: 0.0029 - mae: 0.0443 - mse: 0.0029 - root_mean_squared_error: 0.0542 - val_loss: 0.0031 - val_mae: 0.0452 - val_mse: 0.0031 - val_root_mean_squared_error: 0.0553\n",
            "Epoch 194/300\n",
            "40/40 [==============================] - 0s 3ms/step - loss: 0.0029 - mae: 0.0443 - mse: 0.0029 - root_mean_squared_error: 0.0543 - val_loss: 0.0030 - val_mae: 0.0448 - val_mse: 0.0030 - val_root_mean_squared_error: 0.0549\n",
            "Epoch 195/300\n",
            "40/40 [==============================] - 0s 3ms/step - loss: 0.0029 - mae: 0.0442 - mse: 0.0029 - root_mean_squared_error: 0.0541 - val_loss: 0.0030 - val_mae: 0.0446 - val_mse: 0.0030 - val_root_mean_squared_error: 0.0546\n",
            "Epoch 196/300\n",
            "40/40 [==============================] - 0s 3ms/step - loss: 0.0029 - mae: 0.0442 - mse: 0.0029 - root_mean_squared_error: 0.0542 - val_loss: 0.0030 - val_mae: 0.0449 - val_mse: 0.0030 - val_root_mean_squared_error: 0.0550\n",
            "Epoch 197/300\n",
            "40/40 [==============================] - 0s 3ms/step - loss: 0.0029 - mae: 0.0442 - mse: 0.0029 - root_mean_squared_error: 0.0541 - val_loss: 0.0030 - val_mae: 0.0445 - val_mse: 0.0030 - val_root_mean_squared_error: 0.0546\n",
            "Epoch 198/300\n",
            "40/40 [==============================] - 0s 3ms/step - loss: 0.0029 - mae: 0.0443 - mse: 0.0029 - root_mean_squared_error: 0.0542 - val_loss: 0.0030 - val_mae: 0.0444 - val_mse: 0.0030 - val_root_mean_squared_error: 0.0545\n",
            "Epoch 199/300\n",
            "40/40 [==============================] - 0s 3ms/step - loss: 0.0029 - mae: 0.0442 - mse: 0.0029 - root_mean_squared_error: 0.0542 - val_loss: 0.0030 - val_mae: 0.0447 - val_mse: 0.0030 - val_root_mean_squared_error: 0.0546\n",
            "Epoch 200/300\n",
            "40/40 [==============================] - 0s 3ms/step - loss: 0.0029 - mae: 0.0442 - mse: 0.0029 - root_mean_squared_error: 0.0542 - val_loss: 0.0030 - val_mae: 0.0444 - val_mse: 0.0030 - val_root_mean_squared_error: 0.0545\n",
            "Epoch 201/300\n",
            "40/40 [==============================] - 0s 3ms/step - loss: 0.0029 - mae: 0.0443 - mse: 0.0029 - root_mean_squared_error: 0.0542 - val_loss: 0.0030 - val_mae: 0.0445 - val_mse: 0.0030 - val_root_mean_squared_error: 0.0545\n",
            "Epoch 202/300\n",
            "40/40 [==============================] - 0s 3ms/step - loss: 0.0029 - mae: 0.0442 - mse: 0.0029 - root_mean_squared_error: 0.0542 - val_loss: 0.0030 - val_mae: 0.0449 - val_mse: 0.0030 - val_root_mean_squared_error: 0.0549\n",
            "Epoch 203/300\n",
            "40/40 [==============================] - 0s 3ms/step - loss: 0.0029 - mae: 0.0443 - mse: 0.0029 - root_mean_squared_error: 0.0543 - val_loss: 0.0030 - val_mae: 0.0446 - val_mse: 0.0030 - val_root_mean_squared_error: 0.0549\n",
            "Epoch 204/300\n",
            "40/40 [==============================] - 0s 3ms/step - loss: 0.0029 - mae: 0.0443 - mse: 0.0029 - root_mean_squared_error: 0.0542 - val_loss: 0.0030 - val_mae: 0.0445 - val_mse: 0.0030 - val_root_mean_squared_error: 0.0545\n",
            "Epoch 205/300\n",
            "40/40 [==============================] - 0s 3ms/step - loss: 0.0029 - mae: 0.0442 - mse: 0.0029 - root_mean_squared_error: 0.0542 - val_loss: 0.0030 - val_mae: 0.0449 - val_mse: 0.0030 - val_root_mean_squared_error: 0.0550\n",
            "Epoch 206/300\n",
            "40/40 [==============================] - 0s 3ms/step - loss: 0.0029 - mae: 0.0443 - mse: 0.0029 - root_mean_squared_error: 0.0542 - val_loss: 0.0030 - val_mae: 0.0449 - val_mse: 0.0030 - val_root_mean_squared_error: 0.0550\n",
            "Epoch 207/300\n",
            "40/40 [==============================] - 0s 3ms/step - loss: 0.0029 - mae: 0.0442 - mse: 0.0029 - root_mean_squared_error: 0.0542 - val_loss: 0.0030 - val_mae: 0.0448 - val_mse: 0.0030 - val_root_mean_squared_error: 0.0549\n",
            "Epoch 208/300\n",
            "40/40 [==============================] - 0s 3ms/step - loss: 0.0029 - mae: 0.0442 - mse: 0.0029 - root_mean_squared_error: 0.0542 - val_loss: 0.0030 - val_mae: 0.0444 - val_mse: 0.0030 - val_root_mean_squared_error: 0.0545\n",
            "Epoch 209/300\n",
            "40/40 [==============================] - 0s 3ms/step - loss: 0.0029 - mae: 0.0441 - mse: 0.0029 - root_mean_squared_error: 0.0541 - val_loss: 0.0030 - val_mae: 0.0445 - val_mse: 0.0030 - val_root_mean_squared_error: 0.0545\n",
            "Epoch 210/300\n",
            "40/40 [==============================] - 0s 3ms/step - loss: 0.0029 - mae: 0.0442 - mse: 0.0029 - root_mean_squared_error: 0.0542 - val_loss: 0.0030 - val_mae: 0.0449 - val_mse: 0.0030 - val_root_mean_squared_error: 0.0550\n",
            "Epoch 211/300\n",
            "40/40 [==============================] - 0s 3ms/step - loss: 0.0029 - mae: 0.0442 - mse: 0.0029 - root_mean_squared_error: 0.0542 - val_loss: 0.0030 - val_mae: 0.0445 - val_mse: 0.0030 - val_root_mean_squared_error: 0.0545\n",
            "Epoch 212/300\n",
            "40/40 [==============================] - 0s 3ms/step - loss: 0.0029 - mae: 0.0442 - mse: 0.0029 - root_mean_squared_error: 0.0542 - val_loss: 0.0030 - val_mae: 0.0444 - val_mse: 0.0030 - val_root_mean_squared_error: 0.0544\n",
            "Epoch 213/300\n",
            "40/40 [==============================] - 0s 3ms/step - loss: 0.0029 - mae: 0.0442 - mse: 0.0029 - root_mean_squared_error: 0.0542 - val_loss: 0.0030 - val_mae: 0.0450 - val_mse: 0.0030 - val_root_mean_squared_error: 0.0550\n",
            "Epoch 214/300\n",
            "40/40 [==============================] - 0s 3ms/step - loss: 0.0029 - mae: 0.0443 - mse: 0.0029 - root_mean_squared_error: 0.0542 - val_loss: 0.0030 - val_mae: 0.0445 - val_mse: 0.0030 - val_root_mean_squared_error: 0.0545\n",
            "Epoch 215/300\n",
            "40/40 [==============================] - 0s 3ms/step - loss: 0.0029 - mae: 0.0442 - mse: 0.0029 - root_mean_squared_error: 0.0541 - val_loss: 0.0030 - val_mae: 0.0446 - val_mse: 0.0030 - val_root_mean_squared_error: 0.0545\n",
            "Epoch 216/300\n",
            "40/40 [==============================] - 0s 3ms/step - loss: 0.0029 - mae: 0.0443 - mse: 0.0029 - root_mean_squared_error: 0.0542 - val_loss: 0.0030 - val_mae: 0.0444 - val_mse: 0.0030 - val_root_mean_squared_error: 0.0544\n",
            "Epoch 217/300\n",
            "40/40 [==============================] - 0s 3ms/step - loss: 0.0029 - mae: 0.0442 - mse: 0.0029 - root_mean_squared_error: 0.0541 - val_loss: 0.0030 - val_mae: 0.0445 - val_mse: 0.0030 - val_root_mean_squared_error: 0.0544\n",
            "Epoch 218/300\n",
            "40/40 [==============================] - 0s 3ms/step - loss: 0.0029 - mae: 0.0442 - mse: 0.0029 - root_mean_squared_error: 0.0541 - val_loss: 0.0030 - val_mae: 0.0444 - val_mse: 0.0030 - val_root_mean_squared_error: 0.0545\n",
            "Epoch 219/300\n",
            "40/40 [==============================] - 0s 3ms/step - loss: 0.0029 - mae: 0.0442 - mse: 0.0029 - root_mean_squared_error: 0.0542 - val_loss: 0.0030 - val_mae: 0.0445 - val_mse: 0.0030 - val_root_mean_squared_error: 0.0545\n",
            "Epoch 220/300\n",
            "40/40 [==============================] - 0s 3ms/step - loss: 0.0029 - mae: 0.0442 - mse: 0.0029 - root_mean_squared_error: 0.0542 - val_loss: 0.0030 - val_mae: 0.0444 - val_mse: 0.0030 - val_root_mean_squared_error: 0.0544\n",
            "Epoch 221/300\n",
            "40/40 [==============================] - 0s 3ms/step - loss: 0.0029 - mae: 0.0441 - mse: 0.0029 - root_mean_squared_error: 0.0541 - val_loss: 0.0030 - val_mae: 0.0445 - val_mse: 0.0030 - val_root_mean_squared_error: 0.0545\n",
            "Epoch 222/300\n",
            "40/40 [==============================] - 0s 3ms/step - loss: 0.0029 - mae: 0.0442 - mse: 0.0029 - root_mean_squared_error: 0.0541 - val_loss: 0.0030 - val_mae: 0.0443 - val_mse: 0.0030 - val_root_mean_squared_error: 0.0544\n",
            "Epoch 223/300\n",
            "40/40 [==============================] - 0s 3ms/step - loss: 0.0029 - mae: 0.0442 - mse: 0.0029 - root_mean_squared_error: 0.0541 - val_loss: 0.0030 - val_mae: 0.0446 - val_mse: 0.0030 - val_root_mean_squared_error: 0.0545\n",
            "Epoch 224/300\n",
            "40/40 [==============================] - 0s 3ms/step - loss: 0.0029 - mae: 0.0442 - mse: 0.0029 - root_mean_squared_error: 0.0541 - val_loss: 0.0030 - val_mae: 0.0448 - val_mse: 0.0030 - val_root_mean_squared_error: 0.0548\n",
            "Epoch 225/300\n",
            "40/40 [==============================] - 0s 3ms/step - loss: 0.0029 - mae: 0.0442 - mse: 0.0029 - root_mean_squared_error: 0.0542 - val_loss: 0.0030 - val_mae: 0.0445 - val_mse: 0.0030 - val_root_mean_squared_error: 0.0545\n",
            "Epoch 226/300\n",
            "40/40 [==============================] - 0s 3ms/step - loss: 0.0029 - mae: 0.0442 - mse: 0.0029 - root_mean_squared_error: 0.0542 - val_loss: 0.0030 - val_mae: 0.0445 - val_mse: 0.0030 - val_root_mean_squared_error: 0.0545\n",
            "Epoch 227/300\n",
            "40/40 [==============================] - 0s 3ms/step - loss: 0.0029 - mae: 0.0442 - mse: 0.0029 - root_mean_squared_error: 0.0541 - val_loss: 0.0031 - val_mae: 0.0453 - val_mse: 0.0031 - val_root_mean_squared_error: 0.0554\n",
            "Epoch 228/300\n",
            "40/40 [==============================] - 0s 3ms/step - loss: 0.0029 - mae: 0.0442 - mse: 0.0029 - root_mean_squared_error: 0.0541 - val_loss: 0.0030 - val_mae: 0.0447 - val_mse: 0.0030 - val_root_mean_squared_error: 0.0546\n",
            "Epoch 229/300\n",
            "40/40 [==============================] - 0s 3ms/step - loss: 0.0029 - mae: 0.0442 - mse: 0.0029 - root_mean_squared_error: 0.0541 - val_loss: 0.0030 - val_mae: 0.0448 - val_mse: 0.0030 - val_root_mean_squared_error: 0.0548\n",
            "Epoch 230/300\n",
            "40/40 [==============================] - 0s 3ms/step - loss: 0.0029 - mae: 0.0442 - mse: 0.0029 - root_mean_squared_error: 0.0542 - val_loss: 0.0030 - val_mae: 0.0445 - val_mse: 0.0030 - val_root_mean_squared_error: 0.0545\n",
            "Epoch 231/300\n",
            "40/40 [==============================] - 0s 3ms/step - loss: 0.0029 - mae: 0.0442 - mse: 0.0029 - root_mean_squared_error: 0.0542 - val_loss: 0.0030 - val_mae: 0.0444 - val_mse: 0.0030 - val_root_mean_squared_error: 0.0544\n",
            "Epoch 232/300\n",
            "40/40 [==============================] - 0s 3ms/step - loss: 0.0029 - mae: 0.0442 - mse: 0.0029 - root_mean_squared_error: 0.0541 - val_loss: 0.0030 - val_mae: 0.0443 - val_mse: 0.0030 - val_root_mean_squared_error: 0.0544\n",
            "Epoch 233/300\n",
            "40/40 [==============================] - 0s 3ms/step - loss: 0.0029 - mae: 0.0441 - mse: 0.0029 - root_mean_squared_error: 0.0541 - val_loss: 0.0030 - val_mae: 0.0446 - val_mse: 0.0030 - val_root_mean_squared_error: 0.0545\n",
            "Epoch 234/300\n",
            "40/40 [==============================] - 0s 3ms/step - loss: 0.0029 - mae: 0.0442 - mse: 0.0029 - root_mean_squared_error: 0.0541 - val_loss: 0.0030 - val_mae: 0.0451 - val_mse: 0.0030 - val_root_mean_squared_error: 0.0551\n",
            "Epoch 235/300\n",
            "40/40 [==============================] - 0s 3ms/step - loss: 0.0029 - mae: 0.0441 - mse: 0.0029 - root_mean_squared_error: 0.0541 - val_loss: 0.0030 - val_mae: 0.0450 - val_mse: 0.0030 - val_root_mean_squared_error: 0.0551\n",
            "Epoch 236/300\n",
            "40/40 [==============================] - 0s 3ms/step - loss: 0.0029 - mae: 0.0442 - mse: 0.0029 - root_mean_squared_error: 0.0541 - val_loss: 0.0030 - val_mae: 0.0444 - val_mse: 0.0030 - val_root_mean_squared_error: 0.0544\n",
            "Epoch 237/300\n",
            "40/40 [==============================] - 0s 3ms/step - loss: 0.0029 - mae: 0.0442 - mse: 0.0029 - root_mean_squared_error: 0.0541 - val_loss: 0.0030 - val_mae: 0.0444 - val_mse: 0.0030 - val_root_mean_squared_error: 0.0545\n",
            "Epoch 238/300\n",
            "40/40 [==============================] - 0s 3ms/step - loss: 0.0029 - mae: 0.0442 - mse: 0.0029 - root_mean_squared_error: 0.0541 - val_loss: 0.0030 - val_mae: 0.0445 - val_mse: 0.0030 - val_root_mean_squared_error: 0.0544\n",
            "Epoch 239/300\n",
            "40/40 [==============================] - 0s 3ms/step - loss: 0.0029 - mae: 0.0442 - mse: 0.0029 - root_mean_squared_error: 0.0541 - val_loss: 0.0030 - val_mae: 0.0448 - val_mse: 0.0030 - val_root_mean_squared_error: 0.0548\n",
            "Epoch 240/300\n",
            "40/40 [==============================] - 0s 3ms/step - loss: 0.0029 - mae: 0.0442 - mse: 0.0029 - root_mean_squared_error: 0.0541 - val_loss: 0.0030 - val_mae: 0.0443 - val_mse: 0.0030 - val_root_mean_squared_error: 0.0544\n",
            "Epoch 241/300\n",
            "40/40 [==============================] - 0s 3ms/step - loss: 0.0029 - mae: 0.0442 - mse: 0.0029 - root_mean_squared_error: 0.0542 - val_loss: 0.0031 - val_mae: 0.0452 - val_mse: 0.0031 - val_root_mean_squared_error: 0.0554\n",
            "Epoch 242/300\n",
            "40/40 [==============================] - 0s 3ms/step - loss: 0.0029 - mae: 0.0442 - mse: 0.0029 - root_mean_squared_error: 0.0542 - val_loss: 0.0030 - val_mae: 0.0445 - val_mse: 0.0030 - val_root_mean_squared_error: 0.0544\n",
            "Epoch 243/300\n",
            "40/40 [==============================] - 0s 3ms/step - loss: 0.0029 - mae: 0.0442 - mse: 0.0029 - root_mean_squared_error: 0.0541 - val_loss: 0.0030 - val_mae: 0.0444 - val_mse: 0.0030 - val_root_mean_squared_error: 0.0544\n",
            "Epoch 244/300\n",
            "40/40 [==============================] - 0s 3ms/step - loss: 0.0029 - mae: 0.0442 - mse: 0.0029 - root_mean_squared_error: 0.0540 - val_loss: 0.0030 - val_mae: 0.0444 - val_mse: 0.0030 - val_root_mean_squared_error: 0.0544\n",
            "Epoch 245/300\n",
            "40/40 [==============================] - 0s 3ms/step - loss: 0.0029 - mae: 0.0442 - mse: 0.0029 - root_mean_squared_error: 0.0541 - val_loss: 0.0030 - val_mae: 0.0445 - val_mse: 0.0030 - val_root_mean_squared_error: 0.0544\n",
            "Epoch 246/300\n",
            "40/40 [==============================] - 0s 3ms/step - loss: 0.0029 - mae: 0.0441 - mse: 0.0029 - root_mean_squared_error: 0.0540 - val_loss: 0.0030 - val_mae: 0.0446 - val_mse: 0.0030 - val_root_mean_squared_error: 0.0547\n",
            "Epoch 247/300\n",
            "40/40 [==============================] - 0s 3ms/step - loss: 0.0029 - mae: 0.0442 - mse: 0.0029 - root_mean_squared_error: 0.0541 - val_loss: 0.0030 - val_mae: 0.0445 - val_mse: 0.0030 - val_root_mean_squared_error: 0.0545\n",
            "Epoch 248/300\n",
            "40/40 [==============================] - 0s 3ms/step - loss: 0.0029 - mae: 0.0442 - mse: 0.0029 - root_mean_squared_error: 0.0541 - val_loss: 0.0030 - val_mae: 0.0444 - val_mse: 0.0030 - val_root_mean_squared_error: 0.0544\n",
            "Epoch 249/300\n",
            "40/40 [==============================] - 0s 3ms/step - loss: 0.0029 - mae: 0.0441 - mse: 0.0029 - root_mean_squared_error: 0.0541 - val_loss: 0.0030 - val_mae: 0.0444 - val_mse: 0.0030 - val_root_mean_squared_error: 0.0544\n",
            "Epoch 250/300\n",
            "40/40 [==============================] - 0s 3ms/step - loss: 0.0029 - mae: 0.0442 - mse: 0.0029 - root_mean_squared_error: 0.0541 - val_loss: 0.0030 - val_mae: 0.0446 - val_mse: 0.0030 - val_root_mean_squared_error: 0.0546\n",
            "Epoch 251/300\n",
            "40/40 [==============================] - 0s 3ms/step - loss: 0.0029 - mae: 0.0442 - mse: 0.0029 - root_mean_squared_error: 0.0541 - val_loss: 0.0030 - val_mae: 0.0447 - val_mse: 0.0030 - val_root_mean_squared_error: 0.0547\n",
            "Epoch 252/300\n",
            "40/40 [==============================] - 0s 3ms/step - loss: 0.0029 - mae: 0.0441 - mse: 0.0029 - root_mean_squared_error: 0.0540 - val_loss: 0.0030 - val_mae: 0.0445 - val_mse: 0.0030 - val_root_mean_squared_error: 0.0545\n",
            "Epoch 253/300\n",
            "40/40 [==============================] - 0s 3ms/step - loss: 0.0029 - mae: 0.0441 - mse: 0.0029 - root_mean_squared_error: 0.0540 - val_loss: 0.0030 - val_mae: 0.0443 - val_mse: 0.0030 - val_root_mean_squared_error: 0.0543\n",
            "Epoch 254/300\n",
            "40/40 [==============================] - 0s 3ms/step - loss: 0.0029 - mae: 0.0441 - mse: 0.0029 - root_mean_squared_error: 0.0540 - val_loss: 0.0030 - val_mae: 0.0445 - val_mse: 0.0030 - val_root_mean_squared_error: 0.0544\n",
            "Epoch 255/300\n",
            "40/40 [==============================] - 0s 3ms/step - loss: 0.0029 - mae: 0.0441 - mse: 0.0029 - root_mean_squared_error: 0.0540 - val_loss: 0.0030 - val_mae: 0.0445 - val_mse: 0.0030 - val_root_mean_squared_error: 0.0544\n",
            "Epoch 256/300\n",
            "40/40 [==============================] - 0s 3ms/step - loss: 0.0029 - mae: 0.0442 - mse: 0.0029 - root_mean_squared_error: 0.0540 - val_loss: 0.0030 - val_mae: 0.0445 - val_mse: 0.0030 - val_root_mean_squared_error: 0.0546\n",
            "Epoch 257/300\n",
            "40/40 [==============================] - 0s 3ms/step - loss: 0.0029 - mae: 0.0441 - mse: 0.0029 - root_mean_squared_error: 0.0540 - val_loss: 0.0030 - val_mae: 0.0443 - val_mse: 0.0030 - val_root_mean_squared_error: 0.0544\n",
            "Epoch 258/300\n",
            "40/40 [==============================] - 0s 2ms/step - loss: 0.0029 - mae: 0.0441 - mse: 0.0029 - root_mean_squared_error: 0.0541 - val_loss: 0.0030 - val_mae: 0.0445 - val_mse: 0.0030 - val_root_mean_squared_error: 0.0544\n",
            "Epoch 259/300\n",
            "40/40 [==============================] - 0s 3ms/step - loss: 0.0029 - mae: 0.0441 - mse: 0.0029 - root_mean_squared_error: 0.0540 - val_loss: 0.0030 - val_mae: 0.0443 - val_mse: 0.0030 - val_root_mean_squared_error: 0.0544\n",
            "Epoch 260/300\n",
            "40/40 [==============================] - 0s 3ms/step - loss: 0.0029 - mae: 0.0441 - mse: 0.0029 - root_mean_squared_error: 0.0540 - val_loss: 0.0030 - val_mae: 0.0445 - val_mse: 0.0030 - val_root_mean_squared_error: 0.0545\n",
            "Epoch 261/300\n",
            "40/40 [==============================] - 0s 3ms/step - loss: 0.0029 - mae: 0.0441 - mse: 0.0029 - root_mean_squared_error: 0.0541 - val_loss: 0.0030 - val_mae: 0.0450 - val_mse: 0.0030 - val_root_mean_squared_error: 0.0550\n",
            "Epoch 262/300\n",
            "40/40 [==============================] - 0s 3ms/step - loss: 0.0029 - mae: 0.0441 - mse: 0.0029 - root_mean_squared_error: 0.0540 - val_loss: 0.0030 - val_mae: 0.0449 - val_mse: 0.0030 - val_root_mean_squared_error: 0.0548\n",
            "Epoch 263/300\n",
            "40/40 [==============================] - 0s 3ms/step - loss: 0.0029 - mae: 0.0441 - mse: 0.0029 - root_mean_squared_error: 0.0540 - val_loss: 0.0030 - val_mae: 0.0445 - val_mse: 0.0030 - val_root_mean_squared_error: 0.0544\n",
            "Epoch 264/300\n",
            "40/40 [==============================] - 0s 3ms/step - loss: 0.0029 - mae: 0.0442 - mse: 0.0029 - root_mean_squared_error: 0.0540 - val_loss: 0.0030 - val_mae: 0.0446 - val_mse: 0.0030 - val_root_mean_squared_error: 0.0546\n",
            "Epoch 265/300\n",
            "40/40 [==============================] - 0s 3ms/step - loss: 0.0029 - mae: 0.0442 - mse: 0.0029 - root_mean_squared_error: 0.0540 - val_loss: 0.0030 - val_mae: 0.0444 - val_mse: 0.0030 - val_root_mean_squared_error: 0.0544\n",
            "Epoch 266/300\n",
            "40/40 [==============================] - 0s 3ms/step - loss: 0.0029 - mae: 0.0441 - mse: 0.0029 - root_mean_squared_error: 0.0541 - val_loss: 0.0029 - val_mae: 0.0443 - val_mse: 0.0029 - val_root_mean_squared_error: 0.0543\n",
            "Epoch 267/300\n",
            "40/40 [==============================] - 0s 3ms/step - loss: 0.0029 - mae: 0.0441 - mse: 0.0029 - root_mean_squared_error: 0.0540 - val_loss: 0.0029 - val_mae: 0.0443 - val_mse: 0.0029 - val_root_mean_squared_error: 0.0543\n",
            "Epoch 268/300\n",
            "40/40 [==============================] - 0s 3ms/step - loss: 0.0029 - mae: 0.0441 - mse: 0.0029 - root_mean_squared_error: 0.0540 - val_loss: 0.0030 - val_mae: 0.0446 - val_mse: 0.0030 - val_root_mean_squared_error: 0.0546\n",
            "Epoch 269/300\n",
            "40/40 [==============================] - 0s 3ms/step - loss: 0.0029 - mae: 0.0441 - mse: 0.0029 - root_mean_squared_error: 0.0540 - val_loss: 0.0030 - val_mae: 0.0446 - val_mse: 0.0030 - val_root_mean_squared_error: 0.0545\n",
            "Epoch 270/300\n",
            "40/40 [==============================] - 0s 3ms/step - loss: 0.0029 - mae: 0.0441 - mse: 0.0029 - root_mean_squared_error: 0.0540 - val_loss: 0.0030 - val_mae: 0.0443 - val_mse: 0.0030 - val_root_mean_squared_error: 0.0543\n",
            "Epoch 271/300\n",
            "40/40 [==============================] - 0s 3ms/step - loss: 0.0029 - mae: 0.0441 - mse: 0.0029 - root_mean_squared_error: 0.0540 - val_loss: 0.0030 - val_mae: 0.0444 - val_mse: 0.0030 - val_root_mean_squared_error: 0.0543\n",
            "Epoch 272/300\n",
            "40/40 [==============================] - 0s 3ms/step - loss: 0.0029 - mae: 0.0441 - mse: 0.0029 - root_mean_squared_error: 0.0540 - val_loss: 0.0029 - val_mae: 0.0443 - val_mse: 0.0029 - val_root_mean_squared_error: 0.0543\n",
            "Epoch 273/300\n",
            "40/40 [==============================] - 0s 3ms/step - loss: 0.0029 - mae: 0.0442 - mse: 0.0029 - root_mean_squared_error: 0.0541 - val_loss: 0.0030 - val_mae: 0.0446 - val_mse: 0.0030 - val_root_mean_squared_error: 0.0546\n",
            "Epoch 274/300\n",
            "40/40 [==============================] - 0s 3ms/step - loss: 0.0029 - mae: 0.0440 - mse: 0.0029 - root_mean_squared_error: 0.0540 - val_loss: 0.0029 - val_mae: 0.0444 - val_mse: 0.0029 - val_root_mean_squared_error: 0.0543\n",
            "Epoch 275/300\n",
            "40/40 [==============================] - 0s 3ms/step - loss: 0.0029 - mae: 0.0442 - mse: 0.0029 - root_mean_squared_error: 0.0541 - val_loss: 0.0030 - val_mae: 0.0443 - val_mse: 0.0030 - val_root_mean_squared_error: 0.0543\n",
            "Epoch 276/300\n",
            "40/40 [==============================] - 0s 3ms/step - loss: 0.0029 - mae: 0.0441 - mse: 0.0029 - root_mean_squared_error: 0.0540 - val_loss: 0.0030 - val_mae: 0.0447 - val_mse: 0.0030 - val_root_mean_squared_error: 0.0546\n",
            "Epoch 277/300\n",
            "40/40 [==============================] - 0s 3ms/step - loss: 0.0029 - mae: 0.0441 - mse: 0.0029 - root_mean_squared_error: 0.0540 - val_loss: 0.0030 - val_mae: 0.0442 - val_mse: 0.0030 - val_root_mean_squared_error: 0.0543\n",
            "Epoch 278/300\n",
            "40/40 [==============================] - 0s 3ms/step - loss: 0.0029 - mae: 0.0441 - mse: 0.0029 - root_mean_squared_error: 0.0540 - val_loss: 0.0030 - val_mae: 0.0444 - val_mse: 0.0030 - val_root_mean_squared_error: 0.0543\n",
            "Epoch 279/300\n",
            "40/40 [==============================] - 0s 3ms/step - loss: 0.0029 - mae: 0.0441 - mse: 0.0029 - root_mean_squared_error: 0.0540 - val_loss: 0.0030 - val_mae: 0.0445 - val_mse: 0.0030 - val_root_mean_squared_error: 0.0545\n",
            "Epoch 280/300\n",
            "40/40 [==============================] - 0s 3ms/step - loss: 0.0029 - mae: 0.0441 - mse: 0.0029 - root_mean_squared_error: 0.0540 - val_loss: 0.0029 - val_mae: 0.0442 - val_mse: 0.0029 - val_root_mean_squared_error: 0.0542\n",
            "Epoch 281/300\n",
            "40/40 [==============================] - 0s 3ms/step - loss: 0.0029 - mae: 0.0441 - mse: 0.0029 - root_mean_squared_error: 0.0540 - val_loss: 0.0030 - val_mae: 0.0443 - val_mse: 0.0030 - val_root_mean_squared_error: 0.0545\n",
            "Epoch 282/300\n",
            "40/40 [==============================] - 0s 3ms/step - loss: 0.0029 - mae: 0.0441 - mse: 0.0029 - root_mean_squared_error: 0.0541 - val_loss: 0.0030 - val_mae: 0.0448 - val_mse: 0.0030 - val_root_mean_squared_error: 0.0548\n",
            "Epoch 283/300\n",
            "40/40 [==============================] - 0s 3ms/step - loss: 0.0029 - mae: 0.0441 - mse: 0.0029 - root_mean_squared_error: 0.0540 - val_loss: 0.0029 - val_mae: 0.0443 - val_mse: 0.0029 - val_root_mean_squared_error: 0.0543\n",
            "Epoch 284/300\n",
            "40/40 [==============================] - 0s 3ms/step - loss: 0.0029 - mae: 0.0442 - mse: 0.0029 - root_mean_squared_error: 0.0540 - val_loss: 0.0029 - val_mae: 0.0444 - val_mse: 0.0029 - val_root_mean_squared_error: 0.0543\n",
            "Epoch 285/300\n",
            "40/40 [==============================] - 0s 3ms/step - loss: 0.0029 - mae: 0.0441 - mse: 0.0029 - root_mean_squared_error: 0.0540 - val_loss: 0.0030 - val_mae: 0.0444 - val_mse: 0.0030 - val_root_mean_squared_error: 0.0544\n",
            "Epoch 286/300\n",
            "40/40 [==============================] - 0s 3ms/step - loss: 0.0029 - mae: 0.0441 - mse: 0.0029 - root_mean_squared_error: 0.0540 - val_loss: 0.0030 - val_mae: 0.0445 - val_mse: 0.0030 - val_root_mean_squared_error: 0.0544\n",
            "Epoch 287/300\n",
            "40/40 [==============================] - 0s 3ms/step - loss: 0.0029 - mae: 0.0441 - mse: 0.0029 - root_mean_squared_error: 0.0540 - val_loss: 0.0029 - val_mae: 0.0443 - val_mse: 0.0029 - val_root_mean_squared_error: 0.0542\n",
            "Epoch 288/300\n",
            "40/40 [==============================] - 0s 3ms/step - loss: 0.0029 - mae: 0.0441 - mse: 0.0029 - root_mean_squared_error: 0.0540 - val_loss: 0.0029 - val_mae: 0.0443 - val_mse: 0.0029 - val_root_mean_squared_error: 0.0542\n",
            "Epoch 289/300\n",
            "40/40 [==============================] - 0s 3ms/step - loss: 0.0029 - mae: 0.0440 - mse: 0.0029 - root_mean_squared_error: 0.0539 - val_loss: 0.0029 - val_mae: 0.0444 - val_mse: 0.0029 - val_root_mean_squared_error: 0.0543\n",
            "Epoch 290/300\n",
            "40/40 [==============================] - 0s 3ms/step - loss: 0.0029 - mae: 0.0441 - mse: 0.0029 - root_mean_squared_error: 0.0540 - val_loss: 0.0029 - val_mae: 0.0442 - val_mse: 0.0029 - val_root_mean_squared_error: 0.0542\n",
            "Epoch 291/300\n",
            "40/40 [==============================] - 0s 3ms/step - loss: 0.0029 - mae: 0.0440 - mse: 0.0029 - root_mean_squared_error: 0.0540 - val_loss: 0.0030 - val_mae: 0.0447 - val_mse: 0.0030 - val_root_mean_squared_error: 0.0547\n",
            "Epoch 292/300\n",
            "40/40 [==============================] - 0s 3ms/step - loss: 0.0029 - mae: 0.0441 - mse: 0.0029 - root_mean_squared_error: 0.0540 - val_loss: 0.0029 - val_mae: 0.0444 - val_mse: 0.0029 - val_root_mean_squared_error: 0.0543\n",
            "Epoch 293/300\n",
            "40/40 [==============================] - 0s 3ms/step - loss: 0.0029 - mae: 0.0441 - mse: 0.0029 - root_mean_squared_error: 0.0540 - val_loss: 0.0030 - val_mae: 0.0445 - val_mse: 0.0030 - val_root_mean_squared_error: 0.0544\n",
            "Epoch 294/300\n",
            "40/40 [==============================] - 0s 3ms/step - loss: 0.0029 - mae: 0.0440 - mse: 0.0029 - root_mean_squared_error: 0.0539 - val_loss: 0.0030 - val_mae: 0.0445 - val_mse: 0.0030 - val_root_mean_squared_error: 0.0544\n",
            "Epoch 295/300\n",
            "40/40 [==============================] - 0s 3ms/step - loss: 0.0029 - mae: 0.0441 - mse: 0.0029 - root_mean_squared_error: 0.0539 - val_loss: 0.0029 - val_mae: 0.0442 - val_mse: 0.0029 - val_root_mean_squared_error: 0.0542\n",
            "Epoch 296/300\n",
            "40/40 [==============================] - 0s 3ms/step - loss: 0.0029 - mae: 0.0441 - mse: 0.0029 - root_mean_squared_error: 0.0540 - val_loss: 0.0030 - val_mae: 0.0444 - val_mse: 0.0030 - val_root_mean_squared_error: 0.0546\n",
            "Epoch 297/300\n",
            "40/40 [==============================] - 0s 3ms/step - loss: 0.0029 - mae: 0.0441 - mse: 0.0029 - root_mean_squared_error: 0.0540 - val_loss: 0.0030 - val_mae: 0.0444 - val_mse: 0.0030 - val_root_mean_squared_error: 0.0543\n",
            "Epoch 298/300\n",
            "40/40 [==============================] - 0s 3ms/step - loss: 0.0029 - mae: 0.0440 - mse: 0.0029 - root_mean_squared_error: 0.0539 - val_loss: 0.0030 - val_mae: 0.0444 - val_mse: 0.0030 - val_root_mean_squared_error: 0.0544\n",
            "Epoch 299/300\n",
            "40/40 [==============================] - 0s 3ms/step - loss: 0.0029 - mae: 0.0441 - mse: 0.0029 - root_mean_squared_error: 0.0540 - val_loss: 0.0030 - val_mae: 0.0445 - val_mse: 0.0030 - val_root_mean_squared_error: 0.0544\n",
            "Epoch 300/300\n",
            "40/40 [==============================] - 0s 3ms/step - loss: 0.0029 - mae: 0.0441 - mse: 0.0029 - root_mean_squared_error: 0.0539 - val_loss: 0.0029 - val_mae: 0.0443 - val_mse: 0.0029 - val_root_mean_squared_error: 0.0543\n"
          ]
        }
      ]
    },
    {
      "cell_type": "code",
      "metadata": {
        "colab": {
          "base_uri": "https://localhost:8080/",
          "height": 283
        },
        "id": "24L06T3XdN3K",
        "outputId": "859fdf26-c96e-4569-e7fb-5faa5dda630a"
      },
      "source": [
        "plt.plot(history.history['loss'], label='loss')\n",
        "plt.plot(history.history['val_loss'], label='val_loss')\n",
        "plt.ylim([0, 0.01])\n",
        "plt.xlabel('Epoch')\n",
        "plt.ylabel('Error [Burn Rate')\n",
        "plt.legend()\n",
        "plt.grid(True)"
      ],
      "id": "24L06T3XdN3K",
      "execution_count": 221,
      "outputs": [
        {
          "output_type": "display_data",
          "data": {
            "image/png": "[encoded data removed]",
            "text/plain": [
              "<Figure size 432x288 with 1 Axes>"
            ]
          },
          "metadata": {
            "needs_background": "light"
          }
        }
      ]
    },
    {
      "cell_type": "code",
      "metadata": {
        "colab": {
          "base_uri": "https://localhost:8080/",
          "height": 417
        },
        "id": "27LvJRUNq5Tz",
        "outputId": "bc108883-8faa-481c-84ef-c401df5060ff"
      },
      "source": [
        "hist=pd.DataFrame(history.history)\n",
        "hist['epoch']=history.epoch\n",
        "hist"
      ],
      "id": "27LvJRUNq5Tz",
      "execution_count": 222,
      "outputs": [
        {
          "output_type": "execute_result",
          "data": {
            "text/html": [
              "<div>\n",
              "<style scoped>\n",
              "    .dataframe tbody tr th:only-of-type {\n",
              "        vertical-align: middle;\n",
              "    }\n",
              "\n",
              "    .dataframe tbody tr th {\n",
              "        vertical-align: top;\n",
              "    }\n",
              "\n",
              "    .dataframe thead th {\n",
              "        text-align: right;\n",
              "    }\n",
              "</style>\n",
              "<table border=\"1\" class=\"dataframe\">\n",
              "  <thead>\n",
              "    <tr style=\"text-align: right;\">\n",
              "      <th></th>\n",
              "      <th>loss</th>\n",
              "      <th>mae</th>\n",
              "      <th>mse</th>\n",
              "      <th>root_mean_squared_error</th>\n",
              "      <th>val_loss</th>\n",
              "      <th>val_mae</th>\n",
              "      <th>val_mse</th>\n",
              "      <th>val_root_mean_squared_error</th>\n",
              "      <th>epoch</th>\n",
              "    </tr>\n",
              "  </thead>\n",
              "  <tbody>\n",
              "    <tr>\n",
              "      <th>0</th>\n",
              "      <td>0.030272</td>\n",
              "      <td>0.123653</td>\n",
              "      <td>0.030272</td>\n",
              "      <td>0.157536</td>\n",
              "      <td>0.014869</td>\n",
              "      <td>0.098394</td>\n",
              "      <td>0.014869</td>\n",
              "      <td>0.121937</td>\n",
              "      <td>0</td>\n",
              "    </tr>\n",
              "    <tr>\n",
              "      <th>1</th>\n",
              "      <td>0.013125</td>\n",
              "      <td>0.091424</td>\n",
              "      <td>0.013125</td>\n",
              "      <td>0.114565</td>\n",
              "      <td>0.011822</td>\n",
              "      <td>0.087696</td>\n",
              "      <td>0.011822</td>\n",
              "      <td>0.108730</td>\n",
              "      <td>1</td>\n",
              "    </tr>\n",
              "    <tr>\n",
              "      <th>2</th>\n",
              "      <td>0.010556</td>\n",
              "      <td>0.082274</td>\n",
              "      <td>0.010556</td>\n",
              "      <td>0.102742</td>\n",
              "      <td>0.009777</td>\n",
              "      <td>0.079973</td>\n",
              "      <td>0.009777</td>\n",
              "      <td>0.098878</td>\n",
              "      <td>2</td>\n",
              "    </tr>\n",
              "    <tr>\n",
              "      <th>3</th>\n",
              "      <td>0.008842</td>\n",
              "      <td>0.075643</td>\n",
              "      <td>0.008842</td>\n",
              "      <td>0.094035</td>\n",
              "      <td>0.008419</td>\n",
              "      <td>0.074600</td>\n",
              "      <td>0.008419</td>\n",
              "      <td>0.091757</td>\n",
              "      <td>3</td>\n",
              "    </tr>\n",
              "    <tr>\n",
              "      <th>4</th>\n",
              "      <td>0.007757</td>\n",
              "      <td>0.070979</td>\n",
              "      <td>0.007757</td>\n",
              "      <td>0.088076</td>\n",
              "      <td>0.007631</td>\n",
              "      <td>0.071249</td>\n",
              "      <td>0.007631</td>\n",
              "      <td>0.087357</td>\n",
              "      <td>4</td>\n",
              "    </tr>\n",
              "    <tr>\n",
              "      <th>...</th>\n",
              "      <td>...</td>\n",
              "      <td>...</td>\n",
              "      <td>...</td>\n",
              "      <td>...</td>\n",
              "      <td>...</td>\n",
              "      <td>...</td>\n",
              "      <td>...</td>\n",
              "      <td>...</td>\n",
              "      <td>...</td>\n",
              "    </tr>\n",
              "    <tr>\n",
              "      <th>295</th>\n",
              "      <td>0.002918</td>\n",
              "      <td>0.044133</td>\n",
              "      <td>0.002918</td>\n",
              "      <td>0.054018</td>\n",
              "      <td>0.002980</td>\n",
              "      <td>0.044367</td>\n",
              "      <td>0.002980</td>\n",
              "      <td>0.054593</td>\n",
              "      <td>295</td>\n",
              "    </tr>\n",
              "    <tr>\n",
              "      <th>296</th>\n",
              "      <td>0.002911</td>\n",
              "      <td>0.044058</td>\n",
              "      <td>0.002911</td>\n",
              "      <td>0.053950</td>\n",
              "      <td>0.002952</td>\n",
              "      <td>0.044407</td>\n",
              "      <td>0.002952</td>\n",
              "      <td>0.054333</td>\n",
              "      <td>296</td>\n",
              "    </tr>\n",
              "    <tr>\n",
              "      <th>297</th>\n",
              "      <td>0.002907</td>\n",
              "      <td>0.044044</td>\n",
              "      <td>0.002907</td>\n",
              "      <td>0.053919</td>\n",
              "      <td>0.002954</td>\n",
              "      <td>0.044409</td>\n",
              "      <td>0.002954</td>\n",
              "      <td>0.054350</td>\n",
              "      <td>297</td>\n",
              "    </tr>\n",
              "    <tr>\n",
              "      <th>298</th>\n",
              "      <td>0.002912</td>\n",
              "      <td>0.044067</td>\n",
              "      <td>0.002912</td>\n",
              "      <td>0.053964</td>\n",
              "      <td>0.002960</td>\n",
              "      <td>0.044471</td>\n",
              "      <td>0.002960</td>\n",
              "      <td>0.054403</td>\n",
              "      <td>298</td>\n",
              "    </tr>\n",
              "    <tr>\n",
              "      <th>299</th>\n",
              "      <td>0.002910</td>\n",
              "      <td>0.044070</td>\n",
              "      <td>0.002910</td>\n",
              "      <td>0.053948</td>\n",
              "      <td>0.002949</td>\n",
              "      <td>0.044346</td>\n",
              "      <td>0.002949</td>\n",
              "      <td>0.054303</td>\n",
              "      <td>299</td>\n",
              "    </tr>\n",
              "  </tbody>\n",
              "</table>\n",
              "<p>300 rows × 9 columns</p>\n",
              "</div>"
            ],
            "text/plain": [
              "         loss       mae       mse  ...   val_mse  val_root_mean_squared_error  epoch\n",
              "0    0.030272  0.123653  0.030272  ...  0.014869                     0.121937      0\n",
              "1    0.013125  0.091424  0.013125  ...  0.011822                     0.108730      1\n",
              "2    0.010556  0.082274  0.010556  ...  0.009777                     0.098878      2\n",
              "3    0.008842  0.075643  0.008842  ...  0.008419                     0.091757      3\n",
              "4    0.007757  0.070979  0.007757  ...  0.007631                     0.087357      4\n",
              "..        ...       ...       ...  ...       ...                          ...    ...\n",
              "295  0.002918  0.044133  0.002918  ...  0.002980                     0.054593    295\n",
              "296  0.002911  0.044058  0.002911  ...  0.002952                     0.054333    296\n",
              "297  0.002907  0.044044  0.002907  ...  0.002954                     0.054350    297\n",
              "298  0.002912  0.044067  0.002912  ...  0.002960                     0.054403    298\n",
              "299  0.002910  0.044070  0.002910  ...  0.002949                     0.054303    299\n",
              "\n",
              "[300 rows x 9 columns]"
            ]
          },
          "metadata": {},
          "execution_count": 222
        }
      ]
    },
    {
      "cell_type": "code",
      "metadata": {
        "colab": {
          "base_uri": "https://localhost:8080/"
        },
        "id": "9sMIbZTBcXaK",
        "outputId": "91e24faa-e948-4d25-9b37-654005973a53"
      },
      "source": [
        "y_pred_train=model6.predict(x_train)\n",
        "mae_train=mean_absolute_error(y_train, y_pred_train)\n",
        "mse_train=mean_squared_error(y_train,y_pred_train)\n",
        "rmse_train=sqrt(mean_squared_error(y_train,y_pred_train))\n",
        "\n",
        "y_pred=model6.predict(x_test)\n",
        "MAE= mean_absolute_error(y_test, y_pred)\n",
        "MSE=mean_squared_error(y_test,y_pred)\n",
        "RMSE= sqrt(mean_squared_error(y_test,y_pred))\n",
        "\n",
        "\n",
        "print(\"Mean Absolute Error for Training Set :\",mae_train )\n",
        "print(\"Mean square Error for Training Set:\",mse_train )\n",
        "print(\"Root Mean square Error for Training Set:\", rmse_train)\n",
        "\n",
        "print(\"Mean Absolute Error for Test Set :\", MAE)\n",
        "print(\"Mean square Error for Test Set:\", MSE)\n",
        "print(\"Root Mean square Error for Test Set:\", RMSE)"
      ],
      "id": "9sMIbZTBcXaK",
      "execution_count": 223,
      "outputs": [
        {
          "output_type": "stream",
          "name": "stdout",
          "text": [
            "Mean Absolute Error for Training Set : 0.04404144313531082\n",
            "Mean square Error for Training Set: 0.002910554161853629\n",
            "Root Mean square Error for Training Set: 0.05394955200790484\n",
            "Mean Absolute Error for Test Set : 0.04486786725806125\n",
            "Mean square Error for Test Set: 0.003004434661637083\n",
            "Root Mean square Error for Test Set: 0.054812723537852805\n"
          ]
        }
      ]
    },
    {
      "cell_type": "code",
      "metadata": {
        "id": "COi6A6bw-hBv"
      },
      "source": [
        "add_test_results('m6',mae_train,mse_train,rmse_train,MAE,MSE,RMSE)"
      ],
      "id": "COi6A6bw-hBv",
      "execution_count": 224,
      "outputs": []
    },
    {
      "cell_type": "code",
      "metadata": {
        "colab": {
          "base_uri": "https://localhost:8080/",
          "height": 283
        },
        "id": "B5dm3pXc-8wh",
        "outputId": "8b83b4b7-85b7-42b0-c028-b2d637c08b06"
      },
      "source": [
        "plt.scatter(y_test, y_pred)\n",
        "plt.xlabel('Actual Values [Burn Rate]')\n",
        "plt.ylabel('Predictions [Burn Rate]')\n",
        "lims = [0, 1]\n",
        "plt.xlim(0,1)\n",
        "plt.ylim(lims)\n",
        "_ = plt.plot(lims, lims)"
      ],
      "id": "B5dm3pXc-8wh",
      "execution_count": 225,
      "outputs": [
        {
          "output_type": "display_data",
          "data": {
            "image/png": "[encoded data removed]",
            "text/plain": [
              "<Figure size 432x288 with 1 Axes>"
            ]
          },
          "metadata": {
            "needs_background": "light"
          }
        }
      ]
    },
    {
      "cell_type": "code",
      "metadata": {
        "colab": {
          "base_uri": "https://localhost:8080/"
        },
        "id": "jHdDIfmL-Wgo",
        "outputId": "4b32bd87-9b84-4e33-e763-7ad27cbccd52"
      },
      "source": [
        "models=[model1,model2,model3,model4,model5,model6]\n",
        "\n",
        "for model in models:\n",
        "  model.evaluate(x_test,y_test)"
      ],
      "id": "jHdDIfmL-Wgo",
      "execution_count": 142,
      "outputs": [
        {
          "output_type": "stream",
          "name": "stdout",
          "text": [
            "117/117 [==============================] - 0s 1ms/step - loss: 0.0055 - mae: 0.0585 - mse: 0.0055 - root_mean_squared_error: 0.0739\n",
            "117/117 [==============================] - 0s 1ms/step - loss: 0.0042 - mae: 0.0524 - mse: 0.0042 - root_mean_squared_error: 0.0650\n",
            "117/117 [==============================] - 0s 1ms/step - loss: 0.0033 - mae: 0.0470 - mse: 0.0033 - root_mean_squared_error: 0.0571\n",
            "117/117 [==============================] - 0s 1ms/step - loss: 0.0030 - mae: 0.0450 - mse: 0.0030 - root_mean_squared_error: 0.0550\n",
            "117/117 [==============================] - 0s 1ms/step - loss: 0.0031 - mae: 0.0460 - mse: 0.0031 - root_mean_squared_error: 0.0560\n",
            "117/117 [==============================] - 0s 1ms/step - loss: 0.0030 - mae: 0.0450 - mse: 0.0030 - root_mean_squared_error: 0.0550\n"
          ]
        }
      ]
    },
    {
      "cell_type": "code",
      "metadata": {
        "id": "c0zRzXBTdFHq"
      },
      "source": [
        "ms = np.array([test_results['m1']['test_errors'][1], test_results['m2']['test_errors'][1],test_results['m3']['test_errors'][1],test_results['m4']['test_errors'][1], test_results['m5']['test_errors'][1], test_results['m6']['test_errors'][1]])\n",
        "a = np.array([test_results['m1']['test_errors'][0], test_results['m2']['test_errors'][0],test_results['m3']['test_errors'][0],test_results['m4']['test_errors'][0], test_results['m5']['test_errors'][0], test_results['m6']['test_errors'][0]])\n",
        "rm = np.array([test_results['m1']['test_errors'][2], test_results['m2']['test_errors'][2],test_results['m3']['test_errors'][2],test_results['m4']['test_errors'][2], test_results['m5']['test_errors'][2], test_results['m6']['test_errors'][2]])\n"
      ],
      "id": "c0zRzXBTdFHq",
      "execution_count": 403,
      "outputs": []
    },
    {
      "cell_type": "code",
      "metadata": {
        "colab": {
          "base_uri": "https://localhost:8080/",
          "height": 338
        },
        "id": "kWL_C5d1mAXs",
        "outputId": "54602006-005a-4b08-ef45-e5ea09f5e5f7"
      },
      "source": [
        "x1=[1,2,3,4,5,6]\n",
        "y1=ms\n",
        "plt.figure(figsize=(10, 5))\n",
        "plt.ylim([0, 0.009])\n",
        "plt.plot(x1,y1,'bo-',label='Mean squared Error')\n",
        "plt.xlabel('Models')\n",
        "plt.ylabel('Errors')\n",
        "plt.legend()\n",
        "plt.grid(True)\n",
        "for x,y in zip(x1,y1):\n",
        "\n",
        "    label = \"{:.5f}\".format(y)\n",
        "\n",
        "    plt.annotate(label,\n",
        "                 (x,y), \n",
        "                 textcoords=\"offset points\", # how to position the text\n",
        "                 xytext=(0,10), # distance from text to points (x,y)\n",
        "                 ha='center')"
      ],
      "id": "kWL_C5d1mAXs",
      "execution_count": 406,
      "outputs": [
        {
          "output_type": "display_data",
          "data": {
            "image/png": "[encoded data removed]",
            "text/plain": [
              "<Figure size 720x360 with 1 Axes>"
            ]
          },
          "metadata": {
            "needs_background": "light"
          }
        }
      ]
    },
    {
      "cell_type": "code",
      "metadata": {
        "colab": {
          "base_uri": "https://localhost:8080/",
          "height": 338
        },
        "id": "rDXjCXOQj-r6",
        "outputId": "6405f817-20f6-4a26-9c3b-115d98b47b66"
      },
      "source": [
        "x1=[1,2,3,4,5,6]\n",
        "y1=a\n",
        "plt.figure(figsize=(10, 5))\n",
        "plt.ylim([0, 0.1])\n",
        "plt.plot(x1,y1,'bo-',label='Mean absolute Error')\n",
        "plt.xlabel('Models')\n",
        "plt.ylabel('Errors')\n",
        "plt.legend()\n",
        "plt.grid(True)\n",
        "for x,y in zip(x1,y1):\n",
        "\n",
        "    label = \"{:.5f}\".format(y)\n",
        "\n",
        "    plt.annotate(label,\n",
        "                 (x,y), \n",
        "                 textcoords=\"offset points\", # how to position the text\n",
        "                 xytext=(0,10), # distance from text to points (x,y)\n",
        "                 ha='center')"
      ],
      "id": "rDXjCXOQj-r6",
      "execution_count": 404,
      "outputs": [
        {
          "output_type": "display_data",
          "data": {
            "image/png": "[encoded data removed]",
            "text/plain": [
              "<Figure size 720x360 with 1 Axes>"
            ]
          },
          "metadata": {
            "needs_background": "light"
          }
        }
      ]
    },
    {
      "cell_type": "code",
      "metadata": {
        "colab": {
          "base_uri": "https://localhost:8080/",
          "height": 338
        },
        "id": "85FIAi36lqbU",
        "outputId": "28d53834-aad9-4f1f-cdd9-152cc2b6cde0"
      },
      "source": [
        "x1=[1,2,3,4,5,6]\n",
        "y1=rm\n",
        "\n",
        "plt.figure(figsize=(10, 5))\n",
        "plt.plot(x1,y1,'bo-',label='Root Mean squared Error')\n",
        "plt.xlabel('Models')\n",
        "plt.ylabel('Errors')\n",
        "plt.ylim([0, 0.1])\n",
        "plt.legend()\n",
        "plt.grid(True)\n",
        "for x,y in zip(x1,y1):\n",
        "\n",
        "    label = \"{:.5f}\".format(y)\n",
        "\n",
        "    plt.annotate(label,\n",
        "                 (x,y), \n",
        "                 textcoords=\"offset points\", # how to position the text\n",
        "                 xytext=(0,10), # distance from text to points (x,y)\n",
        "                 ha='center')"
      ],
      "id": "85FIAi36lqbU",
      "execution_count": 405,
      "outputs": [
        {
          "output_type": "display_data",
          "data": {
            "image/png": "[encoded data removed]",
            "text/plain": [
              "<Figure size 720x360 with 1 Axes>"
            ]
          },
          "metadata": {
            "needs_background": "light"
          }
        }
      ]
    },
    {
      "cell_type": "code",
      "metadata": {
        "id": "zIIOcCq_e0ur"
      },
      "source": [
        ""
      ],
      "id": "zIIOcCq_e0ur",
      "execution_count": null,
      "outputs": []
    },
    {
      "cell_type": "code",
      "metadata": {
        "colab": {
          "base_uri": "https://localhost:8080/",
          "height": 295
        },
        "id": "oQhvOtXooUOP",
        "outputId": "de6bb7ce-c954-4646-d7a3-810dd31364f4"
      },
      "source": [
        "\n",
        "x2=['LR','SVR','RF','DNN']\n",
        "y2=[0.04640970525020264,0.04944618805577363,0.04565849397397473,test_results['m6']['test_errors'][0]]\n",
        "plt.bar(x2,y2)\n",
        "plt.ylim([0, 0.06])\n",
        "plt.xlabel('Models')\n",
        "plt.ylabel('Error')\n",
        "plt.title('Mean Absolute Error Comparison')\n",
        "# zip joins x and y coordinates in pairs\n",
        "for x,y in zip(x2,y2):\n",
        "\n",
        "    label = \"{:.5f}\".format(y)\n",
        "\n",
        "    plt.annotate(label, # this is the text\n",
        "                 (x,y), # these are the coordinates to position the label\n",
        "                 textcoords=\"offset points\", # how to position the text\n",
        "                 xytext=(0,10), # distance from text to points (x,y)\n",
        "                 ha='center') # horizontal alignment can be left, right or center\n",
        "\n",
        "plt.show()"
      ],
      "id": "oQhvOtXooUOP",
      "execution_count": 402,
      "outputs": [
        {
          "output_type": "display_data",
          "data": {
            "image/png": "[encoded data removed]",
            "text/plain": [
              "<Figure size 432x288 with 1 Axes>"
            ]
          },
          "metadata": {
            "needs_background": "light"
          }
        }
      ]
    },
    {
      "cell_type": "code",
      "metadata": {
        "colab": {
          "base_uri": "https://localhost:8080/",
          "height": 295
        },
        "id": "Fd3lcaYQp3To",
        "outputId": "6880be63-886b-42db-c43f-a965f51ceddb"
      },
      "source": [
        "x2=['LR','SVR','RF','DNN']\n",
        "y2=[0.003212345462220203,0.0034056033686410726,0.0032739242689967976,test_results['m6']['test_errors'][1]]\n",
        "plt.bar(x2,y2)\n",
        "plt.ylim([0, 0.006])\n",
        "plt.title('Mean Squared Error Comparison')\n",
        "plt.xlabel('Models')\n",
        "plt.ylabel('Error')\n",
        "# zip joins x and y coordinates in pairs\n",
        "for x,y in zip(x2,y2):\n",
        "\n",
        "    label = \"{:.5f}\".format(y)\n",
        "\n",
        "    plt.annotate(label, # this is the text\n",
        "                 (x,y), # these are the coordinates to position the label\n",
        "                 textcoords=\"offset points\", # how to position the text\n",
        "                 xytext=(0,10), # distance from text to points (x,y)\n",
        "                 ha='center') # horizontal alignment can be left, right or center\n",
        "\n",
        "plt.show()"
      ],
      "id": "Fd3lcaYQp3To",
      "execution_count": 401,
      "outputs": [
        {
          "output_type": "display_data",
          "data": {
            "image/png": "[encoded data removed]",
            "text/plain": [
              "<Figure size 432x288 with 1 Axes>"
            ]
          },
          "metadata": {
            "needs_background": "light"
          }
        }
      ]
    },
    {
      "cell_type": "code",
      "metadata": {
        "colab": {
          "base_uri": "https://localhost:8080/",
          "height": 295
        },
        "id": "rEpVlteDqZv9",
        "outputId": "5bc8ac0b-0f16-4578-9a3a-6ef94af148b1"
      },
      "source": [
        "x2=['LR','SVR','RF','DNN']\n",
        "y2=[0.05667755695352617,0.05835754765787432,0.05721821623396519,test_results['m6']['test_errors'][2]]\n",
        "plt.bar(x2,y2)\n",
        "plt.ylim([0, 0.1])\n",
        "plt.title(' Root Mean Squared Error Comparison')\n",
        "plt.xlabel('Models')\n",
        "plt.ylabel('Error')\n",
        "# zip joins x and y coordinates in pairs\n",
        "for x,y in zip(x2,y2):\n",
        "\n",
        "    label = \"{:.5f}\".format(y)\n",
        "\n",
        "    plt.annotate(label, # this is the text\n",
        "                 (x,y), # these are the coordinates to position the label\n",
        "                 textcoords=\"offset points\", # how to position the text\n",
        "                 xytext=(0,10), # distance from text to points (x,y)\n",
        "                 ha='center') # horizontal alignment can be left, right or center\n",
        "\n",
        "plt.show()\n"
      ],
      "id": "rEpVlteDqZv9",
      "execution_count": 400,
      "outputs": [
        {
          "output_type": "display_data",
          "data": {
            "image/png": "[encoded data removed]",
            "text/plain": [
              "<Figure size 432x288 with 1 Axes>"
            ]
          },
          "metadata": {
            "needs_background": "light"
          }
        }
      ]
    }
  ]
}