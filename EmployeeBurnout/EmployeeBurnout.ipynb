{
 "cells": [
  {
   "cell_type": "code",
   "execution_count": 16,
   "id": "196507ed",
   "metadata": {},
   "outputs": [],
   "source": [
    "import numpy as np\n",
    "import pandas as pd\n",
    "from sklearn.model_selection import train_test_split\n",
    "from sklearn.preprocessing import StandardScaler\n",
    "from sklearn.linear_model import LinearRegression\n",
    "from sklearn.svm import SVR\n",
    "from sklearn.ensemble import RandomForestRegressor\n",
    "from sklearn import metrics\n",
    "from sklearn.metrics import mean_squared_error\n",
    "from sklearn.metrics import mean_absolute_error\n",
    "from math import sqrt\n",
    "from sklearn.model_selection import cross_val_score\n",
    "from sklearn.model_selection import KFold"
   ]
  },
  {
   "cell_type": "code",
   "execution_count": 17,
   "id": "44de0224",
   "metadata": {},
   "outputs": [],
   "source": [
    "data=pd.read_csv(r\"E:\\Masters\\Fall 2021\\DA\\train.csv\")"
   ]
  },
  {
   "cell_type": "code",
   "execution_count": 18,
   "id": "bea4407c",
   "metadata": {},
   "outputs": [
    {
     "data": {
      "text/html": [
       "<div>\n",
       "<style scoped>\n",
       "    .dataframe tbody tr th:only-of-type {\n",
       "        vertical-align: middle;\n",
       "    }\n",
       "\n",
       "    .dataframe tbody tr th {\n",
       "        vertical-align: top;\n",
       "    }\n",
       "\n",
       "    .dataframe thead th {\n",
       "        text-align: right;\n",
       "    }\n",
       "</style>\n",
       "<table border=\"1\" class=\"dataframe\">\n",
       "  <thead>\n",
       "    <tr style=\"text-align: right;\">\n",
       "      <th></th>\n",
       "      <th>Employee ID</th>\n",
       "      <th>Date of Joining</th>\n",
       "      <th>Gender</th>\n",
       "      <th>Company Type</th>\n",
       "      <th>WFH Setup Available</th>\n",
       "      <th>Designation</th>\n",
       "      <th>Resource Allocation</th>\n",
       "      <th>Mental Fatigue Score</th>\n",
       "      <th>Burn Rate</th>\n",
       "    </tr>\n",
       "  </thead>\n",
       "  <tbody>\n",
       "    <tr>\n",
       "      <th>0</th>\n",
       "      <td>fffe32003000360033003200</td>\n",
       "      <td>2008-09-30</td>\n",
       "      <td>Female</td>\n",
       "      <td>Service</td>\n",
       "      <td>No</td>\n",
       "      <td>2.0</td>\n",
       "      <td>3.0</td>\n",
       "      <td>3.8</td>\n",
       "      <td>0.16</td>\n",
       "    </tr>\n",
       "    <tr>\n",
       "      <th>1</th>\n",
       "      <td>fffe3700360033003500</td>\n",
       "      <td>2008-11-30</td>\n",
       "      <td>Male</td>\n",
       "      <td>Service</td>\n",
       "      <td>Yes</td>\n",
       "      <td>1.0</td>\n",
       "      <td>2.0</td>\n",
       "      <td>5.0</td>\n",
       "      <td>0.36</td>\n",
       "    </tr>\n",
       "    <tr>\n",
       "      <th>2</th>\n",
       "      <td>fffe31003300320037003900</td>\n",
       "      <td>2008-03-10</td>\n",
       "      <td>Female</td>\n",
       "      <td>Product</td>\n",
       "      <td>Yes</td>\n",
       "      <td>2.0</td>\n",
       "      <td>NaN</td>\n",
       "      <td>5.8</td>\n",
       "      <td>0.49</td>\n",
       "    </tr>\n",
       "    <tr>\n",
       "      <th>3</th>\n",
       "      <td>fffe32003400380032003900</td>\n",
       "      <td>2008-11-03</td>\n",
       "      <td>Male</td>\n",
       "      <td>Service</td>\n",
       "      <td>Yes</td>\n",
       "      <td>1.0</td>\n",
       "      <td>1.0</td>\n",
       "      <td>2.6</td>\n",
       "      <td>0.20</td>\n",
       "    </tr>\n",
       "    <tr>\n",
       "      <th>4</th>\n",
       "      <td>fffe31003900340031003600</td>\n",
       "      <td>2008-07-24</td>\n",
       "      <td>Female</td>\n",
       "      <td>Service</td>\n",
       "      <td>No</td>\n",
       "      <td>3.0</td>\n",
       "      <td>7.0</td>\n",
       "      <td>6.9</td>\n",
       "      <td>0.52</td>\n",
       "    </tr>\n",
       "    <tr>\n",
       "      <th>...</th>\n",
       "      <td>...</td>\n",
       "      <td>...</td>\n",
       "      <td>...</td>\n",
       "      <td>...</td>\n",
       "      <td>...</td>\n",
       "      <td>...</td>\n",
       "      <td>...</td>\n",
       "      <td>...</td>\n",
       "      <td>...</td>\n",
       "    </tr>\n",
       "    <tr>\n",
       "      <th>22745</th>\n",
       "      <td>fffe31003500370039003100</td>\n",
       "      <td>2008-12-30</td>\n",
       "      <td>Female</td>\n",
       "      <td>Service</td>\n",
       "      <td>No</td>\n",
       "      <td>1.0</td>\n",
       "      <td>3.0</td>\n",
       "      <td>NaN</td>\n",
       "      <td>0.41</td>\n",
       "    </tr>\n",
       "    <tr>\n",
       "      <th>22746</th>\n",
       "      <td>fffe33003000350031003800</td>\n",
       "      <td>2008-01-19</td>\n",
       "      <td>Female</td>\n",
       "      <td>Product</td>\n",
       "      <td>Yes</td>\n",
       "      <td>3.0</td>\n",
       "      <td>6.0</td>\n",
       "      <td>6.7</td>\n",
       "      <td>0.59</td>\n",
       "    </tr>\n",
       "    <tr>\n",
       "      <th>22747</th>\n",
       "      <td>fffe390032003000</td>\n",
       "      <td>2008-11-05</td>\n",
       "      <td>Male</td>\n",
       "      <td>Service</td>\n",
       "      <td>Yes</td>\n",
       "      <td>3.0</td>\n",
       "      <td>7.0</td>\n",
       "      <td>NaN</td>\n",
       "      <td>0.72</td>\n",
       "    </tr>\n",
       "    <tr>\n",
       "      <th>22748</th>\n",
       "      <td>fffe33003300320036003900</td>\n",
       "      <td>2008-01-10</td>\n",
       "      <td>Female</td>\n",
       "      <td>Service</td>\n",
       "      <td>No</td>\n",
       "      <td>2.0</td>\n",
       "      <td>5.0</td>\n",
       "      <td>5.9</td>\n",
       "      <td>0.52</td>\n",
       "    </tr>\n",
       "    <tr>\n",
       "      <th>22749</th>\n",
       "      <td>fffe3400350031003800</td>\n",
       "      <td>2008-01-06</td>\n",
       "      <td>Male</td>\n",
       "      <td>Product</td>\n",
       "      <td>No</td>\n",
       "      <td>3.0</td>\n",
       "      <td>6.0</td>\n",
       "      <td>7.8</td>\n",
       "      <td>0.61</td>\n",
       "    </tr>\n",
       "  </tbody>\n",
       "</table>\n",
       "<p>22750 rows × 9 columns</p>\n",
       "</div>"
      ],
      "text/plain": [
       "                    Employee ID Date of Joining  Gender Company Type  \\\n",
       "0      fffe32003000360033003200      2008-09-30  Female      Service   \n",
       "1          fffe3700360033003500      2008-11-30    Male      Service   \n",
       "2      fffe31003300320037003900      2008-03-10  Female      Product   \n",
       "3      fffe32003400380032003900      2008-11-03    Male      Service   \n",
       "4      fffe31003900340031003600      2008-07-24  Female      Service   \n",
       "...                         ...             ...     ...          ...   \n",
       "22745  fffe31003500370039003100      2008-12-30  Female      Service   \n",
       "22746  fffe33003000350031003800      2008-01-19  Female      Product   \n",
       "22747          fffe390032003000      2008-11-05    Male      Service   \n",
       "22748  fffe33003300320036003900      2008-01-10  Female      Service   \n",
       "22749      fffe3400350031003800      2008-01-06    Male      Product   \n",
       "\n",
       "      WFH Setup Available  Designation  Resource Allocation  \\\n",
       "0                      No          2.0                  3.0   \n",
       "1                     Yes          1.0                  2.0   \n",
       "2                     Yes          2.0                  NaN   \n",
       "3                     Yes          1.0                  1.0   \n",
       "4                      No          3.0                  7.0   \n",
       "...                   ...          ...                  ...   \n",
       "22745                  No          1.0                  3.0   \n",
       "22746                 Yes          3.0                  6.0   \n",
       "22747                 Yes          3.0                  7.0   \n",
       "22748                  No          2.0                  5.0   \n",
       "22749                  No          3.0                  6.0   \n",
       "\n",
       "       Mental Fatigue Score  Burn Rate  \n",
       "0                       3.8       0.16  \n",
       "1                       5.0       0.36  \n",
       "2                       5.8       0.49  \n",
       "3                       2.6       0.20  \n",
       "4                       6.9       0.52  \n",
       "...                     ...        ...  \n",
       "22745                   NaN       0.41  \n",
       "22746                   6.7       0.59  \n",
       "22747                   NaN       0.72  \n",
       "22748                   5.9       0.52  \n",
       "22749                   7.8       0.61  \n",
       "\n",
       "[22750 rows x 9 columns]"
      ]
     },
     "execution_count": 18,
     "metadata": {},
     "output_type": "execute_result"
    }
   ],
   "source": [
    "data"
   ]
  },
  {
   "cell_type": "code",
   "execution_count": 19,
   "id": "decb1da8",
   "metadata": {},
   "outputs": [],
   "source": [
    "df=data.copy()"
   ]
  },
  {
   "cell_type": "code",
   "execution_count": 20,
   "id": "fd5e85f1",
   "metadata": {},
   "outputs": [],
   "source": [
    "#droping employee Id column\n",
    "df= df.drop(\"Employee ID\", axis=1)"
   ]
  },
  {
   "cell_type": "code",
   "execution_count": 21,
   "id": "a93dbd61",
   "metadata": {},
   "outputs": [
    {
     "data": {
      "text/plain": [
       "Date of Joining            0\n",
       "Gender                     0\n",
       "Company Type               0\n",
       "WFH Setup Available        0\n",
       "Designation                0\n",
       "Resource Allocation     1381\n",
       "Mental Fatigue Score    2117\n",
       "Burn Rate               1124\n",
       "dtype: int64"
      ]
     },
     "execution_count": 21,
     "metadata": {},
     "output_type": "execute_result"
    }
   ],
   "source": [
    "#checking the null values \n",
    "df.isna().sum()"
   ]
  },
  {
   "cell_type": "code",
   "execution_count": 22,
   "id": "5b6da4fd",
   "metadata": {},
   "outputs": [],
   "source": [
    "#dropping the rows with null values for Resource Allocation, Mental Fatigue Score and Burn Rate\n",
    "missing_rows=df.loc[df['Resource Allocation'].isna(), :].index\n",
    "df= df.drop(missing_rows, axis=0).reset_index(drop=True)\n",
    "\n",
    "missing_rows=df.loc[df['Burn Rate'].isna(), :].index\n",
    "df= df.drop(missing_rows, axis=0).reset_index(drop=True)\n",
    "\n",
    "missing_rows=df.loc[df['Mental Fatigue Score'].isna(), :].index\n",
    "df= df.drop(missing_rows, axis=0).reset_index(drop=True)\n",
    "\n"
   ]
  },
  {
   "cell_type": "code",
   "execution_count": 23,
   "id": "1970b897",
   "metadata": {},
   "outputs": [
    {
     "data": {
      "text/plain": [
       "Date of Joining         0\n",
       "Gender                  0\n",
       "Company Type            0\n",
       "WFH Setup Available     0\n",
       "Designation             0\n",
       "Resource Allocation     0\n",
       "Mental Fatigue Score    0\n",
       "Burn Rate               0\n",
       "dtype: int64"
      ]
     },
     "execution_count": 23,
     "metadata": {},
     "output_type": "execute_result"
    }
   ],
   "source": [
    "df.isna().sum()"
   ]
  },
  {
   "cell_type": "code",
   "execution_count": 24,
   "id": "007ddcd0",
   "metadata": {},
   "outputs": [],
   "source": [
    "df['Date of Joining']=pd.to_datetime(df['Date of Joining'])\n",
    "df['Day of Joining']= df['Date of Joining'].apply(lambda x : x.day)\n",
    "df['Month of Joining']= df['Date of Joining'].apply(lambda x : x.month)\n",
    "df['Year of Joining']= df['Date of Joining'].apply(lambda x : x.year)"
   ]
  },
  {
   "cell_type": "code",
   "execution_count": 25,
   "id": "774c2b33",
   "metadata": {},
   "outputs": [
    {
     "data": {
      "text/plain": [
       "{'Date of Joining': 366,\n",
       " 'Gender': 2,\n",
       " 'Company Type': 2,\n",
       " 'WFH Setup Available': 2,\n",
       " 'Designation': 6,\n",
       " 'Resource Allocation': 10,\n",
       " 'Mental Fatigue Score': 101,\n",
       " 'Burn Rate': 101,\n",
       " 'Day of Joining': 31,\n",
       " 'Month of Joining': 12,\n",
       " 'Year of Joining': 1}"
      ]
     },
     "execution_count": 25,
     "metadata": {},
     "output_type": "execute_result"
    }
   ],
   "source": [
    "{column : len(df[column].unique()) for column in df.columns }"
   ]
  },
  {
   "cell_type": "code",
   "execution_count": 26,
   "id": "fa5849a1",
   "metadata": {},
   "outputs": [
    {
     "data": {
      "text/plain": [
       "1"
      ]
     },
     "execution_count": 26,
     "metadata": {},
     "output_type": "execute_result"
    }
   ],
   "source": [
    "len(df['Year of Joining'].unique())"
   ]
  },
  {
   "cell_type": "code",
   "execution_count": 27,
   "id": "b14a0fbd",
   "metadata": {},
   "outputs": [],
   "source": [
    "df= df.drop('Year of Joining', axis=1)\n",
    "df= df.drop('Date of Joining', axis=1)"
   ]
  },
  {
   "cell_type": "code",
   "execution_count": 28,
   "id": "c37c7a37",
   "metadata": {},
   "outputs": [],
   "source": [
    "# Binary Encoding \n",
    "\n",
    "df['Gender']= df['Gender'].replace({'Female':0, 'Male': 1})\n",
    "df['Company Type']= df['Company Type'].replace({'Product':0, 'Service': 1})\n",
    "df['WFH Setup Available']= df['WFH Setup Available'].replace({'No':0, 'Yes': 1})"
   ]
  },
  {
   "cell_type": "code",
   "execution_count": 29,
   "id": "2badf8cc",
   "metadata": {},
   "outputs": [
    {
     "data": {
      "text/html": [
       "<div>\n",
       "<style scoped>\n",
       "    .dataframe tbody tr th:only-of-type {\n",
       "        vertical-align: middle;\n",
       "    }\n",
       "\n",
       "    .dataframe tbody tr th {\n",
       "        vertical-align: top;\n",
       "    }\n",
       "\n",
       "    .dataframe thead th {\n",
       "        text-align: right;\n",
       "    }\n",
       "</style>\n",
       "<table border=\"1\" class=\"dataframe\">\n",
       "  <thead>\n",
       "    <tr style=\"text-align: right;\">\n",
       "      <th></th>\n",
       "      <th>Gender</th>\n",
       "      <th>Company Type</th>\n",
       "      <th>WFH Setup Available</th>\n",
       "      <th>Designation</th>\n",
       "      <th>Resource Allocation</th>\n",
       "      <th>Mental Fatigue Score</th>\n",
       "      <th>Burn Rate</th>\n",
       "      <th>Day of Joining</th>\n",
       "      <th>Month of Joining</th>\n",
       "    </tr>\n",
       "  </thead>\n",
       "  <tbody>\n",
       "    <tr>\n",
       "      <th>0</th>\n",
       "      <td>0</td>\n",
       "      <td>1</td>\n",
       "      <td>0</td>\n",
       "      <td>2.0</td>\n",
       "      <td>3.0</td>\n",
       "      <td>3.8</td>\n",
       "      <td>0.16</td>\n",
       "      <td>30</td>\n",
       "      <td>9</td>\n",
       "    </tr>\n",
       "    <tr>\n",
       "      <th>1</th>\n",
       "      <td>1</td>\n",
       "      <td>1</td>\n",
       "      <td>1</td>\n",
       "      <td>1.0</td>\n",
       "      <td>2.0</td>\n",
       "      <td>5.0</td>\n",
       "      <td>0.36</td>\n",
       "      <td>30</td>\n",
       "      <td>11</td>\n",
       "    </tr>\n",
       "    <tr>\n",
       "      <th>2</th>\n",
       "      <td>1</td>\n",
       "      <td>1</td>\n",
       "      <td>1</td>\n",
       "      <td>1.0</td>\n",
       "      <td>1.0</td>\n",
       "      <td>2.6</td>\n",
       "      <td>0.20</td>\n",
       "      <td>3</td>\n",
       "      <td>11</td>\n",
       "    </tr>\n",
       "    <tr>\n",
       "      <th>3</th>\n",
       "      <td>0</td>\n",
       "      <td>1</td>\n",
       "      <td>0</td>\n",
       "      <td>3.0</td>\n",
       "      <td>7.0</td>\n",
       "      <td>6.9</td>\n",
       "      <td>0.52</td>\n",
       "      <td>24</td>\n",
       "      <td>7</td>\n",
       "    </tr>\n",
       "    <tr>\n",
       "      <th>4</th>\n",
       "      <td>1</td>\n",
       "      <td>0</td>\n",
       "      <td>1</td>\n",
       "      <td>2.0</td>\n",
       "      <td>4.0</td>\n",
       "      <td>3.6</td>\n",
       "      <td>0.29</td>\n",
       "      <td>26</td>\n",
       "      <td>11</td>\n",
       "    </tr>\n",
       "    <tr>\n",
       "      <th>...</th>\n",
       "      <td>...</td>\n",
       "      <td>...</td>\n",
       "      <td>...</td>\n",
       "      <td>...</td>\n",
       "      <td>...</td>\n",
       "      <td>...</td>\n",
       "      <td>...</td>\n",
       "      <td>...</td>\n",
       "      <td>...</td>\n",
       "    </tr>\n",
       "    <tr>\n",
       "      <th>18585</th>\n",
       "      <td>0</td>\n",
       "      <td>0</td>\n",
       "      <td>1</td>\n",
       "      <td>1.0</td>\n",
       "      <td>3.0</td>\n",
       "      <td>6.0</td>\n",
       "      <td>0.48</td>\n",
       "      <td>15</td>\n",
       "      <td>12</td>\n",
       "    </tr>\n",
       "    <tr>\n",
       "      <th>18586</th>\n",
       "      <td>1</td>\n",
       "      <td>0</td>\n",
       "      <td>0</td>\n",
       "      <td>3.0</td>\n",
       "      <td>7.0</td>\n",
       "      <td>6.2</td>\n",
       "      <td>0.54</td>\n",
       "      <td>27</td>\n",
       "      <td>5</td>\n",
       "    </tr>\n",
       "    <tr>\n",
       "      <th>18587</th>\n",
       "      <td>0</td>\n",
       "      <td>0</td>\n",
       "      <td>1</td>\n",
       "      <td>3.0</td>\n",
       "      <td>6.0</td>\n",
       "      <td>6.7</td>\n",
       "      <td>0.59</td>\n",
       "      <td>19</td>\n",
       "      <td>1</td>\n",
       "    </tr>\n",
       "    <tr>\n",
       "      <th>18588</th>\n",
       "      <td>0</td>\n",
       "      <td>1</td>\n",
       "      <td>0</td>\n",
       "      <td>2.0</td>\n",
       "      <td>5.0</td>\n",
       "      <td>5.9</td>\n",
       "      <td>0.52</td>\n",
       "      <td>10</td>\n",
       "      <td>1</td>\n",
       "    </tr>\n",
       "    <tr>\n",
       "      <th>18589</th>\n",
       "      <td>1</td>\n",
       "      <td>0</td>\n",
       "      <td>0</td>\n",
       "      <td>3.0</td>\n",
       "      <td>6.0</td>\n",
       "      <td>7.8</td>\n",
       "      <td>0.61</td>\n",
       "      <td>6</td>\n",
       "      <td>1</td>\n",
       "    </tr>\n",
       "  </tbody>\n",
       "</table>\n",
       "<p>18590 rows × 9 columns</p>\n",
       "</div>"
      ],
      "text/plain": [
       "       Gender  Company Type  WFH Setup Available  Designation  \\\n",
       "0           0             1                    0          2.0   \n",
       "1           1             1                    1          1.0   \n",
       "2           1             1                    1          1.0   \n",
       "3           0             1                    0          3.0   \n",
       "4           1             0                    1          2.0   \n",
       "...       ...           ...                  ...          ...   \n",
       "18585       0             0                    1          1.0   \n",
       "18586       1             0                    0          3.0   \n",
       "18587       0             0                    1          3.0   \n",
       "18588       0             1                    0          2.0   \n",
       "18589       1             0                    0          3.0   \n",
       "\n",
       "       Resource Allocation  Mental Fatigue Score  Burn Rate  Day of Joining  \\\n",
       "0                      3.0                   3.8       0.16              30   \n",
       "1                      2.0                   5.0       0.36              30   \n",
       "2                      1.0                   2.6       0.20               3   \n",
       "3                      7.0                   6.9       0.52              24   \n",
       "4                      4.0                   3.6       0.29              26   \n",
       "...                    ...                   ...        ...             ...   \n",
       "18585                  3.0                   6.0       0.48              15   \n",
       "18586                  7.0                   6.2       0.54              27   \n",
       "18587                  6.0                   6.7       0.59              19   \n",
       "18588                  5.0                   5.9       0.52              10   \n",
       "18589                  6.0                   7.8       0.61               6   \n",
       "\n",
       "       Month of Joining  \n",
       "0                     9  \n",
       "1                    11  \n",
       "2                    11  \n",
       "3                     7  \n",
       "4                    11  \n",
       "...                 ...  \n",
       "18585                12  \n",
       "18586                 5  \n",
       "18587                 1  \n",
       "18588                 1  \n",
       "18589                 1  \n",
       "\n",
       "[18590 rows x 9 columns]"
      ]
     },
     "execution_count": 29,
     "metadata": {},
     "output_type": "execute_result"
    }
   ],
   "source": [
    "df"
   ]
  },
  {
   "cell_type": "code",
   "execution_count": 350,
   "id": "adf5cade",
   "metadata": {},
   "outputs": [],
   "source": [
    "# Split the data into x and y\n",
    "\n",
    "y= df['Burn Rate']\n",
    "x= df.drop('Burn Rate', axis=1)\n",
    "\n",
    "\n",
    "#Train Test Split\n",
    "x_train, x_test, y_train, y_test= train_test_split(x,y,train_size=0.8,random_state=1)"
   ]
  },
  {
   "cell_type": "code",
   "execution_count": 351,
   "id": "a998b5c0",
   "metadata": {},
   "outputs": [],
   "source": [
    "scaler=StandardScaler()\n",
    "scaler.fit(x_train)\n",
    "x_train=pd.DataFrame(scaler.transform(x_train), index= x_train.index, columns=x_train.columns)\n",
    "x_test=pd.DataFrame(scaler.transform(x_test), index= x_test.index, columns=x_test.columns)"
   ]
  },
  {
   "cell_type": "code",
   "execution_count": 352,
   "id": "34e79449",
   "metadata": {},
   "outputs": [],
   "source": [
    "#Training Linear Regression"
   ]
  },
  {
   "cell_type": "code",
   "execution_count": 353,
   "id": "db188653",
   "metadata": {},
   "outputs": [],
   "source": [
    "LR= LinearRegression().fit(x_train, y_train)\n",
    "y_train_pred_LR= LR.predict(x_train)"
   ]
  },
  {
   "cell_type": "code",
   "execution_count": 354,
   "id": "d11f835a",
   "metadata": {},
   "outputs": [
    {
     "name": "stdout",
     "output_type": "stream",
     "text": [
      "The coeffients for linear regression are  [ 0.00086514  0.00086514  0.00086514 -0.0057159   0.0597891   0.14292723\n",
      " -0.00056358 -0.00024144]\n",
      "The intercept for Linear Regression is :  0.4523043302850995\n"
     ]
    }
   ],
   "source": [
    "\n",
    "print(\"The coeffients for linear regression are \" , LR.coef_)\n",
    "print(\"The intercept for Linear Regression is : \" , LR.intercept_)\n"
   ]
  },
  {
   "cell_type": "code",
   "execution_count": 355,
   "id": "5989a94f",
   "metadata": {},
   "outputs": [
    {
     "name": "stdout",
     "output_type": "stream",
     "text": [
      "R^2 for Training Set :  0.9206073223345814\n",
      "Mean Absolute Error for Training Set : 0.04563531949896247\n",
      "Mean square Error for Training Set: 0.0031167654670345743\n",
      "Root Mean square Error for Training Set: 0.05582799895244835\n"
     ]
    }
   ],
   "source": [
    "# Training error\n",
    "\n",
    "\n",
    "print(\"R^2 for Training Set : \" , LR.score(x_train,y_train))\n",
    "print(\"Mean Absolute Error for Training Set :\", mean_absolute_error(y_train, y_train_pred_LR))\n",
    "print(\"Mean square Error for Training Set:\", mean_squared_error(y_train,y_train_pred_LR))\n",
    "print(\"Root Mean square Error for Training Set:\", sqrt(mean_squared_error(y_train,y_train_pred_LR)))"
   ]
  },
  {
   "cell_type": "code",
   "execution_count": 356,
   "id": "1bc274e1",
   "metadata": {},
   "outputs": [],
   "source": [
    "#Predicting the values for test set\n",
    "y_pred_LR=LR.predict(x_test)"
   ]
  },
  {
   "cell_type": "code",
   "execution_count": 357,
   "id": "bd2e3691",
   "metadata": {},
   "outputs": [
    {
     "name": "stdout",
     "output_type": "stream",
     "text": [
      "R^2 for Test Set :  0.92\n",
      "Mean Absolute Error for Test Set : 0.04640970525020264\n",
      "Mean square Error for Test Set: 0.003212345462220203\n",
      "Root Mean square Error for Test Set: 0.05667755695352617\n"
     ]
    }
   ],
   "source": [
    "#Test Errors for Linear Regression \n",
    "\n",
    "MAE_LR= mean_absolute_error(y_test, y_pred_LR)\n",
    "MSE_LR=mean_squared_error(y_test,y_pred_LR)\n",
    "RMSE_LR= sqrt(mean_squared_error(y_test,y_pred_LR))\n",
    "R2=round(LR.score(x_test,y_test),2)\n",
    "\n",
    "print(\"R^2 for Test Set : \" , R2)\n",
    "print(\"Mean Absolute Error for Test Set :\", MAE_LR)\n",
    "print(\"Mean square Error for Test Set:\", MSE_LR)\n",
    "print(\"Root Mean square Error for Test Set:\", RMSE_LR)\n"
   ]
  },
  {
   "cell_type": "code",
   "execution_count": 358,
   "id": "d8e256a0",
   "metadata": {},
   "outputs": [],
   "source": [
    "#Training Random Forest Regression \n",
    "\n",
    "RF= RandomForestRegressor().fit(x_train, y_train)\n",
    "y_train_pred_RF=RF.predict(x_train)\n",
    "y_pred_RF=RF.predict(x_test)\n"
   ]
  },
  {
   "cell_type": "code",
   "execution_count": 359,
   "id": "629200c1",
   "metadata": {},
   "outputs": [
    {
     "name": "stdout",
     "output_type": "stream",
     "text": [
      "Mean Absolute Error for Training Set : 0.01750982667973054\n",
      "Mean square Error for Training Set: 0.000501686893153037\n",
      "Root Mean square Error for Training Set: 0.022398368091292656\n"
     ]
    }
   ],
   "source": [
    "# Training error\n",
    "\n",
    "print(\"Mean Absolute Error for Training Set :\", mean_absolute_error(y_train, y_train_pred_RF))\n",
    "print(\"Mean square Error for Training Set:\", mean_squared_error(y_train,y_train_pred_RF))\n",
    "print(\"Root Mean square Error for Training Set:\", sqrt(mean_squared_error(y_train,y_train_pred_RF)))"
   ]
  },
  {
   "cell_type": "code",
   "execution_count": 360,
   "id": "e963d5ea",
   "metadata": {},
   "outputs": [
    {
     "name": "stdout",
     "output_type": "stream",
     "text": [
      "Mean Absolute Error for Test Set : 0.0455795258694297\n",
      "Mean square Error for Test Set: 0.003267373318162707\n",
      "Root Mean square Error for Test Set: 0.05716094224348219\n"
     ]
    }
   ],
   "source": [
    "#Test Error\n",
    "MAE_RF= mean_absolute_error(y_test, y_pred_RF)\n",
    "MSE_RF=mean_squared_error(y_test,y_pred_RF)\n",
    "RMSE_RF= sqrt(mean_squared_error(y_test,y_pred_RF))\n",
    "\n",
    "print(\"Mean Absolute Error for Test Set :\", MAE_RF)\n",
    "print(\"Mean square Error for Test Set:\", MSE_RF)\n",
    "print(\"Root Mean square Error for Test Set:\", RMSE_RF)"
   ]
  },
  {
   "cell_type": "code",
   "execution_count": null,
   "id": "b68a0999",
   "metadata": {},
   "outputs": [],
   "source": []
  },
  {
   "cell_type": "code",
   "execution_count": 361,
   "id": "463396f7",
   "metadata": {},
   "outputs": [],
   "source": [
    "#Training SVR\n",
    "SV= SVR().fit(x_train, y_train)\n",
    "y_train_pred_SVR= SV.predict(x_train)\n",
    "y_pred_SVR=SV.predict(x_test)"
   ]
  },
  {
   "cell_type": "code",
   "execution_count": 362,
   "id": "9e8e852c",
   "metadata": {},
   "outputs": [
    {
     "name": "stdout",
     "output_type": "stream",
     "text": [
      "Mean Absolute Error for Training Set : 0.04916190361638224\n",
      "Mean square Error for Training Set: 0.003336128762526102\n",
      "Root Mean square Error for Training Set: 0.057759230972426405\n"
     ]
    }
   ],
   "source": [
    "# Training error\n",
    "\n",
    "print(\"Mean Absolute Error for Training Set :\", mean_absolute_error(y_train, y_train_pred_SVR))\n",
    "print(\"Mean square Error for Training Set:\", mean_squared_error(y_train,y_train_pred_SVR))\n",
    "print(\"Root Mean square Error for Training Set:\", sqrt(mean_squared_error(y_train,y_train_pred_SVR)))"
   ]
  },
  {
   "cell_type": "code",
   "execution_count": 363,
   "id": "a5ba70cb",
   "metadata": {},
   "outputs": [
    {
     "name": "stdout",
     "output_type": "stream",
     "text": [
      "Mean Absolute Error for Test Set : 0.04944618805577363\n",
      "Mean square Error for Test Set: 0.0034056033686410726\n",
      "Root Mean square Error for Test Set: 0.05835754765787432\n"
     ]
    }
   ],
   "source": [
    "# Test error for SVR\n",
    "\n",
    "MAE_SVR= mean_absolute_error(y_test, y_pred_SVR)\n",
    "MSE_SVR=mean_squared_error(y_test,y_pred_SVR)\n",
    "RMSE_SVR= sqrt(mean_squared_error(y_test,y_pred_SVR))\n",
    "\n",
    "print(\"Mean Absolute Error for Test Set :\", MAE_SVR)\n",
    "print(\"Mean square Error for Test Set:\", MSE_SVR)\n",
    "print(\"Root Mean square Error for Test Set:\", RMSE_SVR)"
   ]
  },
  {
   "cell_type": "code",
   "execution_count": 364,
   "id": "877f7650",
   "metadata": {},
   "outputs": [],
   "source": [
    "\n",
    "\n",
    "Errors ={  \"Mean absolute Error\":  [MAE_LR,MAE_SVR,MAE_RF], \n",
    "            \"Mean Square Error\":   [MSE_LR,MSE_SVR,MSE_RF],\n",
    "            \"Root Mean Square Error\": [RMSE_LR,RMSE_SVR,RMSE_RF]\n",
    "         }\n",
    "\n"
   ]
  },
  {
   "cell_type": "code",
   "execution_count": 365,
   "id": "7685a989",
   "metadata": {
    "scrolled": true
   },
   "outputs": [
    {
     "name": "stdout",
     "output_type": "stream",
     "text": [
      "Mean absolute Error for Linear Regression = 0.04640970525020264\n",
      "Mean absolute Error for Support Vector Regression = 0.04944618805577363\n",
      "Mean absolute Error for Random Forest Regression = 0.0455795258694297\n",
      "\n",
      "\n",
      "Mean Square Error for Linear Regression = 0.003212345462220203\n",
      "Mean Square Error for Support Vector Regression = 0.0034056033686410726\n",
      "Mean Square Error for Random Forest Regression = 0.003267373318162707\n",
      "\n",
      "\n",
      "Root Mean Square Error for Linear Regression = 0.05667755695352617\n",
      "Root Mean Square Error for Support Vector Regression = 0.05835754765787432\n",
      "Root Mean Square Error for Random Forest Regression = 0.05716094224348219\n",
      "\n",
      "\n"
     ]
    }
   ],
   "source": [
    "#comparison of errors for different models\n",
    "\n",
    "for key,value in Errors.items():\n",
    "    print(key, \"for Linear Regression =\", value[0])\n",
    "    print(key, \"for Support Vector Regression =\", value[1])\n",
    "    print(key, \"for Random Forest Regression =\", value[2])\n",
    "    print(\"\\n\")\n",
    "   \n",
    "    \n",
    "    "
   ]
  },
  {
   "cell_type": "code",
   "execution_count": null,
   "id": "e7c3a90a",
   "metadata": {},
   "outputs": [],
   "source": []
  }
 ],
 "metadata": {
  "kernelspec": {
   "display_name": "Python 3 (ipykernel)",
   "language": "python",
   "name": "python3"
  },
  "language_info": {
   "codemirror_mode": {
    "name": "ipython",
    "version": 3
   },
   "file_extension": ".py",
   "mimetype": "text/x-python",
   "name": "python",
   "nbconvert_exporter": "python",
   "pygments_lexer": "ipython3",
   "version": "3.9.7"
  }
 },
 "nbformat": 4,
 "nbformat_minor": 5
}
